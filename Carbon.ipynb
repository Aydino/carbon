{
  "nbformat": 4,
  "nbformat_minor": 0,
  "metadata": {
    "colab": {
      "name": "Carbon.ipynb",
      "provenance": [],
      "collapsed_sections": [],
      "toc_visible": true,
      "authorship_tag": "ABX9TyNSydkXEdWuQgXsnhTqMuQY",
      "include_colab_link": true
    },
    "kernelspec": {
      "name": "python3",
      "display_name": "Python 3"
    },
    "language_info": {
      "name": "python"
    }
  },
  "cells": [
    {
      "cell_type": "markdown",
      "metadata": {
        "id": "view-in-github",
        "colab_type": "text"
      },
      "source": [
        "<a href=\"https://colab.research.google.com/github/Aydino/carbon/blob/main/Carbon.ipynb\" target=\"_parent\"><img src=\"https://colab.research.google.com/assets/colab-badge.svg\" alt=\"Open In Colab\"/></a>"
      ]
    },
    {
      "cell_type": "markdown",
      "source": [
        "Carbon analysis. "
      ],
      "metadata": {
        "id": "T3OFfOOQ8kXQ"
      }
    },
    {
      "cell_type": "markdown",
      "source": [
        "# DATA DESCRIPTIVE ANALYSIS"
      ],
      "metadata": {
        "id": "l3nHjpHj9eWl"
      }
    },
    {
      "cell_type": "markdown",
      "source": [
        "First import libraries"
      ],
      "metadata": {
        "id": "i8AAT2zN9IXx"
      }
    },
    {
      "cell_type": "code",
      "source": [
        "import pandas as pd\n",
        "import numpy as np\n",
        "import seaborn as sns                       #visualisation\n",
        "import matplotlib.pyplot as plt             #visualisation\n",
        "%matplotlib inline     \n",
        "sns.set(color_codes=True)\n",
        "from sklearn.model_selection import train_test_split\n",
        "from sklearn.ensemble import RandomForestRegressor\n",
        "from sklearn.metrics import confusion_matrix\n",
        "from sklearn.metrics import roc_curve\n",
        "from IPython.display import display, HTML\n"
      ],
      "metadata": {
        "id": "fcB5Qh_38sFJ"
      },
      "execution_count": 128,
      "outputs": []
    },
    {
      "cell_type": "markdown",
      "source": [
        "Import data"
      ],
      "metadata": {
        "id": "3G4CFr6E9T1D"
      }
    },
    {
      "cell_type": "code",
      "source": [
        "df = pd.read_csv(\"Data.csv\")\n",
        "# To display the top 5 rows \n",
        "df.head(5)  "
      ],
      "metadata": {
        "colab": {
          "base_uri": "https://localhost:8080/",
          "height": 322
        },
        "id": "9f3gcJXS9W_c",
        "outputId": "69b3d1c7-5182-4805-e16b-cf0310ae46a9"
      },
      "execution_count": 74,
      "outputs": [
        {
          "output_type": "execute_result",
          "data": {
            "text/html": [
              "\n",
              "  <div id=\"df-37881049-8fef-4698-81fa-32610c4ab973\">\n",
              "    <div class=\"colab-df-container\">\n",
              "      <div>\n",
              "<style scoped>\n",
              "    .dataframe tbody tr th:only-of-type {\n",
              "        vertical-align: middle;\n",
              "    }\n",
              "\n",
              "    .dataframe tbody tr th {\n",
              "        vertical-align: top;\n",
              "    }\n",
              "\n",
              "    .dataframe thead th {\n",
              "        text-align: right;\n",
              "    }\n",
              "</style>\n",
              "<table border=\"1\" class=\"dataframe\">\n",
              "  <thead>\n",
              "    <tr style=\"text-align: right;\">\n",
              "      <th></th>\n",
              "      <th>BLDG_PUBID</th>\n",
              "      <th>BLDG_TYP</th>\n",
              "      <th>BLDG_US</th>\n",
              "      <th>BLDG_LOC_REGION</th>\n",
              "      <th>BLDG_NEW_REN</th>\n",
              "      <th>$BLDG_AREA_M2</th>\n",
              "      <th>$BLDG_AREA_FT2</th>\n",
              "      <th>BLDG_STOR_A</th>\n",
              "      <th>$BLDG_STOR_A</th>\n",
              "      <th>LCA_YEAR</th>\n",
              "      <th>LCA_REFPERIOD</th>\n",
              "      <th>LCA_SOUR_CODE</th>\n",
              "      <th>LCA_STAGES</th>\n",
              "      <th>LCA_BLDG_SCOPE</th>\n",
              "      <th>LCA_MAT_Q</th>\n",
              "      <th>EC_WB_EX_OPER</th>\n",
              "      <th>EC_LCAA_PERM2</th>\n",
              "    </tr>\n",
              "  </thead>\n",
              "  <tbody>\n",
              "    <tr>\n",
              "      <th>0</th>\n",
              "      <td>A00</td>\n",
              "      <td>Commercial</td>\n",
              "      <td>Mixed use</td>\n",
              "      <td>Middle East</td>\n",
              "      <td>New</td>\n",
              "      <td>46452 to 92903</td>\n",
              "      <td>500,001 to 1 million</td>\n",
              "      <td>0</td>\n",
              "      <td>More than 25</td>\n",
              "      <td>2016.0</td>\n",
              "      <td>40.0</td>\n",
              "      <td>41.0</td>\n",
              "      <td>AB</td>\n",
              "      <td>SF</td>\n",
              "      <td>Y</td>\n",
              "      <td>2567.39</td>\n",
              "      <td>2521.63</td>\n",
              "    </tr>\n",
              "    <tr>\n",
              "      <th>1</th>\n",
              "      <td>A00</td>\n",
              "      <td>Commercial</td>\n",
              "      <td>Other</td>\n",
              "      <td>North America</td>\n",
              "      <td>New</td>\n",
              "      <td>46452 to 92903</td>\n",
              "      <td>500,001 to 1 million</td>\n",
              "      <td>0</td>\n",
              "      <td>7 to 14</td>\n",
              "      <td>2016.0</td>\n",
              "      <td>40.0</td>\n",
              "      <td>41.0</td>\n",
              "      <td>AB</td>\n",
              "      <td>SF</td>\n",
              "      <td>Y</td>\n",
              "      <td>1699.34</td>\n",
              "      <td>1332.55</td>\n",
              "    </tr>\n",
              "    <tr>\n",
              "      <th>2</th>\n",
              "      <td>A00</td>\n",
              "      <td>Commercial</td>\n",
              "      <td>Office</td>\n",
              "      <td>Europe</td>\n",
              "      <td>New</td>\n",
              "      <td>46452 to 92903</td>\n",
              "      <td>500,001 to 1 million</td>\n",
              "      <td>0</td>\n",
              "      <td>More than 25</td>\n",
              "      <td>2016.0</td>\n",
              "      <td>40.0</td>\n",
              "      <td>41.0</td>\n",
              "      <td>AB</td>\n",
              "      <td>SF</td>\n",
              "      <td>Y</td>\n",
              "      <td>1303.39</td>\n",
              "      <td>1031.76</td>\n",
              "    </tr>\n",
              "    <tr>\n",
              "      <th>3</th>\n",
              "      <td>A00</td>\n",
              "      <td>Commercial</td>\n",
              "      <td>Other</td>\n",
              "      <td>North America</td>\n",
              "      <td>New</td>\n",
              "      <td>930 to 2323</td>\n",
              "      <td>10,001 to 25,000</td>\n",
              "      <td>0</td>\n",
              "      <td>1 to 6</td>\n",
              "      <td>2016.0</td>\n",
              "      <td>40.0</td>\n",
              "      <td>41.0</td>\n",
              "      <td>AB</td>\n",
              "      <td>SF</td>\n",
              "      <td>Y</td>\n",
              "      <td>1211.33</td>\n",
              "      <td>938.69</td>\n",
              "    </tr>\n",
              "    <tr>\n",
              "      <th>4</th>\n",
              "      <td>A00</td>\n",
              "      <td>Commercial</td>\n",
              "      <td>Office</td>\n",
              "      <td>Asia-Pacific</td>\n",
              "      <td>New</td>\n",
              "      <td>Over 92903</td>\n",
              "      <td>Over 1 million</td>\n",
              "      <td>0</td>\n",
              "      <td>15 to 25</td>\n",
              "      <td>2016.0</td>\n",
              "      <td>40.0</td>\n",
              "      <td>41.0</td>\n",
              "      <td>AB</td>\n",
              "      <td>SF</td>\n",
              "      <td>Y</td>\n",
              "      <td>1087.86</td>\n",
              "      <td>937.59</td>\n",
              "    </tr>\n",
              "  </tbody>\n",
              "</table>\n",
              "</div>\n",
              "      <button class=\"colab-df-convert\" onclick=\"convertToInteractive('df-37881049-8fef-4698-81fa-32610c4ab973')\"\n",
              "              title=\"Convert this dataframe to an interactive table.\"\n",
              "              style=\"display:none;\">\n",
              "        \n",
              "  <svg xmlns=\"http://www.w3.org/2000/svg\" height=\"24px\"viewBox=\"0 0 24 24\"\n",
              "       width=\"24px\">\n",
              "    <path d=\"M0 0h24v24H0V0z\" fill=\"none\"/>\n",
              "    <path d=\"M18.56 5.44l.94 2.06.94-2.06 2.06-.94-2.06-.94-.94-2.06-.94 2.06-2.06.94zm-11 1L8.5 8.5l.94-2.06 2.06-.94-2.06-.94L8.5 2.5l-.94 2.06-2.06.94zm10 10l.94 2.06.94-2.06 2.06-.94-2.06-.94-.94-2.06-.94 2.06-2.06.94z\"/><path d=\"M17.41 7.96l-1.37-1.37c-.4-.4-.92-.59-1.43-.59-.52 0-1.04.2-1.43.59L10.3 9.45l-7.72 7.72c-.78.78-.78 2.05 0 2.83L4 21.41c.39.39.9.59 1.41.59.51 0 1.02-.2 1.41-.59l7.78-7.78 2.81-2.81c.8-.78.8-2.07 0-2.86zM5.41 20L4 18.59l7.72-7.72 1.47 1.35L5.41 20z\"/>\n",
              "  </svg>\n",
              "      </button>\n",
              "      \n",
              "  <style>\n",
              "    .colab-df-container {\n",
              "      display:flex;\n",
              "      flex-wrap:wrap;\n",
              "      gap: 12px;\n",
              "    }\n",
              "\n",
              "    .colab-df-convert {\n",
              "      background-color: #E8F0FE;\n",
              "      border: none;\n",
              "      border-radius: 50%;\n",
              "      cursor: pointer;\n",
              "      display: none;\n",
              "      fill: #1967D2;\n",
              "      height: 32px;\n",
              "      padding: 0 0 0 0;\n",
              "      width: 32px;\n",
              "    }\n",
              "\n",
              "    .colab-df-convert:hover {\n",
              "      background-color: #E2EBFA;\n",
              "      box-shadow: 0px 1px 2px rgba(60, 64, 67, 0.3), 0px 1px 3px 1px rgba(60, 64, 67, 0.15);\n",
              "      fill: #174EA6;\n",
              "    }\n",
              "\n",
              "    [theme=dark] .colab-df-convert {\n",
              "      background-color: #3B4455;\n",
              "      fill: #D2E3FC;\n",
              "    }\n",
              "\n",
              "    [theme=dark] .colab-df-convert:hover {\n",
              "      background-color: #434B5C;\n",
              "      box-shadow: 0px 1px 3px 1px rgba(0, 0, 0, 0.15);\n",
              "      filter: drop-shadow(0px 1px 2px rgba(0, 0, 0, 0.3));\n",
              "      fill: #FFFFFF;\n",
              "    }\n",
              "  </style>\n",
              "\n",
              "      <script>\n",
              "        const buttonEl =\n",
              "          document.querySelector('#df-37881049-8fef-4698-81fa-32610c4ab973 button.colab-df-convert');\n",
              "        buttonEl.style.display =\n",
              "          google.colab.kernel.accessAllowed ? 'block' : 'none';\n",
              "\n",
              "        async function convertToInteractive(key) {\n",
              "          const element = document.querySelector('#df-37881049-8fef-4698-81fa-32610c4ab973');\n",
              "          const dataTable =\n",
              "            await google.colab.kernel.invokeFunction('convertToInteractive',\n",
              "                                                     [key], {});\n",
              "          if (!dataTable) return;\n",
              "\n",
              "          const docLinkHtml = 'Like what you see? Visit the ' +\n",
              "            '<a target=\"_blank\" href=https://colab.research.google.com/notebooks/data_table.ipynb>data table notebook</a>'\n",
              "            + ' to learn more about interactive tables.';\n",
              "          element.innerHTML = '';\n",
              "          dataTable['output_type'] = 'display_data';\n",
              "          await google.colab.output.renderOutput(dataTable, element);\n",
              "          const docLink = document.createElement('div');\n",
              "          docLink.innerHTML = docLinkHtml;\n",
              "          element.appendChild(docLink);\n",
              "        }\n",
              "      </script>\n",
              "    </div>\n",
              "  </div>\n",
              "  "
            ],
            "text/plain": [
              "  BLDG_PUBID    BLDG_TYP    BLDG_US  ... LCA_MAT_Q EC_WB_EX_OPER EC_LCAA_PERM2\n",
              "0        A00  Commercial  Mixed use  ...         Y       2567.39       2521.63\n",
              "1        A00  Commercial      Other  ...         Y       1699.34       1332.55\n",
              "2        A00  Commercial     Office  ...         Y       1303.39       1031.76\n",
              "3        A00  Commercial      Other  ...         Y       1211.33        938.69\n",
              "4        A00  Commercial     Office  ...         Y       1087.86        937.59\n",
              "\n",
              "[5 rows x 17 columns]"
            ]
          },
          "metadata": {},
          "execution_count": 74
        }
      ]
    },
    {
      "cell_type": "markdown",
      "source": [
        "Checking the types of data"
      ],
      "metadata": {
        "id": "yEvB6loZ9y7F"
      }
    },
    {
      "cell_type": "code",
      "source": [
        "df.dtypes"
      ],
      "metadata": {
        "colab": {
          "base_uri": "https://localhost:8080/"
        },
        "id": "AyauHxmS90Oc",
        "outputId": "951ab9b1-033a-4fdd-c6bd-92a448ca02a7"
      },
      "execution_count": 75,
      "outputs": [
        {
          "output_type": "execute_result",
          "data": {
            "text/plain": [
              "BLDG_PUBID          object\n",
              "BLDG_TYP            object\n",
              "BLDG_US             object\n",
              "BLDG_LOC_REGION     object\n",
              "BLDG_NEW_REN        object\n",
              "$BLDG_AREA_M2       object\n",
              "$BLDG_AREA_FT2      object\n",
              "BLDG_STOR_A          int64\n",
              "$BLDG_STOR_A        object\n",
              "LCA_YEAR           float64\n",
              "LCA_REFPERIOD      float64\n",
              "LCA_SOUR_CODE      float64\n",
              "LCA_STAGES          object\n",
              "LCA_BLDG_SCOPE      object\n",
              "LCA_MAT_Q           object\n",
              "EC_WB_EX_OPER      float64\n",
              "EC_LCAA_PERM2      float64\n",
              "dtype: object"
            ]
          },
          "metadata": {},
          "execution_count": 75
        }
      ]
    },
    {
      "cell_type": "markdown",
      "source": [
        "Dropping irrelevant columns"
      ],
      "metadata": {
        "id": "gSomk1cf-FeQ"
      }
    },
    {
      "cell_type": "code",
      "source": [
        "df=df.drop(['BLDG_PUBID','BLDG_STOR_A','LCA_YEAR','LCA_REFPERIOD','LCA_SOUR_CODE','LCA_STAGES','LCA_BLDG_SCOPE','LCA_MAT_Q','$BLDG_AREA_FT2' ],axis=1)\n",
        "df.head(5)\n"
      ],
      "metadata": {
        "colab": {
          "base_uri": "https://localhost:8080/",
          "height": 206
        },
        "id": "qrm6GpMo-Id1",
        "outputId": "3c07bfbc-e8b8-442b-e731-f401e0c1f255"
      },
      "execution_count": 76,
      "outputs": [
        {
          "output_type": "execute_result",
          "data": {
            "text/html": [
              "\n",
              "  <div id=\"df-bcb236db-0576-42dc-a81a-10123c1a0155\">\n",
              "    <div class=\"colab-df-container\">\n",
              "      <div>\n",
              "<style scoped>\n",
              "    .dataframe tbody tr th:only-of-type {\n",
              "        vertical-align: middle;\n",
              "    }\n",
              "\n",
              "    .dataframe tbody tr th {\n",
              "        vertical-align: top;\n",
              "    }\n",
              "\n",
              "    .dataframe thead th {\n",
              "        text-align: right;\n",
              "    }\n",
              "</style>\n",
              "<table border=\"1\" class=\"dataframe\">\n",
              "  <thead>\n",
              "    <tr style=\"text-align: right;\">\n",
              "      <th></th>\n",
              "      <th>BLDG_TYP</th>\n",
              "      <th>BLDG_US</th>\n",
              "      <th>BLDG_LOC_REGION</th>\n",
              "      <th>BLDG_NEW_REN</th>\n",
              "      <th>$BLDG_AREA_M2</th>\n",
              "      <th>$BLDG_STOR_A</th>\n",
              "      <th>EC_WB_EX_OPER</th>\n",
              "      <th>EC_LCAA_PERM2</th>\n",
              "    </tr>\n",
              "  </thead>\n",
              "  <tbody>\n",
              "    <tr>\n",
              "      <th>0</th>\n",
              "      <td>Commercial</td>\n",
              "      <td>Mixed use</td>\n",
              "      <td>Middle East</td>\n",
              "      <td>New</td>\n",
              "      <td>46452 to 92903</td>\n",
              "      <td>More than 25</td>\n",
              "      <td>2567.39</td>\n",
              "      <td>2521.63</td>\n",
              "    </tr>\n",
              "    <tr>\n",
              "      <th>1</th>\n",
              "      <td>Commercial</td>\n",
              "      <td>Other</td>\n",
              "      <td>North America</td>\n",
              "      <td>New</td>\n",
              "      <td>46452 to 92903</td>\n",
              "      <td>7 to 14</td>\n",
              "      <td>1699.34</td>\n",
              "      <td>1332.55</td>\n",
              "    </tr>\n",
              "    <tr>\n",
              "      <th>2</th>\n",
              "      <td>Commercial</td>\n",
              "      <td>Office</td>\n",
              "      <td>Europe</td>\n",
              "      <td>New</td>\n",
              "      <td>46452 to 92903</td>\n",
              "      <td>More than 25</td>\n",
              "      <td>1303.39</td>\n",
              "      <td>1031.76</td>\n",
              "    </tr>\n",
              "    <tr>\n",
              "      <th>3</th>\n",
              "      <td>Commercial</td>\n",
              "      <td>Other</td>\n",
              "      <td>North America</td>\n",
              "      <td>New</td>\n",
              "      <td>930 to 2323</td>\n",
              "      <td>1 to 6</td>\n",
              "      <td>1211.33</td>\n",
              "      <td>938.69</td>\n",
              "    </tr>\n",
              "    <tr>\n",
              "      <th>4</th>\n",
              "      <td>Commercial</td>\n",
              "      <td>Office</td>\n",
              "      <td>Asia-Pacific</td>\n",
              "      <td>New</td>\n",
              "      <td>Over 92903</td>\n",
              "      <td>15 to 25</td>\n",
              "      <td>1087.86</td>\n",
              "      <td>937.59</td>\n",
              "    </tr>\n",
              "  </tbody>\n",
              "</table>\n",
              "</div>\n",
              "      <button class=\"colab-df-convert\" onclick=\"convertToInteractive('df-bcb236db-0576-42dc-a81a-10123c1a0155')\"\n",
              "              title=\"Convert this dataframe to an interactive table.\"\n",
              "              style=\"display:none;\">\n",
              "        \n",
              "  <svg xmlns=\"http://www.w3.org/2000/svg\" height=\"24px\"viewBox=\"0 0 24 24\"\n",
              "       width=\"24px\">\n",
              "    <path d=\"M0 0h24v24H0V0z\" fill=\"none\"/>\n",
              "    <path d=\"M18.56 5.44l.94 2.06.94-2.06 2.06-.94-2.06-.94-.94-2.06-.94 2.06-2.06.94zm-11 1L8.5 8.5l.94-2.06 2.06-.94-2.06-.94L8.5 2.5l-.94 2.06-2.06.94zm10 10l.94 2.06.94-2.06 2.06-.94-2.06-.94-.94-2.06-.94 2.06-2.06.94z\"/><path d=\"M17.41 7.96l-1.37-1.37c-.4-.4-.92-.59-1.43-.59-.52 0-1.04.2-1.43.59L10.3 9.45l-7.72 7.72c-.78.78-.78 2.05 0 2.83L4 21.41c.39.39.9.59 1.41.59.51 0 1.02-.2 1.41-.59l7.78-7.78 2.81-2.81c.8-.78.8-2.07 0-2.86zM5.41 20L4 18.59l7.72-7.72 1.47 1.35L5.41 20z\"/>\n",
              "  </svg>\n",
              "      </button>\n",
              "      \n",
              "  <style>\n",
              "    .colab-df-container {\n",
              "      display:flex;\n",
              "      flex-wrap:wrap;\n",
              "      gap: 12px;\n",
              "    }\n",
              "\n",
              "    .colab-df-convert {\n",
              "      background-color: #E8F0FE;\n",
              "      border: none;\n",
              "      border-radius: 50%;\n",
              "      cursor: pointer;\n",
              "      display: none;\n",
              "      fill: #1967D2;\n",
              "      height: 32px;\n",
              "      padding: 0 0 0 0;\n",
              "      width: 32px;\n",
              "    }\n",
              "\n",
              "    .colab-df-convert:hover {\n",
              "      background-color: #E2EBFA;\n",
              "      box-shadow: 0px 1px 2px rgba(60, 64, 67, 0.3), 0px 1px 3px 1px rgba(60, 64, 67, 0.15);\n",
              "      fill: #174EA6;\n",
              "    }\n",
              "\n",
              "    [theme=dark] .colab-df-convert {\n",
              "      background-color: #3B4455;\n",
              "      fill: #D2E3FC;\n",
              "    }\n",
              "\n",
              "    [theme=dark] .colab-df-convert:hover {\n",
              "      background-color: #434B5C;\n",
              "      box-shadow: 0px 1px 3px 1px rgba(0, 0, 0, 0.15);\n",
              "      filter: drop-shadow(0px 1px 2px rgba(0, 0, 0, 0.3));\n",
              "      fill: #FFFFFF;\n",
              "    }\n",
              "  </style>\n",
              "\n",
              "      <script>\n",
              "        const buttonEl =\n",
              "          document.querySelector('#df-bcb236db-0576-42dc-a81a-10123c1a0155 button.colab-df-convert');\n",
              "        buttonEl.style.display =\n",
              "          google.colab.kernel.accessAllowed ? 'block' : 'none';\n",
              "\n",
              "        async function convertToInteractive(key) {\n",
              "          const element = document.querySelector('#df-bcb236db-0576-42dc-a81a-10123c1a0155');\n",
              "          const dataTable =\n",
              "            await google.colab.kernel.invokeFunction('convertToInteractive',\n",
              "                                                     [key], {});\n",
              "          if (!dataTable) return;\n",
              "\n",
              "          const docLinkHtml = 'Like what you see? Visit the ' +\n",
              "            '<a target=\"_blank\" href=https://colab.research.google.com/notebooks/data_table.ipynb>data table notebook</a>'\n",
              "            + ' to learn more about interactive tables.';\n",
              "          element.innerHTML = '';\n",
              "          dataTable['output_type'] = 'display_data';\n",
              "          await google.colab.output.renderOutput(dataTable, element);\n",
              "          const docLink = document.createElement('div');\n",
              "          docLink.innerHTML = docLinkHtml;\n",
              "          element.appendChild(docLink);\n",
              "        }\n",
              "      </script>\n",
              "    </div>\n",
              "  </div>\n",
              "  "
            ],
            "text/plain": [
              "     BLDG_TYP    BLDG_US  ... EC_WB_EX_OPER EC_LCAA_PERM2\n",
              "0  Commercial  Mixed use  ...       2567.39       2521.63\n",
              "1  Commercial      Other  ...       1699.34       1332.55\n",
              "2  Commercial     Office  ...       1303.39       1031.76\n",
              "3  Commercial      Other  ...       1211.33        938.69\n",
              "4  Commercial     Office  ...       1087.86        937.59\n",
              "\n",
              "[5 rows x 8 columns]"
            ]
          },
          "metadata": {},
          "execution_count": 76
        }
      ]
    },
    {
      "cell_type": "code",
      "source": [
        "df.shape"
      ],
      "metadata": {
        "colab": {
          "base_uri": "https://localhost:8080/"
        },
        "id": "37SvIT8w_qkd",
        "outputId": "b47b0fc8-f1c0-4019-93e2-7999f7ab2e05"
      },
      "execution_count": 77,
      "outputs": [
        {
          "output_type": "execute_result",
          "data": {
            "text/plain": [
              "(1191, 8)"
            ]
          },
          "metadata": {},
          "execution_count": 77
        }
      ]
    },
    {
      "cell_type": "markdown",
      "source": [
        "Dublicate Check"
      ],
      "metadata": {
        "id": "JStay9QV_0PA"
      }
    },
    {
      "cell_type": "code",
      "source": [
        "duplicate_rows_df = df[df.duplicated()]\n",
        "print(\"number of duplicate rows: \", duplicate_rows_df.shape)"
      ],
      "metadata": {
        "colab": {
          "base_uri": "https://localhost:8080/"
        },
        "id": "4lKiVfvr_18v",
        "outputId": "0ddb86c1-da2e-411a-951f-6412c31d60c9"
      },
      "execution_count": 78,
      "outputs": [
        {
          "output_type": "stream",
          "name": "stdout",
          "text": [
            "number of duplicate rows:  (58, 8)\n"
          ]
        }
      ]
    },
    {
      "cell_type": "markdown",
      "source": [
        "Drop Dublicates"
      ],
      "metadata": {
        "id": "XT_Rxb48_9BQ"
      }
    },
    {
      "cell_type": "code",
      "source": [
        "df = df.drop_duplicates()\n",
        "df.head(5)"
      ],
      "metadata": {
        "colab": {
          "base_uri": "https://localhost:8080/",
          "height": 206
        },
        "id": "xu8j5adjABdf",
        "outputId": "b9c756fb-460c-4773-92be-1c79f357896e"
      },
      "execution_count": 79,
      "outputs": [
        {
          "output_type": "execute_result",
          "data": {
            "text/html": [
              "\n",
              "  <div id=\"df-75505637-f2eb-4641-a751-e583b42c188c\">\n",
              "    <div class=\"colab-df-container\">\n",
              "      <div>\n",
              "<style scoped>\n",
              "    .dataframe tbody tr th:only-of-type {\n",
              "        vertical-align: middle;\n",
              "    }\n",
              "\n",
              "    .dataframe tbody tr th {\n",
              "        vertical-align: top;\n",
              "    }\n",
              "\n",
              "    .dataframe thead th {\n",
              "        text-align: right;\n",
              "    }\n",
              "</style>\n",
              "<table border=\"1\" class=\"dataframe\">\n",
              "  <thead>\n",
              "    <tr style=\"text-align: right;\">\n",
              "      <th></th>\n",
              "      <th>BLDG_TYP</th>\n",
              "      <th>BLDG_US</th>\n",
              "      <th>BLDG_LOC_REGION</th>\n",
              "      <th>BLDG_NEW_REN</th>\n",
              "      <th>$BLDG_AREA_M2</th>\n",
              "      <th>$BLDG_STOR_A</th>\n",
              "      <th>EC_WB_EX_OPER</th>\n",
              "      <th>EC_LCAA_PERM2</th>\n",
              "    </tr>\n",
              "  </thead>\n",
              "  <tbody>\n",
              "    <tr>\n",
              "      <th>0</th>\n",
              "      <td>Commercial</td>\n",
              "      <td>Mixed use</td>\n",
              "      <td>Middle East</td>\n",
              "      <td>New</td>\n",
              "      <td>46452 to 92903</td>\n",
              "      <td>More than 25</td>\n",
              "      <td>2567.39</td>\n",
              "      <td>2521.63</td>\n",
              "    </tr>\n",
              "    <tr>\n",
              "      <th>1</th>\n",
              "      <td>Commercial</td>\n",
              "      <td>Other</td>\n",
              "      <td>North America</td>\n",
              "      <td>New</td>\n",
              "      <td>46452 to 92903</td>\n",
              "      <td>7 to 14</td>\n",
              "      <td>1699.34</td>\n",
              "      <td>1332.55</td>\n",
              "    </tr>\n",
              "    <tr>\n",
              "      <th>2</th>\n",
              "      <td>Commercial</td>\n",
              "      <td>Office</td>\n",
              "      <td>Europe</td>\n",
              "      <td>New</td>\n",
              "      <td>46452 to 92903</td>\n",
              "      <td>More than 25</td>\n",
              "      <td>1303.39</td>\n",
              "      <td>1031.76</td>\n",
              "    </tr>\n",
              "    <tr>\n",
              "      <th>3</th>\n",
              "      <td>Commercial</td>\n",
              "      <td>Other</td>\n",
              "      <td>North America</td>\n",
              "      <td>New</td>\n",
              "      <td>930 to 2323</td>\n",
              "      <td>1 to 6</td>\n",
              "      <td>1211.33</td>\n",
              "      <td>938.69</td>\n",
              "    </tr>\n",
              "    <tr>\n",
              "      <th>4</th>\n",
              "      <td>Commercial</td>\n",
              "      <td>Office</td>\n",
              "      <td>Asia-Pacific</td>\n",
              "      <td>New</td>\n",
              "      <td>Over 92903</td>\n",
              "      <td>15 to 25</td>\n",
              "      <td>1087.86</td>\n",
              "      <td>937.59</td>\n",
              "    </tr>\n",
              "  </tbody>\n",
              "</table>\n",
              "</div>\n",
              "      <button class=\"colab-df-convert\" onclick=\"convertToInteractive('df-75505637-f2eb-4641-a751-e583b42c188c')\"\n",
              "              title=\"Convert this dataframe to an interactive table.\"\n",
              "              style=\"display:none;\">\n",
              "        \n",
              "  <svg xmlns=\"http://www.w3.org/2000/svg\" height=\"24px\"viewBox=\"0 0 24 24\"\n",
              "       width=\"24px\">\n",
              "    <path d=\"M0 0h24v24H0V0z\" fill=\"none\"/>\n",
              "    <path d=\"M18.56 5.44l.94 2.06.94-2.06 2.06-.94-2.06-.94-.94-2.06-.94 2.06-2.06.94zm-11 1L8.5 8.5l.94-2.06 2.06-.94-2.06-.94L8.5 2.5l-.94 2.06-2.06.94zm10 10l.94 2.06.94-2.06 2.06-.94-2.06-.94-.94-2.06-.94 2.06-2.06.94z\"/><path d=\"M17.41 7.96l-1.37-1.37c-.4-.4-.92-.59-1.43-.59-.52 0-1.04.2-1.43.59L10.3 9.45l-7.72 7.72c-.78.78-.78 2.05 0 2.83L4 21.41c.39.39.9.59 1.41.59.51 0 1.02-.2 1.41-.59l7.78-7.78 2.81-2.81c.8-.78.8-2.07 0-2.86zM5.41 20L4 18.59l7.72-7.72 1.47 1.35L5.41 20z\"/>\n",
              "  </svg>\n",
              "      </button>\n",
              "      \n",
              "  <style>\n",
              "    .colab-df-container {\n",
              "      display:flex;\n",
              "      flex-wrap:wrap;\n",
              "      gap: 12px;\n",
              "    }\n",
              "\n",
              "    .colab-df-convert {\n",
              "      background-color: #E8F0FE;\n",
              "      border: none;\n",
              "      border-radius: 50%;\n",
              "      cursor: pointer;\n",
              "      display: none;\n",
              "      fill: #1967D2;\n",
              "      height: 32px;\n",
              "      padding: 0 0 0 0;\n",
              "      width: 32px;\n",
              "    }\n",
              "\n",
              "    .colab-df-convert:hover {\n",
              "      background-color: #E2EBFA;\n",
              "      box-shadow: 0px 1px 2px rgba(60, 64, 67, 0.3), 0px 1px 3px 1px rgba(60, 64, 67, 0.15);\n",
              "      fill: #174EA6;\n",
              "    }\n",
              "\n",
              "    [theme=dark] .colab-df-convert {\n",
              "      background-color: #3B4455;\n",
              "      fill: #D2E3FC;\n",
              "    }\n",
              "\n",
              "    [theme=dark] .colab-df-convert:hover {\n",
              "      background-color: #434B5C;\n",
              "      box-shadow: 0px 1px 3px 1px rgba(0, 0, 0, 0.15);\n",
              "      filter: drop-shadow(0px 1px 2px rgba(0, 0, 0, 0.3));\n",
              "      fill: #FFFFFF;\n",
              "    }\n",
              "  </style>\n",
              "\n",
              "      <script>\n",
              "        const buttonEl =\n",
              "          document.querySelector('#df-75505637-f2eb-4641-a751-e583b42c188c button.colab-df-convert');\n",
              "        buttonEl.style.display =\n",
              "          google.colab.kernel.accessAllowed ? 'block' : 'none';\n",
              "\n",
              "        async function convertToInteractive(key) {\n",
              "          const element = document.querySelector('#df-75505637-f2eb-4641-a751-e583b42c188c');\n",
              "          const dataTable =\n",
              "            await google.colab.kernel.invokeFunction('convertToInteractive',\n",
              "                                                     [key], {});\n",
              "          if (!dataTable) return;\n",
              "\n",
              "          const docLinkHtml = 'Like what you see? Visit the ' +\n",
              "            '<a target=\"_blank\" href=https://colab.research.google.com/notebooks/data_table.ipynb>data table notebook</a>'\n",
              "            + ' to learn more about interactive tables.';\n",
              "          element.innerHTML = '';\n",
              "          dataTable['output_type'] = 'display_data';\n",
              "          await google.colab.output.renderOutput(dataTable, element);\n",
              "          const docLink = document.createElement('div');\n",
              "          docLink.innerHTML = docLinkHtml;\n",
              "          element.appendChild(docLink);\n",
              "        }\n",
              "      </script>\n",
              "    </div>\n",
              "  </div>\n",
              "  "
            ],
            "text/plain": [
              "     BLDG_TYP    BLDG_US  ... EC_WB_EX_OPER EC_LCAA_PERM2\n",
              "0  Commercial  Mixed use  ...       2567.39       2521.63\n",
              "1  Commercial      Other  ...       1699.34       1332.55\n",
              "2  Commercial     Office  ...       1303.39       1031.76\n",
              "3  Commercial      Other  ...       1211.33        938.69\n",
              "4  Commercial     Office  ...       1087.86        937.59\n",
              "\n",
              "[5 rows x 8 columns]"
            ]
          },
          "metadata": {},
          "execution_count": 79
        }
      ]
    },
    {
      "cell_type": "code",
      "source": [
        "df.count()"
      ],
      "metadata": {
        "colab": {
          "base_uri": "https://localhost:8080/"
        },
        "id": "mM3Wq41WAF8Y",
        "outputId": "5977ea6a-8790-4b70-ad47-4dc526f89da1"
      },
      "execution_count": 80,
      "outputs": [
        {
          "output_type": "execute_result",
          "data": {
            "text/plain": [
              "BLDG_TYP           1120\n",
              "BLDG_US            1119\n",
              "BLDG_LOC_REGION    1002\n",
              "BLDG_NEW_REN       1117\n",
              "$BLDG_AREA_M2      1131\n",
              "$BLDG_STOR_A       1070\n",
              "EC_WB_EX_OPER      1124\n",
              "EC_LCAA_PERM2       988\n",
              "dtype: int64"
            ]
          },
          "metadata": {},
          "execution_count": 80
        }
      ]
    },
    {
      "cell_type": "markdown",
      "source": [
        "Dropping the missing or null values."
      ],
      "metadata": {
        "id": "1AElymS_AUrR"
      }
    },
    {
      "cell_type": "code",
      "source": [
        "print(df.isnull().sum())"
      ],
      "metadata": {
        "colab": {
          "base_uri": "https://localhost:8080/"
        },
        "id": "BfEMAUgAAVbo",
        "outputId": "56837e43-49ea-41bd-cb7c-8572c5b71eff"
      },
      "execution_count": 81,
      "outputs": [
        {
          "output_type": "stream",
          "name": "stdout",
          "text": [
            "BLDG_TYP            13\n",
            "BLDG_US             14\n",
            "BLDG_LOC_REGION    131\n",
            "BLDG_NEW_REN        16\n",
            "$BLDG_AREA_M2        2\n",
            "$BLDG_STOR_A        63\n",
            "EC_WB_EX_OPER        9\n",
            "EC_LCAA_PERM2      145\n",
            "dtype: int64\n"
          ]
        }
      ]
    },
    {
      "cell_type": "code",
      "source": [
        "df = df.dropna()    # Dropping the missing values and zeros\n",
        "df.count()"
      ],
      "metadata": {
        "colab": {
          "base_uri": "https://localhost:8080/"
        },
        "id": "onKPasP1AaYo",
        "outputId": "e910865f-143e-446a-f661-99f74b53c4d9"
      },
      "execution_count": 82,
      "outputs": [
        {
          "output_type": "execute_result",
          "data": {
            "text/plain": [
              "BLDG_TYP           840\n",
              "BLDG_US            840\n",
              "BLDG_LOC_REGION    840\n",
              "BLDG_NEW_REN       840\n",
              "$BLDG_AREA_M2      840\n",
              "$BLDG_STOR_A       840\n",
              "EC_WB_EX_OPER      840\n",
              "EC_LCAA_PERM2      840\n",
              "dtype: int64"
            ]
          },
          "metadata": {},
          "execution_count": 82
        }
      ]
    },
    {
      "cell_type": "code",
      "source": [
        "print(df.isnull().sum())   # After dropping the values"
      ],
      "metadata": {
        "colab": {
          "base_uri": "https://localhost:8080/"
        },
        "id": "zf8wAmt9Auy9",
        "outputId": "1e3a7f55-b19b-47d7-e452-aaa5650d708c"
      },
      "execution_count": 83,
      "outputs": [
        {
          "output_type": "stream",
          "name": "stdout",
          "text": [
            "BLDG_TYP           0\n",
            "BLDG_US            0\n",
            "BLDG_LOC_REGION    0\n",
            "BLDG_NEW_REN       0\n",
            "$BLDG_AREA_M2      0\n",
            "$BLDG_STOR_A       0\n",
            "EC_WB_EX_OPER      0\n",
            "EC_LCAA_PERM2      0\n",
            "dtype: int64\n"
          ]
        }
      ]
    },
    {
      "cell_type": "markdown",
      "source": [
        "Detecting Outliers"
      ],
      "metadata": {
        "id": "RUhc_h77D9Fx"
      }
    },
    {
      "cell_type": "code",
      "source": [
        "sns.boxplot(x=df['EC_WB_EX_OPER'])"
      ],
      "metadata": {
        "colab": {
          "base_uri": "https://localhost:8080/",
          "height": 303
        },
        "id": "nfJWiF9IA0lD",
        "outputId": "9f1a2eb5-7913-43ef-d92e-f666965f9761"
      },
      "execution_count": 84,
      "outputs": [
        {
          "output_type": "execute_result",
          "data": {
            "text/plain": [
              "<matplotlib.axes._subplots.AxesSubplot at 0x7f10ece05f90>"
            ]
          },
          "metadata": {},
          "execution_count": 84
        },
        {
          "output_type": "display_data",
          "data": {
            "image/png": "[encoded data removed]",
            "text/plain": [
              "<Figure size 432x288 with 1 Axes>"
            ]
          },
          "metadata": {}
        }
      ]
    },
    {
      "cell_type": "code",
      "source": [
        "Q1 = df.quantile(0.25)\n",
        "Q3 = df.quantile(0.75)\n",
        "IQR = Q3 - Q1\n",
        "print(IQR)"
      ],
      "metadata": {
        "colab": {
          "base_uri": "https://localhost:8080/"
        },
        "id": "MGsePHffBcwf",
        "outputId": "7b792551-00a6-4d14-a48c-bea7101995db"
      },
      "execution_count": 85,
      "outputs": [
        {
          "output_type": "stream",
          "name": "stdout",
          "text": [
            "EC_WB_EX_OPER    21576.9575\n",
            "EC_LCAA_PERM2      286.3400\n",
            "dtype: float64\n"
          ]
        }
      ]
    },
    {
      "cell_type": "markdown",
      "source": [
        "Outliers elimination"
      ],
      "metadata": {
        "id": "cCSwCvv7Bz2Y"
      }
    },
    {
      "cell_type": "code",
      "source": [
        "df = df[~((df < (Q1 - 1.5 * IQR)) |(df > (Q3 + 1.5 * IQR))).any(axis=1)]\n",
        "df.shape"
      ],
      "metadata": {
        "colab": {
          "base_uri": "https://localhost:8080/"
        },
        "id": "uCJSaWxnBrQA",
        "outputId": "51660954-9343-466c-a431-b1d041abe12e"
      },
      "execution_count": 86,
      "outputs": [
        {
          "output_type": "stream",
          "name": "stderr",
          "text": [
            "/usr/local/lib/python3.7/dist-packages/ipykernel_launcher.py:1: FutureWarning: Automatic reindexing on DataFrame vs Series comparisons is deprecated and will raise ValueError in a future version.  Do `left, right = left.align(right, axis=1, copy=False)` before e.g. `left == right`\n",
            "  \"\"\"Entry point for launching an IPython kernel.\n"
          ]
        },
        {
          "output_type": "execute_result",
          "data": {
            "text/plain": [
              "(673, 8)"
            ]
          },
          "metadata": {},
          "execution_count": 86
        }
      ]
    },
    {
      "cell_type": "markdown",
      "source": [
        "Change Column Names"
      ],
      "metadata": {
        "id": "6w4RnViiEMGV"
      }
    },
    {
      "cell_type": "code",
      "source": [
        "df = df.rename(columns={'$BLDG_AREA_M2':'BLDG_AREA_M2','$BLDG_AREA_FT2':'BLDG_AREA_FT2','$BLDG_STOR_A':'BLDG_STOR_A'})\n",
        "df.head(5)"
      ],
      "metadata": {
        "colab": {
          "base_uri": "https://localhost:8080/",
          "height": 206
        },
        "id": "XfcnmVEfEQQ8",
        "outputId": "d7e5e7b1-6a13-47c4-c17c-117587831edb"
      },
      "execution_count": 87,
      "outputs": [
        {
          "output_type": "execute_result",
          "data": {
            "text/html": [
              "\n",
              "  <div id=\"df-0990f82d-6dcb-4804-949e-03762de91d31\">\n",
              "    <div class=\"colab-df-container\">\n",
              "      <div>\n",
              "<style scoped>\n",
              "    .dataframe tbody tr th:only-of-type {\n",
              "        vertical-align: middle;\n",
              "    }\n",
              "\n",
              "    .dataframe tbody tr th {\n",
              "        vertical-align: top;\n",
              "    }\n",
              "\n",
              "    .dataframe thead th {\n",
              "        text-align: right;\n",
              "    }\n",
              "</style>\n",
              "<table border=\"1\" class=\"dataframe\">\n",
              "  <thead>\n",
              "    <tr style=\"text-align: right;\">\n",
              "      <th></th>\n",
              "      <th>BLDG_TYP</th>\n",
              "      <th>BLDG_US</th>\n",
              "      <th>BLDG_LOC_REGION</th>\n",
              "      <th>BLDG_NEW_REN</th>\n",
              "      <th>BLDG_AREA_M2</th>\n",
              "      <th>BLDG_STOR_A</th>\n",
              "      <th>EC_WB_EX_OPER</th>\n",
              "      <th>EC_LCAA_PERM2</th>\n",
              "    </tr>\n",
              "  </thead>\n",
              "  <tbody>\n",
              "    <tr>\n",
              "      <th>3</th>\n",
              "      <td>Commercial</td>\n",
              "      <td>Other</td>\n",
              "      <td>North America</td>\n",
              "      <td>New</td>\n",
              "      <td>930 to 2323</td>\n",
              "      <td>1 to 6</td>\n",
              "      <td>1211.33</td>\n",
              "      <td>938.69</td>\n",
              "    </tr>\n",
              "    <tr>\n",
              "      <th>4</th>\n",
              "      <td>Commercial</td>\n",
              "      <td>Office</td>\n",
              "      <td>Asia-Pacific</td>\n",
              "      <td>New</td>\n",
              "      <td>Over 92903</td>\n",
              "      <td>15 to 25</td>\n",
              "      <td>1087.86</td>\n",
              "      <td>937.59</td>\n",
              "    </tr>\n",
              "    <tr>\n",
              "      <th>5</th>\n",
              "      <td>Commercial</td>\n",
              "      <td>Office</td>\n",
              "      <td>Asia-Pacific</td>\n",
              "      <td>New</td>\n",
              "      <td>46452 to 92903</td>\n",
              "      <td>1 to 6</td>\n",
              "      <td>992.27</td>\n",
              "      <td>923.30</td>\n",
              "    </tr>\n",
              "    <tr>\n",
              "      <th>6</th>\n",
              "      <td>Commercial</td>\n",
              "      <td>Other</td>\n",
              "      <td>North America</td>\n",
              "      <td>New</td>\n",
              "      <td>18581 to 46451</td>\n",
              "      <td>1 to 6</td>\n",
              "      <td>1185.57</td>\n",
              "      <td>917.93</td>\n",
              "    </tr>\n",
              "    <tr>\n",
              "      <th>7</th>\n",
              "      <td>Commercial</td>\n",
              "      <td>Other</td>\n",
              "      <td>North America</td>\n",
              "      <td>New</td>\n",
              "      <td>18581 to 46451</td>\n",
              "      <td>1 to 6</td>\n",
              "      <td>1140.08</td>\n",
              "      <td>882.65</td>\n",
              "    </tr>\n",
              "  </tbody>\n",
              "</table>\n",
              "</div>\n",
              "      <button class=\"colab-df-convert\" onclick=\"convertToInteractive('df-0990f82d-6dcb-4804-949e-03762de91d31')\"\n",
              "              title=\"Convert this dataframe to an interactive table.\"\n",
              "              style=\"display:none;\">\n",
              "        \n",
              "  <svg xmlns=\"http://www.w3.org/2000/svg\" height=\"24px\"viewBox=\"0 0 24 24\"\n",
              "       width=\"24px\">\n",
              "    <path d=\"M0 0h24v24H0V0z\" fill=\"none\"/>\n",
              "    <path d=\"M18.56 5.44l.94 2.06.94-2.06 2.06-.94-2.06-.94-.94-2.06-.94 2.06-2.06.94zm-11 1L8.5 8.5l.94-2.06 2.06-.94-2.06-.94L8.5 2.5l-.94 2.06-2.06.94zm10 10l.94 2.06.94-2.06 2.06-.94-2.06-.94-.94-2.06-.94 2.06-2.06.94z\"/><path d=\"M17.41 7.96l-1.37-1.37c-.4-.4-.92-.59-1.43-.59-.52 0-1.04.2-1.43.59L10.3 9.45l-7.72 7.72c-.78.78-.78 2.05 0 2.83L4 21.41c.39.39.9.59 1.41.59.51 0 1.02-.2 1.41-.59l7.78-7.78 2.81-2.81c.8-.78.8-2.07 0-2.86zM5.41 20L4 18.59l7.72-7.72 1.47 1.35L5.41 20z\"/>\n",
              "  </svg>\n",
              "      </button>\n",
              "      \n",
              "  <style>\n",
              "    .colab-df-container {\n",
              "      display:flex;\n",
              "      flex-wrap:wrap;\n",
              "      gap: 12px;\n",
              "    }\n",
              "\n",
              "    .colab-df-convert {\n",
              "      background-color: #E8F0FE;\n",
              "      border: none;\n",
              "      border-radius: 50%;\n",
              "      cursor: pointer;\n",
              "      display: none;\n",
              "      fill: #1967D2;\n",
              "      height: 32px;\n",
              "      padding: 0 0 0 0;\n",
              "      width: 32px;\n",
              "    }\n",
              "\n",
              "    .colab-df-convert:hover {\n",
              "      background-color: #E2EBFA;\n",
              "      box-shadow: 0px 1px 2px rgba(60, 64, 67, 0.3), 0px 1px 3px 1px rgba(60, 64, 67, 0.15);\n",
              "      fill: #174EA6;\n",
              "    }\n",
              "\n",
              "    [theme=dark] .colab-df-convert {\n",
              "      background-color: #3B4455;\n",
              "      fill: #D2E3FC;\n",
              "    }\n",
              "\n",
              "    [theme=dark] .colab-df-convert:hover {\n",
              "      background-color: #434B5C;\n",
              "      box-shadow: 0px 1px 3px 1px rgba(0, 0, 0, 0.15);\n",
              "      filter: drop-shadow(0px 1px 2px rgba(0, 0, 0, 0.3));\n",
              "      fill: #FFFFFF;\n",
              "    }\n",
              "  </style>\n",
              "\n",
              "      <script>\n",
              "        const buttonEl =\n",
              "          document.querySelector('#df-0990f82d-6dcb-4804-949e-03762de91d31 button.colab-df-convert');\n",
              "        buttonEl.style.display =\n",
              "          google.colab.kernel.accessAllowed ? 'block' : 'none';\n",
              "\n",
              "        async function convertToInteractive(key) {\n",
              "          const element = document.querySelector('#df-0990f82d-6dcb-4804-949e-03762de91d31');\n",
              "          const dataTable =\n",
              "            await google.colab.kernel.invokeFunction('convertToInteractive',\n",
              "                                                     [key], {});\n",
              "          if (!dataTable) return;\n",
              "\n",
              "          const docLinkHtml = 'Like what you see? Visit the ' +\n",
              "            '<a target=\"_blank\" href=https://colab.research.google.com/notebooks/data_table.ipynb>data table notebook</a>'\n",
              "            + ' to learn more about interactive tables.';\n",
              "          element.innerHTML = '';\n",
              "          dataTable['output_type'] = 'display_data';\n",
              "          await google.colab.output.renderOutput(dataTable, element);\n",
              "          const docLink = document.createElement('div');\n",
              "          docLink.innerHTML = docLinkHtml;\n",
              "          element.appendChild(docLink);\n",
              "        }\n",
              "      </script>\n",
              "    </div>\n",
              "  </div>\n",
              "  "
            ],
            "text/plain": [
              "     BLDG_TYP BLDG_US BLDG_LOC_REGION  ... BLDG_STOR_A EC_WB_EX_OPER EC_LCAA_PERM2\n",
              "3  Commercial   Other   North America  ...      1 to 6       1211.33        938.69\n",
              "4  Commercial  Office    Asia-Pacific  ...    15 to 25       1087.86        937.59\n",
              "5  Commercial  Office    Asia-Pacific  ...      1 to 6        992.27        923.30\n",
              "6  Commercial   Other   North America  ...      1 to 6       1185.57        917.93\n",
              "7  Commercial   Other   North America  ...      1 to 6       1140.08        882.65\n",
              "\n",
              "[5 rows x 8 columns]"
            ]
          },
          "metadata": {},
          "execution_count": 87
        }
      ]
    },
    {
      "cell_type": "markdown",
      "source": [
        "Add column"
      ],
      "metadata": {
        "id": "bdFlsnf8LsK2"
      }
    },
    {
      "cell_type": "markdown",
      "source": [
        "Histogram---------"
      ],
      "metadata": {
        "id": "V5s6FBxVB6Tv"
      }
    },
    {
      "cell_type": "code",
      "source": [
        "df.BLDG_AREA_M2.value_counts().plot(kind='bar', figsize=(10,5))\n",
        "plt.title(\"Building Area Distribution\")\n",
        "plt.ylabel('Numbers')\n",
        "plt.xlabel('Area (m2)');"
      ],
      "metadata": {
        "colab": {
          "base_uri": "https://localhost:8080/",
          "height": 433
        },
        "id": "jlSyPao-B86P",
        "outputId": "607a0904-993d-4c3f-a887-abb9fa605a3f"
      },
      "execution_count": 88,
      "outputs": [
        {
          "output_type": "display_data",
          "data": {
            "image/png": "[encoded data removed]",
            "text/plain": [
              "<Figure size 720x360 with 1 Axes>"
            ]
          },
          "metadata": {}
        }
      ]
    },
    {
      "cell_type": "code",
      "source": [
        "df.BLDG_STOR_A.value_counts().plot(kind='bar', figsize=(10,5))\n",
        "plt.title(\"Building Storey\")\n",
        "plt.ylabel('Numbers')\n",
        "plt.xlabel('Storey Nos');"
      ],
      "metadata": {
        "colab": {
          "base_uri": "https://localhost:8080/",
          "height": 419
        },
        "id": "RuPPU2FURJRZ",
        "outputId": "808054d3-93bc-4120-9893-8896ddb2fb00"
      },
      "execution_count": 89,
      "outputs": [
        {
          "output_type": "display_data",
          "data": {
            "image/png": "[encoded data removed]",
            "text/plain": [
              "<Figure size 720x360 with 1 Axes>"
            ]
          },
          "metadata": {}
        }
      ]
    },
    {
      "cell_type": "code",
      "source": [
        "df.BLDG_US.value_counts().plot(kind='bar', figsize=(10,5))\n",
        "plt.title(\"Building Types\")\n",
        "plt.ylabel('Numbers')\n",
        "plt.xlabel('Type');"
      ],
      "metadata": {
        "colab": {
          "base_uri": "https://localhost:8080/",
          "height": 476
        },
        "id": "otj-nvprP-CH",
        "outputId": "94d58b3b-f7f7-4f30-f314-6da2f477a8a2"
      },
      "execution_count": 90,
      "outputs": [
        {
          "output_type": "display_data",
          "data": {
            "image/png": "[encoded data removed]",
            "text/plain": [
              "<Figure size 720x360 with 1 Axes>"
            ]
          },
          "metadata": {}
        }
      ]
    },
    {
      "cell_type": "code",
      "source": [
        "df.BLDG_TYP.value_counts().plot(kind='bar', figsize=(10,5))\n",
        "plt.title(\"Building Types\")\n",
        "plt.ylabel('Numbers')\n",
        "plt.xlabel('Area (m2)');"
      ],
      "metadata": {
        "colab": {
          "base_uri": "https://localhost:8080/",
          "height": 433
        },
        "id": "ZDDdSMepQ4ke",
        "outputId": "82a19707-8f5e-4059-c1fe-709369e3a845"
      },
      "execution_count": 91,
      "outputs": [
        {
          "output_type": "display_data",
          "data": {
            "image/png": "[encoded data removed]",
            "text/plain": [
              "<Figure size 720x360 with 1 Axes>"
            ]
          },
          "metadata": {}
        }
      ]
    },
    {
      "cell_type": "markdown",
      "source": [
        "Let's check corr betweeen total carbon and unit carbon."
      ],
      "metadata": {
        "id": "oEQ7DX8sK8lp"
      }
    },
    {
      "cell_type": "code",
      "source": [
        "plt.figure(figsize=(10,5))\n",
        "c= df.corr()\n",
        "sns.heatmap(c,cmap=\"BrBG\",annot=True)"
      ],
      "metadata": {
        "colab": {
          "base_uri": "https://localhost:8080/",
          "height": 345
        },
        "id": "GNWp_PHHKtIy",
        "outputId": "b7f0f650-0252-4333-eff1-11832dda17b5"
      },
      "execution_count": 92,
      "outputs": [
        {
          "output_type": "execute_result",
          "data": {
            "text/plain": [
              "<matplotlib.axes._subplots.AxesSubplot at 0x7f10ec99ee50>"
            ]
          },
          "metadata": {},
          "execution_count": 92
        },
        {
          "output_type": "display_data",
          "data": {
            "image/png": "[encoded data removed]",
            "text/plain": [
              "<Figure size 720x360 with 2 Axes>"
            ]
          },
          "metadata": {}
        }
      ]
    },
    {
      "cell_type": "code",
      "source": [
        "fig, ax = plt.subplots(figsize=(18,6))\n",
        "ax.scatter(df['BLDG_AREA_M2'], df['EC_LCAA_PERM2'])\n",
        "ax.set_xlabel('BLDG_AREA_M2')\n",
        "ax.set_ylabel('EC_LCAA_PERM2')\n",
        "plt.show()"
      ],
      "metadata": {
        "colab": {
          "base_uri": "https://localhost:8080/",
          "height": 394
        },
        "id": "zS_hVTtsPNLo",
        "outputId": "c5196072-759f-420b-bce2-379b8d95424a"
      },
      "execution_count": 93,
      "outputs": [
        {
          "output_type": "display_data",
          "data": {
            "image/png": "[encoded data removed]",
            "text/plain": [
              "<Figure size 1296x432 with 1 Axes>"
            ]
          },
          "metadata": {}
        }
      ]
    },
    {
      "cell_type": "code",
      "source": [
        "fig, ax = plt.subplots(figsize=(18,6))\n",
        "ax.scatter(df['BLDG_TYP'], df['EC_LCAA_PERM2'])\n",
        "ax.set_xlabel('BLDG_TYP')\n",
        "ax.set_ylabel('EC_LCAA_PERM2')\n",
        "plt.show()"
      ],
      "metadata": {
        "colab": {
          "base_uri": "https://localhost:8080/",
          "height": 394
        },
        "id": "VJpiQ8vcQiZ-",
        "outputId": "4ff55913-a90e-44b9-ef03-9cd373795db0"
      },
      "execution_count": 94,
      "outputs": [
        {
          "output_type": "display_data",
          "data": {
            "image/png": "[encoded data removed]",
            "text/plain": [
              "<Figure size 1296x432 with 1 Axes>"
            ]
          },
          "metadata": {}
        }
      ]
    },
    {
      "cell_type": "code",
      "source": [
        "fig, ax = plt.subplots(figsize=(18,6))\n",
        "ax.scatter(df['BLDG_STOR_A'], df['EC_LCAA_PERM2'])\n",
        "ax.set_xlabel('BLDG_STOR_A')\n",
        "ax.set_ylabel('EC_LCAA_PERM2')\n",
        "plt.show()"
      ],
      "metadata": {
        "colab": {
          "base_uri": "https://localhost:8080/",
          "height": 394
        },
        "id": "OlWosNZSRgJR",
        "outputId": "514f27cb-c947-425d-bce7-fb689b97ce2f"
      },
      "execution_count": 95,
      "outputs": [
        {
          "output_type": "display_data",
          "data": {
            "image/png": "[encoded data removed]",
            "text/plain": [
              "<Figure size 1296x432 with 1 Axes>"
            ]
          },
          "metadata": {}
        }
      ]
    },
    {
      "cell_type": "markdown",
      "source": [
        "Statistical data of the data frame"
      ],
      "metadata": {
        "id": "vW0hw3NBRuG5"
      }
    },
    {
      "cell_type": "code",
      "source": [
        "df['EC_LCAA_PERM2'].describe()"
      ],
      "metadata": {
        "colab": {
          "base_uri": "https://localhost:8080/"
        },
        "id": "EXp-Nu3vRz2S",
        "outputId": "c4eae730-ae1b-4a34-f3d3-814c9eca8b45"
      },
      "execution_count": 96,
      "outputs": [
        {
          "output_type": "execute_result",
          "data": {
            "text/plain": [
              "count    673.000000\n",
              "mean     374.075245\n",
              "std      192.614461\n",
              "min       10.000000\n",
              "25%      230.000000\n",
              "50%      352.000000\n",
              "75%      485.000000\n",
              "max      950.000000\n",
              "Name: EC_LCAA_PERM2, dtype: float64"
            ]
          },
          "metadata": {},
          "execution_count": 96
        }
      ]
    },
    {
      "cell_type": "code",
      "source": [
        "fig, ax = plt.subplots(figsize=(18,6))\n",
        "ax = sns.boxplot(x='BLDG_STOR_A', y='EC_LCAA_PERM2', data=df, orient=\"v\")"
      ],
      "metadata": {
        "colab": {
          "base_uri": "https://localhost:8080/",
          "height": 394
        },
        "id": "Rxi6q8iXTHEp",
        "outputId": "9d71a5cd-e7c6-49fb-89e8-128e39169a34"
      },
      "execution_count": 97,
      "outputs": [
        {
          "output_type": "display_data",
          "data": {
            "image/png": "[encoded data removed]",
            "text/plain": [
              "<Figure size 1296x432 with 1 Axes>"
            ]
          },
          "metadata": {}
        }
      ]
    },
    {
      "cell_type": "code",
      "source": [
        "fig, ax = plt.subplots(figsize=(18,6))\n",
        "ax = sns.boxplot(x='BLDG_AREA_M2', y='EC_LCAA_PERM2', data=df, orient=\"v\")"
      ],
      "metadata": {
        "colab": {
          "base_uri": "https://localhost:8080/",
          "height": 394
        },
        "id": "y5SxKUFLTc1M",
        "outputId": "c7043ff7-cda4-44bd-9950-2fe19a6eb949"
      },
      "execution_count": 98,
      "outputs": [
        {
          "output_type": "display_data",
          "data": {
            "image/png": "[encoded data removed]",
            "text/plain": [
              "<Figure size 1296x432 with 1 Axes>"
            ]
          },
          "metadata": {}
        }
      ]
    },
    {
      "cell_type": "code",
      "source": [
        "df['BLDG_AREA_M2_CAT']=df['BLDG_AREA_M2'].astype('category').cat.codes\n",
        "df['BLDG_STOR_A_CAT']=df['BLDG_STOR_A'].astype('category').cat.codes\n",
        "df['BLDG_TYP_CAT']=df['BLDG_TYP'].astype('category').cat.codes\n",
        "df['BLDG_NEW_REN_CAT']=df['BLDG_NEW_REN'].astype('category').cat.codes\n",
        "\n",
        "df.corr()\n",
        "plt.figure(figsize=(10,5))\n",
        "c= df.corr(method='pearson')\n",
        "sns.heatmap(c,cmap=\"BrBG\",annot=True)"
      ],
      "metadata": {
        "colab": {
          "base_uri": "https://localhost:8080/",
          "height": 452
        },
        "id": "L21YuH8xVm1_",
        "outputId": "b5772bf5-f91c-4859-8606-033515d4b437"
      },
      "execution_count": 99,
      "outputs": [
        {
          "output_type": "execute_result",
          "data": {
            "text/plain": [
              "<matplotlib.axes._subplots.AxesSubplot at 0x7f10ec992890>"
            ]
          },
          "metadata": {},
          "execution_count": 99
        },
        {
          "output_type": "display_data",
          "data": {
            "image/png": "[encoded data removed]",
            "text/plain": [
              "<Figure size 720x360 with 2 Axes>"
            ]
          },
          "metadata": {}
        }
      ]
    },
    {
      "cell_type": "markdown",
      "source": [
        "We can say that there is no significant relation between different variables. However the most effective items on LCAA per m2 is;\n",
        "\n",
        "1.   Building Store Number\n",
        "2.   Building Type\n",
        "3.   Building New Or Renovation\n",
        "\n",
        "\n",
        "\n"
      ],
      "metadata": {
        "id": "5Hg7Fh0o6S_e"
      }
    },
    {
      "cell_type": "code",
      "source": [
        "df=df.drop(['EC_WB_EX_OPER','BLDG_AREA_M2_CAT'],axis=1)\n",
        "df.head(5)"
      ],
      "metadata": {
        "colab": {
          "base_uri": "https://localhost:8080/",
          "height": 206
        },
        "id": "gKgAqln47H_K",
        "outputId": "d8f754ba-4d76-40e2-e051-c6a51278bccc"
      },
      "execution_count": 100,
      "outputs": [
        {
          "output_type": "execute_result",
          "data": {
            "text/html": [
              "\n",
              "  <div id=\"df-5e7c07b1-bc1b-4744-8f91-4d17ca7378e9\">\n",
              "    <div class=\"colab-df-container\">\n",
              "      <div>\n",
              "<style scoped>\n",
              "    .dataframe tbody tr th:only-of-type {\n",
              "        vertical-align: middle;\n",
              "    }\n",
              "\n",
              "    .dataframe tbody tr th {\n",
              "        vertical-align: top;\n",
              "    }\n",
              "\n",
              "    .dataframe thead th {\n",
              "        text-align: right;\n",
              "    }\n",
              "</style>\n",
              "<table border=\"1\" class=\"dataframe\">\n",
              "  <thead>\n",
              "    <tr style=\"text-align: right;\">\n",
              "      <th></th>\n",
              "      <th>BLDG_TYP</th>\n",
              "      <th>BLDG_US</th>\n",
              "      <th>BLDG_LOC_REGION</th>\n",
              "      <th>BLDG_NEW_REN</th>\n",
              "      <th>BLDG_AREA_M2</th>\n",
              "      <th>BLDG_STOR_A</th>\n",
              "      <th>EC_LCAA_PERM2</th>\n",
              "      <th>BLDG_STOR_A_CAT</th>\n",
              "      <th>BLDG_TYP_CAT</th>\n",
              "      <th>BLDG_NEW_REN_CAT</th>\n",
              "    </tr>\n",
              "  </thead>\n",
              "  <tbody>\n",
              "    <tr>\n",
              "      <th>3</th>\n",
              "      <td>Commercial</td>\n",
              "      <td>Other</td>\n",
              "      <td>North America</td>\n",
              "      <td>New</td>\n",
              "      <td>930 to 2323</td>\n",
              "      <td>1 to 6</td>\n",
              "      <td>938.69</td>\n",
              "      <td>0</td>\n",
              "      <td>0</td>\n",
              "      <td>0</td>\n",
              "    </tr>\n",
              "    <tr>\n",
              "      <th>4</th>\n",
              "      <td>Commercial</td>\n",
              "      <td>Office</td>\n",
              "      <td>Asia-Pacific</td>\n",
              "      <td>New</td>\n",
              "      <td>Over 92903</td>\n",
              "      <td>15 to 25</td>\n",
              "      <td>937.59</td>\n",
              "      <td>1</td>\n",
              "      <td>0</td>\n",
              "      <td>0</td>\n",
              "    </tr>\n",
              "    <tr>\n",
              "      <th>5</th>\n",
              "      <td>Commercial</td>\n",
              "      <td>Office</td>\n",
              "      <td>Asia-Pacific</td>\n",
              "      <td>New</td>\n",
              "      <td>46452 to 92903</td>\n",
              "      <td>1 to 6</td>\n",
              "      <td>923.30</td>\n",
              "      <td>0</td>\n",
              "      <td>0</td>\n",
              "      <td>0</td>\n",
              "    </tr>\n",
              "    <tr>\n",
              "      <th>6</th>\n",
              "      <td>Commercial</td>\n",
              "      <td>Other</td>\n",
              "      <td>North America</td>\n",
              "      <td>New</td>\n",
              "      <td>18581 to 46451</td>\n",
              "      <td>1 to 6</td>\n",
              "      <td>917.93</td>\n",
              "      <td>0</td>\n",
              "      <td>0</td>\n",
              "      <td>0</td>\n",
              "    </tr>\n",
              "    <tr>\n",
              "      <th>7</th>\n",
              "      <td>Commercial</td>\n",
              "      <td>Other</td>\n",
              "      <td>North America</td>\n",
              "      <td>New</td>\n",
              "      <td>18581 to 46451</td>\n",
              "      <td>1 to 6</td>\n",
              "      <td>882.65</td>\n",
              "      <td>0</td>\n",
              "      <td>0</td>\n",
              "      <td>0</td>\n",
              "    </tr>\n",
              "  </tbody>\n",
              "</table>\n",
              "</div>\n",
              "      <button class=\"colab-df-convert\" onclick=\"convertToInteractive('df-5e7c07b1-bc1b-4744-8f91-4d17ca7378e9')\"\n",
              "              title=\"Convert this dataframe to an interactive table.\"\n",
              "              style=\"display:none;\">\n",
              "        \n",
              "  <svg xmlns=\"http://www.w3.org/2000/svg\" height=\"24px\"viewBox=\"0 0 24 24\"\n",
              "       width=\"24px\">\n",
              "    <path d=\"M0 0h24v24H0V0z\" fill=\"none\"/>\n",
              "    <path d=\"M18.56 5.44l.94 2.06.94-2.06 2.06-.94-2.06-.94-.94-2.06-.94 2.06-2.06.94zm-11 1L8.5 8.5l.94-2.06 2.06-.94-2.06-.94L8.5 2.5l-.94 2.06-2.06.94zm10 10l.94 2.06.94-2.06 2.06-.94-2.06-.94-.94-2.06-.94 2.06-2.06.94z\"/><path d=\"M17.41 7.96l-1.37-1.37c-.4-.4-.92-.59-1.43-.59-.52 0-1.04.2-1.43.59L10.3 9.45l-7.72 7.72c-.78.78-.78 2.05 0 2.83L4 21.41c.39.39.9.59 1.41.59.51 0 1.02-.2 1.41-.59l7.78-7.78 2.81-2.81c.8-.78.8-2.07 0-2.86zM5.41 20L4 18.59l7.72-7.72 1.47 1.35L5.41 20z\"/>\n",
              "  </svg>\n",
              "      </button>\n",
              "      \n",
              "  <style>\n",
              "    .colab-df-container {\n",
              "      display:flex;\n",
              "      flex-wrap:wrap;\n",
              "      gap: 12px;\n",
              "    }\n",
              "\n",
              "    .colab-df-convert {\n",
              "      background-color: #E8F0FE;\n",
              "      border: none;\n",
              "      border-radius: 50%;\n",
              "      cursor: pointer;\n",
              "      display: none;\n",
              "      fill: #1967D2;\n",
              "      height: 32px;\n",
              "      padding: 0 0 0 0;\n",
              "      width: 32px;\n",
              "    }\n",
              "\n",
              "    .colab-df-convert:hover {\n",
              "      background-color: #E2EBFA;\n",
              "      box-shadow: 0px 1px 2px rgba(60, 64, 67, 0.3), 0px 1px 3px 1px rgba(60, 64, 67, 0.15);\n",
              "      fill: #174EA6;\n",
              "    }\n",
              "\n",
              "    [theme=dark] .colab-df-convert {\n",
              "      background-color: #3B4455;\n",
              "      fill: #D2E3FC;\n",
              "    }\n",
              "\n",
              "    [theme=dark] .colab-df-convert:hover {\n",
              "      background-color: #434B5C;\n",
              "      box-shadow: 0px 1px 3px 1px rgba(0, 0, 0, 0.15);\n",
              "      filter: drop-shadow(0px 1px 2px rgba(0, 0, 0, 0.3));\n",
              "      fill: #FFFFFF;\n",
              "    }\n",
              "  </style>\n",
              "\n",
              "      <script>\n",
              "        const buttonEl =\n",
              "          document.querySelector('#df-5e7c07b1-bc1b-4744-8f91-4d17ca7378e9 button.colab-df-convert');\n",
              "        buttonEl.style.display =\n",
              "          google.colab.kernel.accessAllowed ? 'block' : 'none';\n",
              "\n",
              "        async function convertToInteractive(key) {\n",
              "          const element = document.querySelector('#df-5e7c07b1-bc1b-4744-8f91-4d17ca7378e9');\n",
              "          const dataTable =\n",
              "            await google.colab.kernel.invokeFunction('convertToInteractive',\n",
              "                                                     [key], {});\n",
              "          if (!dataTable) return;\n",
              "\n",
              "          const docLinkHtml = 'Like what you see? Visit the ' +\n",
              "            '<a target=\"_blank\" href=https://colab.research.google.com/notebooks/data_table.ipynb>data table notebook</a>'\n",
              "            + ' to learn more about interactive tables.';\n",
              "          element.innerHTML = '';\n",
              "          dataTable['output_type'] = 'display_data';\n",
              "          await google.colab.output.renderOutput(dataTable, element);\n",
              "          const docLink = document.createElement('div');\n",
              "          docLink.innerHTML = docLinkHtml;\n",
              "          element.appendChild(docLink);\n",
              "        }\n",
              "      </script>\n",
              "    </div>\n",
              "  </div>\n",
              "  "
            ],
            "text/plain": [
              "     BLDG_TYP BLDG_US  ... BLDG_TYP_CAT BLDG_NEW_REN_CAT\n",
              "3  Commercial   Other  ...            0                0\n",
              "4  Commercial  Office  ...            0                0\n",
              "5  Commercial  Office  ...            0                0\n",
              "6  Commercial   Other  ...            0                0\n",
              "7  Commercial   Other  ...            0                0\n",
              "\n",
              "[5 rows x 10 columns]"
            ]
          },
          "metadata": {},
          "execution_count": 100
        }
      ]
    },
    {
      "cell_type": "code",
      "source": [
        "df.corr()\n",
        "plt.figure(figsize=(10,5))\n",
        "c= df.corr(method='pearson')\n",
        "sns.heatmap(c,cmap=\"BrBG\",annot=True)"
      ],
      "metadata": {
        "colab": {
          "base_uri": "https://localhost:8080/",
          "height": 345
        },
        "id": "WyQIEcja8nGp",
        "outputId": "1b2a1229-c889-4fda-9de3-2bd6560d4ee1"
      },
      "execution_count": 101,
      "outputs": [
        {
          "output_type": "execute_result",
          "data": {
            "text/plain": [
              "<matplotlib.axes._subplots.AxesSubplot at 0x7f10ec797910>"
            ]
          },
          "metadata": {},
          "execution_count": 101
        },
        {
          "output_type": "display_data",
          "data": {
            "image/png": "[encoded data removed]",
            "text/plain": [
              "<Figure size 720x360 with 2 Axes>"
            ]
          },
          "metadata": {}
        }
      ]
    },
    {
      "cell_type": "markdown",
      "source": [
        "# ML Models"
      ],
      "metadata": {
        "id": "6YxQ0h0e9pUQ"
      }
    },
    {
      "cell_type": "markdown",
      "source": [
        "sklearn.ensemble.RandomForestRegressor"
      ],
      "metadata": {
        "id": "qawPJFC4G9hs"
      }
    },
    {
      "cell_type": "markdown",
      "source": [
        "Test Data Split"
      ],
      "metadata": {
        "id": "yMPMIfUs9yTE"
      }
    },
    {
      "cell_type": "code",
      "source": [
        "features = df.drop([\"EC_LCAA_PERM2\",'BLDG_TYP','BLDG_US','BLDG_LOC_REGION','BLDG_NEW_REN','BLDG_AREA_M2','BLDG_STOR_A'], axis=1).columns\n",
        "features"
      ],
      "metadata": {
        "colab": {
          "base_uri": "https://localhost:8080/"
        },
        "id": "Rl4P1IdMAufd",
        "outputId": "8e96fd7b-7382-4d12-a8de-f2dc716b1d13"
      },
      "execution_count": 123,
      "outputs": [
        {
          "output_type": "execute_result",
          "data": {
            "text/plain": [
              "Index(['BLDG_STOR_A_CAT', 'BLDG_TYP_CAT', 'BLDG_NEW_REN_CAT'], dtype='object')"
            ]
          },
          "metadata": {},
          "execution_count": 123
        }
      ]
    },
    {
      "cell_type": "code",
      "source": [
        "df_train, df_test = train_test_split(df, test_size=0.25)"
      ],
      "metadata": {
        "id": "YHbVZ4s5ClK4"
      },
      "execution_count": 119,
      "outputs": []
    },
    {
      "cell_type": "code",
      "source": [
        "clf = RandomForestRegressor(n_estimators=50)\n",
        "clf.fit(df_train[features], df_train[\"EC_LCAA_PERM2\"])"
      ],
      "metadata": {
        "colab": {
          "base_uri": "https://localhost:8080/"
        },
        "id": "uT3dQbVLAcLU",
        "outputId": "1113fd50-67af-4a21-cacf-1b2539c7f065"
      },
      "execution_count": 139,
      "outputs": [
        {
          "output_type": "execute_result",
          "data": {
            "text/plain": [
              "RandomForestRegressor(n_estimators=50)"
            ]
          },
          "metadata": {},
          "execution_count": 139
        }
      ]
    },
    {
      "cell_type": "code",
      "source": [
        "predictions = clf.predict(df_test[features])\n",
        "\n",
        "display(predictions)"
      ],
      "metadata": {
        "colab": {
          "base_uri": "https://localhost:8080/",
          "height": 801
        },
        "id": "chJo58FKFftS",
        "outputId": "efb6c4e6-82ae-47ac-ec11-c4a0ca6ed3bf"
      },
      "execution_count": 140,
      "outputs": [
        {
          "output_type": "display_data",
          "data": {
            "text/plain": [
              "array([425.01994335, 326.47140782, 394.15774462, 338.47784829,\n",
              "       338.47784829, 507.67595883, 338.47784829, 338.47784829,\n",
              "       405.54436005, 338.47784829, 214.55295014, 338.47784829,\n",
              "       338.47784829, 507.67595883, 425.01994335, 507.67595883,\n",
              "       338.47784829, 338.47784829, 214.55295014, 507.67595883,\n",
              "       338.47784829, 338.47784829, 394.15774462, 394.15774462,\n",
              "       225.32136929, 425.01994335, 394.15774462, 425.01994335,\n",
              "       394.15774462, 394.15774462, 338.47784829, 411.85281544,\n",
              "       425.01994335, 394.15774462, 394.15774462, 338.47784829,\n",
              "       394.15774462, 394.15774462, 507.67595883, 374.21399266,\n",
              "       405.54436005, 326.47140782, 338.47784829, 214.55295014,\n",
              "       338.47784829, 394.15774462, 394.15774462, 394.15774462,\n",
              "       394.15774462, 405.54436005, 405.54436005, 411.85281544,\n",
              "       394.15774462, 338.47784829, 411.85281544, 394.15774462,\n",
              "       225.32136929, 394.15774462, 425.01994335, 338.47784829,\n",
              "       394.15774462, 394.15774462, 425.01994335, 394.15774462,\n",
              "       225.32136929, 394.15774462, 338.47784829, 338.47784829,\n",
              "       394.15774462, 405.54436005, 394.15774462, 338.47784829,\n",
              "       411.85281544, 405.54436005, 394.15774462, 394.15774462,\n",
              "       338.47784829, 214.55295014, 394.15774462, 338.47784829,\n",
              "       214.55295014, 394.15774462, 425.01994335, 411.85281544,\n",
              "       394.15774462, 394.15774462, 394.15774462, 225.32136929,\n",
              "       425.01994335, 338.47784829, 338.47784829, 374.21399266,\n",
              "       338.47784829, 405.54436005, 338.47784829, 425.01994335,\n",
              "       215.19289167, 338.47784829, 394.15774462, 425.01994335,\n",
              "       214.55295014, 394.15774462, 338.47784829, 394.15774462,\n",
              "       338.47784829, 394.15774462, 338.47784829, 394.15774462,\n",
              "       338.47784829, 338.47784829, 374.21399266, 394.15774462,\n",
              "       507.67595883, 214.55295014, 411.85281544, 374.21399266,\n",
              "       394.15774462, 214.55295014, 214.55295014, 394.15774462,\n",
              "       374.21399266, 214.55295014, 338.47784829, 225.32136929,\n",
              "       214.55295014, 507.67595883, 425.01994335, 394.15774462,\n",
              "       411.85281544, 394.15774462, 225.32136929, 507.67595883,\n",
              "       425.01994335, 394.15774462, 394.15774462, 225.32136929,\n",
              "       338.47784829, 394.15774462, 394.15774462, 338.47784829,\n",
              "       394.15774462, 215.19289167, 394.15774462, 338.47784829,\n",
              "       394.15774462, 394.15774462, 214.55295014, 374.21399266,\n",
              "       394.15774462, 394.15774462, 425.01994335, 394.15774462,\n",
              "       425.01994335, 394.15774462, 225.32136929, 338.47784829,\n",
              "       394.15774462, 394.15774462, 394.15774462, 214.55295014,\n",
              "       338.47784829, 507.67595883, 338.47784829, 394.15774462,\n",
              "       394.15774462, 394.15774462, 338.47784829, 425.01994335,\n",
              "       214.55295014])"
            ]
          },
          "metadata": {}
        }
      ]
    },
    {
      "cell_type": "code",
      "source": [
        "score = clf.score(df_test[features], df_test[\"EC_LCAA_PERM2\"])\n",
        "print(\"Accuracy: \", score)"
      ],
      "metadata": {
        "colab": {
          "base_uri": "https://localhost:8080/"
        },
        "id": "jW1b5kVIFo2I",
        "outputId": "4d71fc3c-ac87-45dc-df17-2fe332ed9bae"
      },
      "execution_count": 141,
      "outputs": [
        {
          "output_type": "stream",
          "name": "stdout",
          "text": [
            "Accuracy:  0.12417728855279608\n"
          ]
        }
      ]
    },
    {
      "cell_type": "code",
      "source": [
        "ig = plt.figure(figsize=(10, 9))\n",
        "ax = fig.add_subplot(111)\n",
        "\n",
        "df_f = pd.DataFrame(clf.feature_importances_, columns=[\"importance\"])\n",
        "df_f[\"labels\"] = features\n",
        "df_f.sort_values(\"importance\", inplace=True, ascending=False)\n",
        "display(df_f.head(5))\n",
        "\n",
        "index = np.arange(len(clf.feature_importances_))\n",
        "bar_width = 0.5\n",
        "rects = plt.barh(index , df_f[\"importance\"], bar_width, alpha=0.4, color='b', label='Main')\n",
        "plt.yticks(index, df_f[\"labels\"])\n",
        "plt.show()"
      ],
      "metadata": {
        "colab": {
          "base_uri": "https://localhost:8080/",
          "height": 723
        },
        "id": "evcyj1NnGe3o",
        "outputId": "bb70d156-a890-40f2-a919-cde3fe551d4c"
      },
      "execution_count": 143,
      "outputs": [
        {
          "output_type": "stream",
          "name": "stderr",
          "text": [
            "/usr/local/lib/python3.7/dist-packages/ipykernel_launcher.py:2: MatplotlibDeprecationWarning: Adding an axes using the same arguments as a previous axes currently reuses the earlier instance.  In a future version, a new instance will always be created and returned.  Meanwhile, this warning can be suppressed, and the future behavior ensured, by passing a unique label to each axes instance.\n",
            "  \n"
          ]
        },
        {
          "output_type": "display_data",
          "data": {
            "text/html": [
              "\n",
              "  <div id=\"df-4f78a2b5-821b-4e13-aad0-16d356399fe8\">\n",
              "    <div class=\"colab-df-container\">\n",
              "      <div>\n",
              "<style scoped>\n",
              "    .dataframe tbody tr th:only-of-type {\n",
              "        vertical-align: middle;\n",
              "    }\n",
              "\n",
              "    .dataframe tbody tr th {\n",
              "        vertical-align: top;\n",
              "    }\n",
              "\n",
              "    .dataframe thead th {\n",
              "        text-align: right;\n",
              "    }\n",
              "</style>\n",
              "<table border=\"1\" class=\"dataframe\">\n",
              "  <thead>\n",
              "    <tr style=\"text-align: right;\">\n",
              "      <th></th>\n",
              "      <th>importance</th>\n",
              "      <th>labels</th>\n",
              "    </tr>\n",
              "  </thead>\n",
              "  <tbody>\n",
              "    <tr>\n",
              "      <th>0</th>\n",
              "      <td>0.456846</td>\n",
              "      <td>BLDG_STOR_A_CAT</td>\n",
              "    </tr>\n",
              "    <tr>\n",
              "      <th>1</th>\n",
              "      <td>0.367356</td>\n",
              "      <td>BLDG_TYP_CAT</td>\n",
              "    </tr>\n",
              "    <tr>\n",
              "      <th>2</th>\n",
              "      <td>0.175798</td>\n",
              "      <td>BLDG_NEW_REN_CAT</td>\n",
              "    </tr>\n",
              "  </tbody>\n",
              "</table>\n",
              "</div>\n",
              "      <button class=\"colab-df-convert\" onclick=\"convertToInteractive('df-4f78a2b5-821b-4e13-aad0-16d356399fe8')\"\n",
              "              title=\"Convert this dataframe to an interactive table.\"\n",
              "              style=\"display:none;\">\n",
              "        \n",
              "  <svg xmlns=\"http://www.w3.org/2000/svg\" height=\"24px\"viewBox=\"0 0 24 24\"\n",
              "       width=\"24px\">\n",
              "    <path d=\"M0 0h24v24H0V0z\" fill=\"none\"/>\n",
              "    <path d=\"M18.56 5.44l.94 2.06.94-2.06 2.06-.94-2.06-.94-.94-2.06-.94 2.06-2.06.94zm-11 1L8.5 8.5l.94-2.06 2.06-.94-2.06-.94L8.5 2.5l-.94 2.06-2.06.94zm10 10l.94 2.06.94-2.06 2.06-.94-2.06-.94-.94-2.06-.94 2.06-2.06.94z\"/><path d=\"M17.41 7.96l-1.37-1.37c-.4-.4-.92-.59-1.43-.59-.52 0-1.04.2-1.43.59L10.3 9.45l-7.72 7.72c-.78.78-.78 2.05 0 2.83L4 21.41c.39.39.9.59 1.41.59.51 0 1.02-.2 1.41-.59l7.78-7.78 2.81-2.81c.8-.78.8-2.07 0-2.86zM5.41 20L4 18.59l7.72-7.72 1.47 1.35L5.41 20z\"/>\n",
              "  </svg>\n",
              "      </button>\n",
              "      \n",
              "  <style>\n",
              "    .colab-df-container {\n",
              "      display:flex;\n",
              "      flex-wrap:wrap;\n",
              "      gap: 12px;\n",
              "    }\n",
              "\n",
              "    .colab-df-convert {\n",
              "      background-color: #E8F0FE;\n",
              "      border: none;\n",
              "      border-radius: 50%;\n",
              "      cursor: pointer;\n",
              "      display: none;\n",
              "      fill: #1967D2;\n",
              "      height: 32px;\n",
              "      padding: 0 0 0 0;\n",
              "      width: 32px;\n",
              "    }\n",
              "\n",
              "    .colab-df-convert:hover {\n",
              "      background-color: #E2EBFA;\n",
              "      box-shadow: 0px 1px 2px rgba(60, 64, 67, 0.3), 0px 1px 3px 1px rgba(60, 64, 67, 0.15);\n",
              "      fill: #174EA6;\n",
              "    }\n",
              "\n",
              "    [theme=dark] .colab-df-convert {\n",
              "      background-color: #3B4455;\n",
              "      fill: #D2E3FC;\n",
              "    }\n",
              "\n",
              "    [theme=dark] .colab-df-convert:hover {\n",
              "      background-color: #434B5C;\n",
              "      box-shadow: 0px 1px 3px 1px rgba(0, 0, 0, 0.15);\n",
              "      filter: drop-shadow(0px 1px 2px rgba(0, 0, 0, 0.3));\n",
              "      fill: #FFFFFF;\n",
              "    }\n",
              "  </style>\n",
              "\n",
              "      <script>\n",
              "        const buttonEl =\n",
              "          document.querySelector('#df-4f78a2b5-821b-4e13-aad0-16d356399fe8 button.colab-df-convert');\n",
              "        buttonEl.style.display =\n",
              "          google.colab.kernel.accessAllowed ? 'block' : 'none';\n",
              "\n",
              "        async function convertToInteractive(key) {\n",
              "          const element = document.querySelector('#df-4f78a2b5-821b-4e13-aad0-16d356399fe8');\n",
              "          const dataTable =\n",
              "            await google.colab.kernel.invokeFunction('convertToInteractive',\n",
              "                                                     [key], {});\n",
              "          if (!dataTable) return;\n",
              "\n",
              "          const docLinkHtml = 'Like what you see? Visit the ' +\n",
              "            '<a target=\"_blank\" href=https://colab.research.google.com/notebooks/data_table.ipynb>data table notebook</a>'\n",
              "            + ' to learn more about interactive tables.';\n",
              "          element.innerHTML = '';\n",
              "          dataTable['output_type'] = 'display_data';\n",
              "          await google.colab.output.renderOutput(dataTable, element);\n",
              "          const docLink = document.createElement('div');\n",
              "          docLink.innerHTML = docLinkHtml;\n",
              "          element.appendChild(docLink);\n",
              "        }\n",
              "      </script>\n",
              "    </div>\n",
              "  </div>\n",
              "  "
            ],
            "text/plain": [
              "   importance            labels\n",
              "0    0.456846   BLDG_STOR_A_CAT\n",
              "1    0.367356      BLDG_TYP_CAT\n",
              "2    0.175798  BLDG_NEW_REN_CAT"
            ]
          },
          "metadata": {}
        },
        {
          "output_type": "display_data",
          "data": {
            "image/png": "[encoded data removed]",
            "text/plain": [
              "<Figure size 720x648 with 1 Axes>"
            ]
          },
          "metadata": {
            "needs_background": "light"
          }
        }
      ]
    }
  ]
}