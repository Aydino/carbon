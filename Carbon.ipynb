{
  "nbformat": 4,
  "nbformat_minor": 0,
  "metadata": {
    "colab": {
      "name": "Carbon.ipynb",
      "provenance": [],
      "collapsed_sections": [],
      "authorship_tag": "ABX9TyNwpDOrMJV4ed4Z+UNRvRft",
      "include_colab_link": true
    },
    "kernelspec": {
      "name": "python3",
      "display_name": "Python 3"
    },
    "language_info": {
      "name": "python"
    }
  },
  "cells": [
    {
      "cell_type": "markdown",
      "metadata": {
        "id": "view-in-github",
        "colab_type": "text"
      },
      "source": [
        "<a href=\"https://colab.research.google.com/github/Aydino/carbon/blob/main/Carbon.ipynb\" target=\"_parent\"><img src=\"https://colab.research.google.com/assets/colab-badge.svg\" alt=\"Open In Colab\"/></a>"
      ]
    },
    {
      "cell_type": "markdown",
      "source": [
        "Carbon analysis. "
      ],
      "metadata": {
        "id": "T3OFfOOQ8kXQ"
      }
    },
    {
      "cell_type": "markdown",
      "source": [
        "# DATA DESCRIPTIVE ANALYSIS"
      ],
      "metadata": {
        "id": "l3nHjpHj9eWl"
      }
    },
    {
      "cell_type": "markdown",
      "source": [
        "First import libraries"
      ],
      "metadata": {
        "id": "i8AAT2zN9IXx"
      }
    },
    {
      "cell_type": "code",
      "source": [
        "import pandas as pd\n",
        "import numpy as np\n",
        "import seaborn as sns                       #visualisation\n",
        "import matplotlib.pyplot as plt             #visualisation\n",
        "%matplotlib inline     \n",
        "sns.set(color_codes=True)\n",
        "from sklearn.model_selection import train_test_split\n",
        "from sklearn.ensemble import RandomForestRegressor\n",
        "from sklearn.metrics import confusion_matrix\n",
        "from sklearn.metrics import roc_curve\n",
        "from IPython.display import display, HTML\n",
        "from sklearn.metrics import r2_score\n"
      ],
      "metadata": {
        "id": "fcB5Qh_38sFJ"
      },
      "execution_count": 240,
      "outputs": []
    },
    {
      "cell_type": "markdown",
      "source": [
        "**Import** **data** "
      ],
      "metadata": {
        "id": "3G4CFr6E9T1D"
      }
    },
    {
      "cell_type": "code",
      "source": [
        "df = pd.read_csv(\"Data.csv\")\n",
        "# To display the top 5 rows \n",
        "df.head(5)  "
      ],
      "metadata": {
        "colab": {
          "base_uri": "https://localhost:8080/",
          "height": 322
        },
        "id": "9f3gcJXS9W_c",
        "outputId": "c5bea0e3-bc43-44ff-e217-9af777c047e5"
      },
      "execution_count": 130,
      "outputs": [
        {
          "output_type": "execute_result",
          "data": {
            "text/plain": [
              "  BLDG_PUBID    BLDG_TYP    BLDG_US BLDG_LOC_REGION BLDG_NEW_REN  \\\n",
              "0        A00  Commercial  Mixed use     Middle East          New   \n",
              "1        A00  Commercial      Other   North America          New   \n",
              "2        A00  Commercial     Office          Europe          New   \n",
              "3        A00  Commercial      Other   North America          New   \n",
              "4        A00  Commercial     Office    Asia-Pacific          New   \n",
              "\n",
              "    $BLDG_AREA_M2        $BLDG_AREA_FT2  BLDG_STOR_A  $BLDG_STOR_A  LCA_YEAR  \\\n",
              "0  46452 to 92903  500,001 to 1 million            0  More than 25    2016.0   \n",
              "1  46452 to 92903  500,001 to 1 million            0       7 to 14    2016.0   \n",
              "2  46452 to 92903  500,001 to 1 million            0  More than 25    2016.0   \n",
              "3     930 to 2323      10,001 to 25,000            0        1 to 6    2016.0   \n",
              "4      Over 92903        Over 1 million            0      15 to 25    2016.0   \n",
              "\n",
              "   LCA_REFPERIOD  LCA_SOUR_CODE LCA_STAGES LCA_BLDG_SCOPE LCA_MAT_Q  \\\n",
              "0           40.0           41.0         AB             SF         Y   \n",
              "1           40.0           41.0         AB             SF         Y   \n",
              "2           40.0           41.0         AB             SF         Y   \n",
              "3           40.0           41.0         AB             SF         Y   \n",
              "4           40.0           41.0         AB             SF         Y   \n",
              "\n",
              "   EC_WB_EX_OPER  EC_LCAA_PERM2  Average_Area_m2  Average_Storey  \n",
              "0        2567.39        2521.63          70000.0            35.0  \n",
              "1        1699.34        1332.55          70000.0            11.0  \n",
              "2        1303.39        1031.76          70000.0            35.0  \n",
              "3        1211.33         938.69           1600.0             4.0  \n",
              "4        1087.86         937.59         120000.0            20.0  "
            ],
            "text/html": [
              "\n",
              "  <div id=\"df-c3eee300-ff06-43e9-a77d-f1647a702f64\">\n",
              "    <div class=\"colab-df-container\">\n",
              "      <div>\n",
              "<style scoped>\n",
              "    .dataframe tbody tr th:only-of-type {\n",
              "        vertical-align: middle;\n",
              "    }\n",
              "\n",
              "    .dataframe tbody tr th {\n",
              "        vertical-align: top;\n",
              "    }\n",
              "\n",
              "    .dataframe thead th {\n",
              "        text-align: right;\n",
              "    }\n",
              "</style>\n",
              "<table border=\"1\" class=\"dataframe\">\n",
              "  <thead>\n",
              "    <tr style=\"text-align: right;\">\n",
              "      <th></th>\n",
              "      <th>BLDG_PUBID</th>\n",
              "      <th>BLDG_TYP</th>\n",
              "      <th>BLDG_US</th>\n",
              "      <th>BLDG_LOC_REGION</th>\n",
              "      <th>BLDG_NEW_REN</th>\n",
              "      <th>$BLDG_AREA_M2</th>\n",
              "      <th>$BLDG_AREA_FT2</th>\n",
              "      <th>BLDG_STOR_A</th>\n",
              "      <th>$BLDG_STOR_A</th>\n",
              "      <th>LCA_YEAR</th>\n",
              "      <th>LCA_REFPERIOD</th>\n",
              "      <th>LCA_SOUR_CODE</th>\n",
              "      <th>LCA_STAGES</th>\n",
              "      <th>LCA_BLDG_SCOPE</th>\n",
              "      <th>LCA_MAT_Q</th>\n",
              "      <th>EC_WB_EX_OPER</th>\n",
              "      <th>EC_LCAA_PERM2</th>\n",
              "      <th>Average_Area_m2</th>\n",
              "      <th>Average_Storey</th>\n",
              "    </tr>\n",
              "  </thead>\n",
              "  <tbody>\n",
              "    <tr>\n",
              "      <th>0</th>\n",
              "      <td>A00</td>\n",
              "      <td>Commercial</td>\n",
              "      <td>Mixed use</td>\n",
              "      <td>Middle East</td>\n",
              "      <td>New</td>\n",
              "      <td>46452 to 92903</td>\n",
              "      <td>500,001 to 1 million</td>\n",
              "      <td>0</td>\n",
              "      <td>More than 25</td>\n",
              "      <td>2016.0</td>\n",
              "      <td>40.0</td>\n",
              "      <td>41.0</td>\n",
              "      <td>AB</td>\n",
              "      <td>SF</td>\n",
              "      <td>Y</td>\n",
              "      <td>2567.39</td>\n",
              "      <td>2521.63</td>\n",
              "      <td>70000.0</td>\n",
              "      <td>35.0</td>\n",
              "    </tr>\n",
              "    <tr>\n",
              "      <th>1</th>\n",
              "      <td>A00</td>\n",
              "      <td>Commercial</td>\n",
              "      <td>Other</td>\n",
              "      <td>North America</td>\n",
              "      <td>New</td>\n",
              "      <td>46452 to 92903</td>\n",
              "      <td>500,001 to 1 million</td>\n",
              "      <td>0</td>\n",
              "      <td>7 to 14</td>\n",
              "      <td>2016.0</td>\n",
              "      <td>40.0</td>\n",
              "      <td>41.0</td>\n",
              "      <td>AB</td>\n",
              "      <td>SF</td>\n",
              "      <td>Y</td>\n",
              "      <td>1699.34</td>\n",
              "      <td>1332.55</td>\n",
              "      <td>70000.0</td>\n",
              "      <td>11.0</td>\n",
              "    </tr>\n",
              "    <tr>\n",
              "      <th>2</th>\n",
              "      <td>A00</td>\n",
              "      <td>Commercial</td>\n",
              "      <td>Office</td>\n",
              "      <td>Europe</td>\n",
              "      <td>New</td>\n",
              "      <td>46452 to 92903</td>\n",
              "      <td>500,001 to 1 million</td>\n",
              "      <td>0</td>\n",
              "      <td>More than 25</td>\n",
              "      <td>2016.0</td>\n",
              "      <td>40.0</td>\n",
              "      <td>41.0</td>\n",
              "      <td>AB</td>\n",
              "      <td>SF</td>\n",
              "      <td>Y</td>\n",
              "      <td>1303.39</td>\n",
              "      <td>1031.76</td>\n",
              "      <td>70000.0</td>\n",
              "      <td>35.0</td>\n",
              "    </tr>\n",
              "    <tr>\n",
              "      <th>3</th>\n",
              "      <td>A00</td>\n",
              "      <td>Commercial</td>\n",
              "      <td>Other</td>\n",
              "      <td>North America</td>\n",
              "      <td>New</td>\n",
              "      <td>930 to 2323</td>\n",
              "      <td>10,001 to 25,000</td>\n",
              "      <td>0</td>\n",
              "      <td>1 to 6</td>\n",
              "      <td>2016.0</td>\n",
              "      <td>40.0</td>\n",
              "      <td>41.0</td>\n",
              "      <td>AB</td>\n",
              "      <td>SF</td>\n",
              "      <td>Y</td>\n",
              "      <td>1211.33</td>\n",
              "      <td>938.69</td>\n",
              "      <td>1600.0</td>\n",
              "      <td>4.0</td>\n",
              "    </tr>\n",
              "    <tr>\n",
              "      <th>4</th>\n",
              "      <td>A00</td>\n",
              "      <td>Commercial</td>\n",
              "      <td>Office</td>\n",
              "      <td>Asia-Pacific</td>\n",
              "      <td>New</td>\n",
              "      <td>Over 92903</td>\n",
              "      <td>Over 1 million</td>\n",
              "      <td>0</td>\n",
              "      <td>15 to 25</td>\n",
              "      <td>2016.0</td>\n",
              "      <td>40.0</td>\n",
              "      <td>41.0</td>\n",
              "      <td>AB</td>\n",
              "      <td>SF</td>\n",
              "      <td>Y</td>\n",
              "      <td>1087.86</td>\n",
              "      <td>937.59</td>\n",
              "      <td>120000.0</td>\n",
              "      <td>20.0</td>\n",
              "    </tr>\n",
              "  </tbody>\n",
              "</table>\n",
              "</div>\n",
              "      <button class=\"colab-df-convert\" onclick=\"convertToInteractive('df-c3eee300-ff06-43e9-a77d-f1647a702f64')\"\n",
              "              title=\"Convert this dataframe to an interactive table.\"\n",
              "              style=\"display:none;\">\n",
              "        \n",
              "  <svg xmlns=\"http://www.w3.org/2000/svg\" height=\"24px\"viewBox=\"0 0 24 24\"\n",
              "       width=\"24px\">\n",
              "    <path d=\"M0 0h24v24H0V0z\" fill=\"none\"/>\n",
              "    <path d=\"M18.56 5.44l.94 2.06.94-2.06 2.06-.94-2.06-.94-.94-2.06-.94 2.06-2.06.94zm-11 1L8.5 8.5l.94-2.06 2.06-.94-2.06-.94L8.5 2.5l-.94 2.06-2.06.94zm10 10l.94 2.06.94-2.06 2.06-.94-2.06-.94-.94-2.06-.94 2.06-2.06.94z\"/><path d=\"M17.41 7.96l-1.37-1.37c-.4-.4-.92-.59-1.43-.59-.52 0-1.04.2-1.43.59L10.3 9.45l-7.72 7.72c-.78.78-.78 2.05 0 2.83L4 21.41c.39.39.9.59 1.41.59.51 0 1.02-.2 1.41-.59l7.78-7.78 2.81-2.81c.8-.78.8-2.07 0-2.86zM5.41 20L4 18.59l7.72-7.72 1.47 1.35L5.41 20z\"/>\n",
              "  </svg>\n",
              "      </button>\n",
              "      \n",
              "  <style>\n",
              "    .colab-df-container {\n",
              "      display:flex;\n",
              "      flex-wrap:wrap;\n",
              "      gap: 12px;\n",
              "    }\n",
              "\n",
              "    .colab-df-convert {\n",
              "      background-color: #E8F0FE;\n",
              "      border: none;\n",
              "      border-radius: 50%;\n",
              "      cursor: pointer;\n",
              "      display: none;\n",
              "      fill: #1967D2;\n",
              "      height: 32px;\n",
              "      padding: 0 0 0 0;\n",
              "      width: 32px;\n",
              "    }\n",
              "\n",
              "    .colab-df-convert:hover {\n",
              "      background-color: #E2EBFA;\n",
              "      box-shadow: 0px 1px 2px rgba(60, 64, 67, 0.3), 0px 1px 3px 1px rgba(60, 64, 67, 0.15);\n",
              "      fill: #174EA6;\n",
              "    }\n",
              "\n",
              "    [theme=dark] .colab-df-convert {\n",
              "      background-color: #3B4455;\n",
              "      fill: #D2E3FC;\n",
              "    }\n",
              "\n",
              "    [theme=dark] .colab-df-convert:hover {\n",
              "      background-color: #434B5C;\n",
              "      box-shadow: 0px 1px 3px 1px rgba(0, 0, 0, 0.15);\n",
              "      filter: drop-shadow(0px 1px 2px rgba(0, 0, 0, 0.3));\n",
              "      fill: #FFFFFF;\n",
              "    }\n",
              "  </style>\n",
              "\n",
              "      <script>\n",
              "        const buttonEl =\n",
              "          document.querySelector('#df-c3eee300-ff06-43e9-a77d-f1647a702f64 button.colab-df-convert');\n",
              "        buttonEl.style.display =\n",
              "          google.colab.kernel.accessAllowed ? 'block' : 'none';\n",
              "\n",
              "        async function convertToInteractive(key) {\n",
              "          const element = document.querySelector('#df-c3eee300-ff06-43e9-a77d-f1647a702f64');\n",
              "          const dataTable =\n",
              "            await google.colab.kernel.invokeFunction('convertToInteractive',\n",
              "                                                     [key], {});\n",
              "          if (!dataTable) return;\n",
              "\n",
              "          const docLinkHtml = 'Like what you see? Visit the ' +\n",
              "            '<a target=\"_blank\" href=https://colab.research.google.com/notebooks/data_table.ipynb>data table notebook</a>'\n",
              "            + ' to learn more about interactive tables.';\n",
              "          element.innerHTML = '';\n",
              "          dataTable['output_type'] = 'display_data';\n",
              "          await google.colab.output.renderOutput(dataTable, element);\n",
              "          const docLink = document.createElement('div');\n",
              "          docLink.innerHTML = docLinkHtml;\n",
              "          element.appendChild(docLink);\n",
              "        }\n",
              "      </script>\n",
              "    </div>\n",
              "  </div>\n",
              "  "
            ]
          },
          "metadata": {},
          "execution_count": 130
        }
      ]
    },
    {
      "cell_type": "markdown",
      "source": [
        "Checking the types of data"
      ],
      "metadata": {
        "id": "yEvB6loZ9y7F"
      }
    },
    {
      "cell_type": "code",
      "source": [
        "df.dtypes"
      ],
      "metadata": {
        "colab": {
          "base_uri": "https://localhost:8080/",
          "height": 0
        },
        "id": "AyauHxmS90Oc",
        "outputId": "8b5120fb-6d7e-42f1-9780-88cf05028b86"
      },
      "execution_count": 131,
      "outputs": [
        {
          "output_type": "execute_result",
          "data": {
            "text/plain": [
              "BLDG_PUBID          object\n",
              "BLDG_TYP            object\n",
              "BLDG_US             object\n",
              "BLDG_LOC_REGION     object\n",
              "BLDG_NEW_REN        object\n",
              "$BLDG_AREA_M2       object\n",
              "$BLDG_AREA_FT2      object\n",
              "BLDG_STOR_A          int64\n",
              "$BLDG_STOR_A        object\n",
              "LCA_YEAR           float64\n",
              "LCA_REFPERIOD      float64\n",
              "LCA_SOUR_CODE      float64\n",
              "LCA_STAGES          object\n",
              "LCA_BLDG_SCOPE      object\n",
              "LCA_MAT_Q           object\n",
              "EC_WB_EX_OPER      float64\n",
              "EC_LCAA_PERM2      float64\n",
              "Average_Area_m2    float64\n",
              "Average_Storey     float64\n",
              "dtype: object"
            ]
          },
          "metadata": {},
          "execution_count": 131
        }
      ]
    },
    {
      "cell_type": "markdown",
      "source": [
        "**Dropping irrelevant columns**"
      ],
      "metadata": {
        "id": "gSomk1cf-FeQ"
      }
    },
    {
      "cell_type": "code",
      "source": [
        "df=df.drop(['BLDG_PUBID','BLDG_STOR_A','LCA_YEAR','LCA_REFPERIOD','LCA_SOUR_CODE','LCA_STAGES','LCA_BLDG_SCOPE','LCA_MAT_Q','$BLDG_AREA_FT2' ],axis=1)\n",
        "df.head(5)\n"
      ],
      "metadata": {
        "colab": {
          "base_uri": "https://localhost:8080/",
          "height": 288
        },
        "id": "qrm6GpMo-Id1",
        "outputId": "676cbbb7-b3e8-4c50-b1fe-d617c0450b4f"
      },
      "execution_count": 132,
      "outputs": [
        {
          "output_type": "execute_result",
          "data": {
            "text/plain": [
              "     BLDG_TYP    BLDG_US BLDG_LOC_REGION BLDG_NEW_REN   $BLDG_AREA_M2  \\\n",
              "0  Commercial  Mixed use     Middle East          New  46452 to 92903   \n",
              "1  Commercial      Other   North America          New  46452 to 92903   \n",
              "2  Commercial     Office          Europe          New  46452 to 92903   \n",
              "3  Commercial      Other   North America          New     930 to 2323   \n",
              "4  Commercial     Office    Asia-Pacific          New      Over 92903   \n",
              "\n",
              "   $BLDG_STOR_A  EC_WB_EX_OPER  EC_LCAA_PERM2  Average_Area_m2  Average_Storey  \n",
              "0  More than 25        2567.39        2521.63          70000.0            35.0  \n",
              "1       7 to 14        1699.34        1332.55          70000.0            11.0  \n",
              "2  More than 25        1303.39        1031.76          70000.0            35.0  \n",
              "3        1 to 6        1211.33         938.69           1600.0             4.0  \n",
              "4      15 to 25        1087.86         937.59         120000.0            20.0  "
            ],
            "text/html": [
              "\n",
              "  <div id=\"df-8f3e98c3-bf0a-47f2-9d40-9be947a42765\">\n",
              "    <div class=\"colab-df-container\">\n",
              "      <div>\n",
              "<style scoped>\n",
              "    .dataframe tbody tr th:only-of-type {\n",
              "        vertical-align: middle;\n",
              "    }\n",
              "\n",
              "    .dataframe tbody tr th {\n",
              "        vertical-align: top;\n",
              "    }\n",
              "\n",
              "    .dataframe thead th {\n",
              "        text-align: right;\n",
              "    }\n",
              "</style>\n",
              "<table border=\"1\" class=\"dataframe\">\n",
              "  <thead>\n",
              "    <tr style=\"text-align: right;\">\n",
              "      <th></th>\n",
              "      <th>BLDG_TYP</th>\n",
              "      <th>BLDG_US</th>\n",
              "      <th>BLDG_LOC_REGION</th>\n",
              "      <th>BLDG_NEW_REN</th>\n",
              "      <th>$BLDG_AREA_M2</th>\n",
              "      <th>$BLDG_STOR_A</th>\n",
              "      <th>EC_WB_EX_OPER</th>\n",
              "      <th>EC_LCAA_PERM2</th>\n",
              "      <th>Average_Area_m2</th>\n",
              "      <th>Average_Storey</th>\n",
              "    </tr>\n",
              "  </thead>\n",
              "  <tbody>\n",
              "    <tr>\n",
              "      <th>0</th>\n",
              "      <td>Commercial</td>\n",
              "      <td>Mixed use</td>\n",
              "      <td>Middle East</td>\n",
              "      <td>New</td>\n",
              "      <td>46452 to 92903</td>\n",
              "      <td>More than 25</td>\n",
              "      <td>2567.39</td>\n",
              "      <td>2521.63</td>\n",
              "      <td>70000.0</td>\n",
              "      <td>35.0</td>\n",
              "    </tr>\n",
              "    <tr>\n",
              "      <th>1</th>\n",
              "      <td>Commercial</td>\n",
              "      <td>Other</td>\n",
              "      <td>North America</td>\n",
              "      <td>New</td>\n",
              "      <td>46452 to 92903</td>\n",
              "      <td>7 to 14</td>\n",
              "      <td>1699.34</td>\n",
              "      <td>1332.55</td>\n",
              "      <td>70000.0</td>\n",
              "      <td>11.0</td>\n",
              "    </tr>\n",
              "    <tr>\n",
              "      <th>2</th>\n",
              "      <td>Commercial</td>\n",
              "      <td>Office</td>\n",
              "      <td>Europe</td>\n",
              "      <td>New</td>\n",
              "      <td>46452 to 92903</td>\n",
              "      <td>More than 25</td>\n",
              "      <td>1303.39</td>\n",
              "      <td>1031.76</td>\n",
              "      <td>70000.0</td>\n",
              "      <td>35.0</td>\n",
              "    </tr>\n",
              "    <tr>\n",
              "      <th>3</th>\n",
              "      <td>Commercial</td>\n",
              "      <td>Other</td>\n",
              "      <td>North America</td>\n",
              "      <td>New</td>\n",
              "      <td>930 to 2323</td>\n",
              "      <td>1 to 6</td>\n",
              "      <td>1211.33</td>\n",
              "      <td>938.69</td>\n",
              "      <td>1600.0</td>\n",
              "      <td>4.0</td>\n",
              "    </tr>\n",
              "    <tr>\n",
              "      <th>4</th>\n",
              "      <td>Commercial</td>\n",
              "      <td>Office</td>\n",
              "      <td>Asia-Pacific</td>\n",
              "      <td>New</td>\n",
              "      <td>Over 92903</td>\n",
              "      <td>15 to 25</td>\n",
              "      <td>1087.86</td>\n",
              "      <td>937.59</td>\n",
              "      <td>120000.0</td>\n",
              "      <td>20.0</td>\n",
              "    </tr>\n",
              "  </tbody>\n",
              "</table>\n",
              "</div>\n",
              "      <button class=\"colab-df-convert\" onclick=\"convertToInteractive('df-8f3e98c3-bf0a-47f2-9d40-9be947a42765')\"\n",
              "              title=\"Convert this dataframe to an interactive table.\"\n",
              "              style=\"display:none;\">\n",
              "        \n",
              "  <svg xmlns=\"http://www.w3.org/2000/svg\" height=\"24px\"viewBox=\"0 0 24 24\"\n",
              "       width=\"24px\">\n",
              "    <path d=\"M0 0h24v24H0V0z\" fill=\"none\"/>\n",
              "    <path d=\"M18.56 5.44l.94 2.06.94-2.06 2.06-.94-2.06-.94-.94-2.06-.94 2.06-2.06.94zm-11 1L8.5 8.5l.94-2.06 2.06-.94-2.06-.94L8.5 2.5l-.94 2.06-2.06.94zm10 10l.94 2.06.94-2.06 2.06-.94-2.06-.94-.94-2.06-.94 2.06-2.06.94z\"/><path d=\"M17.41 7.96l-1.37-1.37c-.4-.4-.92-.59-1.43-.59-.52 0-1.04.2-1.43.59L10.3 9.45l-7.72 7.72c-.78.78-.78 2.05 0 2.83L4 21.41c.39.39.9.59 1.41.59.51 0 1.02-.2 1.41-.59l7.78-7.78 2.81-2.81c.8-.78.8-2.07 0-2.86zM5.41 20L4 18.59l7.72-7.72 1.47 1.35L5.41 20z\"/>\n",
              "  </svg>\n",
              "      </button>\n",
              "      \n",
              "  <style>\n",
              "    .colab-df-container {\n",
              "      display:flex;\n",
              "      flex-wrap:wrap;\n",
              "      gap: 12px;\n",
              "    }\n",
              "\n",
              "    .colab-df-convert {\n",
              "      background-color: #E8F0FE;\n",
              "      border: none;\n",
              "      border-radius: 50%;\n",
              "      cursor: pointer;\n",
              "      display: none;\n",
              "      fill: #1967D2;\n",
              "      height: 32px;\n",
              "      padding: 0 0 0 0;\n",
              "      width: 32px;\n",
              "    }\n",
              "\n",
              "    .colab-df-convert:hover {\n",
              "      background-color: #E2EBFA;\n",
              "      box-shadow: 0px 1px 2px rgba(60, 64, 67, 0.3), 0px 1px 3px 1px rgba(60, 64, 67, 0.15);\n",
              "      fill: #174EA6;\n",
              "    }\n",
              "\n",
              "    [theme=dark] .colab-df-convert {\n",
              "      background-color: #3B4455;\n",
              "      fill: #D2E3FC;\n",
              "    }\n",
              "\n",
              "    [theme=dark] .colab-df-convert:hover {\n",
              "      background-color: #434B5C;\n",
              "      box-shadow: 0px 1px 3px 1px rgba(0, 0, 0, 0.15);\n",
              "      filter: drop-shadow(0px 1px 2px rgba(0, 0, 0, 0.3));\n",
              "      fill: #FFFFFF;\n",
              "    }\n",
              "  </style>\n",
              "\n",
              "      <script>\n",
              "        const buttonEl =\n",
              "          document.querySelector('#df-8f3e98c3-bf0a-47f2-9d40-9be947a42765 button.colab-df-convert');\n",
              "        buttonEl.style.display =\n",
              "          google.colab.kernel.accessAllowed ? 'block' : 'none';\n",
              "\n",
              "        async function convertToInteractive(key) {\n",
              "          const element = document.querySelector('#df-8f3e98c3-bf0a-47f2-9d40-9be947a42765');\n",
              "          const dataTable =\n",
              "            await google.colab.kernel.invokeFunction('convertToInteractive',\n",
              "                                                     [key], {});\n",
              "          if (!dataTable) return;\n",
              "\n",
              "          const docLinkHtml = 'Like what you see? Visit the ' +\n",
              "            '<a target=\"_blank\" href=https://colab.research.google.com/notebooks/data_table.ipynb>data table notebook</a>'\n",
              "            + ' to learn more about interactive tables.';\n",
              "          element.innerHTML = '';\n",
              "          dataTable['output_type'] = 'display_data';\n",
              "          await google.colab.output.renderOutput(dataTable, element);\n",
              "          const docLink = document.createElement('div');\n",
              "          docLink.innerHTML = docLinkHtml;\n",
              "          element.appendChild(docLink);\n",
              "        }\n",
              "      </script>\n",
              "    </div>\n",
              "  </div>\n",
              "  "
            ]
          },
          "metadata": {},
          "execution_count": 132
        }
      ]
    },
    {
      "cell_type": "code",
      "source": [
        "df.shape"
      ],
      "metadata": {
        "colab": {
          "base_uri": "https://localhost:8080/",
          "height": 0
        },
        "id": "37SvIT8w_qkd",
        "outputId": "0b0f439c-f8bb-440a-8d1d-4b48a58e3e70"
      },
      "execution_count": 133,
      "outputs": [
        {
          "output_type": "execute_result",
          "data": {
            "text/plain": [
              "(1191, 10)"
            ]
          },
          "metadata": {},
          "execution_count": 133
        }
      ]
    },
    {
      "cell_type": "markdown",
      "source": [
        "**Dublicate Check**"
      ],
      "metadata": {
        "id": "JStay9QV_0PA"
      }
    },
    {
      "cell_type": "code",
      "source": [
        "duplicate_rows_df = df[df.duplicated()]\n",
        "print(\"number of duplicate rows: \", duplicate_rows_df.shape)"
      ],
      "metadata": {
        "colab": {
          "base_uri": "https://localhost:8080/",
          "height": 0
        },
        "id": "4lKiVfvr_18v",
        "outputId": "ef173694-46ba-45fd-ba40-3823064ed6ff"
      },
      "execution_count": 134,
      "outputs": [
        {
          "output_type": "stream",
          "name": "stdout",
          "text": [
            "number of duplicate rows:  (58, 10)\n"
          ]
        }
      ]
    },
    {
      "cell_type": "markdown",
      "source": [
        "Drop Dublicates"
      ],
      "metadata": {
        "id": "XT_Rxb48_9BQ"
      }
    },
    {
      "cell_type": "code",
      "source": [
        "df = df.drop_duplicates()\n",
        "df.head(5)"
      ],
      "metadata": {
        "colab": {
          "base_uri": "https://localhost:8080/",
          "height": 288
        },
        "id": "xu8j5adjABdf",
        "outputId": "6e4e5209-4d04-49a6-9c4f-c7b15e9fd8b0"
      },
      "execution_count": 135,
      "outputs": [
        {
          "output_type": "execute_result",
          "data": {
            "text/plain": [
              "     BLDG_TYP    BLDG_US BLDG_LOC_REGION BLDG_NEW_REN   $BLDG_AREA_M2  \\\n",
              "0  Commercial  Mixed use     Middle East          New  46452 to 92903   \n",
              "1  Commercial      Other   North America          New  46452 to 92903   \n",
              "2  Commercial     Office          Europe          New  46452 to 92903   \n",
              "3  Commercial      Other   North America          New     930 to 2323   \n",
              "4  Commercial     Office    Asia-Pacific          New      Over 92903   \n",
              "\n",
              "   $BLDG_STOR_A  EC_WB_EX_OPER  EC_LCAA_PERM2  Average_Area_m2  Average_Storey  \n",
              "0  More than 25        2567.39        2521.63          70000.0            35.0  \n",
              "1       7 to 14        1699.34        1332.55          70000.0            11.0  \n",
              "2  More than 25        1303.39        1031.76          70000.0            35.0  \n",
              "3        1 to 6        1211.33         938.69           1600.0             4.0  \n",
              "4      15 to 25        1087.86         937.59         120000.0            20.0  "
            ],
            "text/html": [
              "\n",
              "  <div id=\"df-2f8ea009-db2b-408d-bb88-27a5c3193857\">\n",
              "    <div class=\"colab-df-container\">\n",
              "      <div>\n",
              "<style scoped>\n",
              "    .dataframe tbody tr th:only-of-type {\n",
              "        vertical-align: middle;\n",
              "    }\n",
              "\n",
              "    .dataframe tbody tr th {\n",
              "        vertical-align: top;\n",
              "    }\n",
              "\n",
              "    .dataframe thead th {\n",
              "        text-align: right;\n",
              "    }\n",
              "</style>\n",
              "<table border=\"1\" class=\"dataframe\">\n",
              "  <thead>\n",
              "    <tr style=\"text-align: right;\">\n",
              "      <th></th>\n",
              "      <th>BLDG_TYP</th>\n",
              "      <th>BLDG_US</th>\n",
              "      <th>BLDG_LOC_REGION</th>\n",
              "      <th>BLDG_NEW_REN</th>\n",
              "      <th>$BLDG_AREA_M2</th>\n",
              "      <th>$BLDG_STOR_A</th>\n",
              "      <th>EC_WB_EX_OPER</th>\n",
              "      <th>EC_LCAA_PERM2</th>\n",
              "      <th>Average_Area_m2</th>\n",
              "      <th>Average_Storey</th>\n",
              "    </tr>\n",
              "  </thead>\n",
              "  <tbody>\n",
              "    <tr>\n",
              "      <th>0</th>\n",
              "      <td>Commercial</td>\n",
              "      <td>Mixed use</td>\n",
              "      <td>Middle East</td>\n",
              "      <td>New</td>\n",
              "      <td>46452 to 92903</td>\n",
              "      <td>More than 25</td>\n",
              "      <td>2567.39</td>\n",
              "      <td>2521.63</td>\n",
              "      <td>70000.0</td>\n",
              "      <td>35.0</td>\n",
              "    </tr>\n",
              "    <tr>\n",
              "      <th>1</th>\n",
              "      <td>Commercial</td>\n",
              "      <td>Other</td>\n",
              "      <td>North America</td>\n",
              "      <td>New</td>\n",
              "      <td>46452 to 92903</td>\n",
              "      <td>7 to 14</td>\n",
              "      <td>1699.34</td>\n",
              "      <td>1332.55</td>\n",
              "      <td>70000.0</td>\n",
              "      <td>11.0</td>\n",
              "    </tr>\n",
              "    <tr>\n",
              "      <th>2</th>\n",
              "      <td>Commercial</td>\n",
              "      <td>Office</td>\n",
              "      <td>Europe</td>\n",
              "      <td>New</td>\n",
              "      <td>46452 to 92903</td>\n",
              "      <td>More than 25</td>\n",
              "      <td>1303.39</td>\n",
              "      <td>1031.76</td>\n",
              "      <td>70000.0</td>\n",
              "      <td>35.0</td>\n",
              "    </tr>\n",
              "    <tr>\n",
              "      <th>3</th>\n",
              "      <td>Commercial</td>\n",
              "      <td>Other</td>\n",
              "      <td>North America</td>\n",
              "      <td>New</td>\n",
              "      <td>930 to 2323</td>\n",
              "      <td>1 to 6</td>\n",
              "      <td>1211.33</td>\n",
              "      <td>938.69</td>\n",
              "      <td>1600.0</td>\n",
              "      <td>4.0</td>\n",
              "    </tr>\n",
              "    <tr>\n",
              "      <th>4</th>\n",
              "      <td>Commercial</td>\n",
              "      <td>Office</td>\n",
              "      <td>Asia-Pacific</td>\n",
              "      <td>New</td>\n",
              "      <td>Over 92903</td>\n",
              "      <td>15 to 25</td>\n",
              "      <td>1087.86</td>\n",
              "      <td>937.59</td>\n",
              "      <td>120000.0</td>\n",
              "      <td>20.0</td>\n",
              "    </tr>\n",
              "  </tbody>\n",
              "</table>\n",
              "</div>\n",
              "      <button class=\"colab-df-convert\" onclick=\"convertToInteractive('df-2f8ea009-db2b-408d-bb88-27a5c3193857')\"\n",
              "              title=\"Convert this dataframe to an interactive table.\"\n",
              "              style=\"display:none;\">\n",
              "        \n",
              "  <svg xmlns=\"http://www.w3.org/2000/svg\" height=\"24px\"viewBox=\"0 0 24 24\"\n",
              "       width=\"24px\">\n",
              "    <path d=\"M0 0h24v24H0V0z\" fill=\"none\"/>\n",
              "    <path d=\"M18.56 5.44l.94 2.06.94-2.06 2.06-.94-2.06-.94-.94-2.06-.94 2.06-2.06.94zm-11 1L8.5 8.5l.94-2.06 2.06-.94-2.06-.94L8.5 2.5l-.94 2.06-2.06.94zm10 10l.94 2.06.94-2.06 2.06-.94-2.06-.94-.94-2.06-.94 2.06-2.06.94z\"/><path d=\"M17.41 7.96l-1.37-1.37c-.4-.4-.92-.59-1.43-.59-.52 0-1.04.2-1.43.59L10.3 9.45l-7.72 7.72c-.78.78-.78 2.05 0 2.83L4 21.41c.39.39.9.59 1.41.59.51 0 1.02-.2 1.41-.59l7.78-7.78 2.81-2.81c.8-.78.8-2.07 0-2.86zM5.41 20L4 18.59l7.72-7.72 1.47 1.35L5.41 20z\"/>\n",
              "  </svg>\n",
              "      </button>\n",
              "      \n",
              "  <style>\n",
              "    .colab-df-container {\n",
              "      display:flex;\n",
              "      flex-wrap:wrap;\n",
              "      gap: 12px;\n",
              "    }\n",
              "\n",
              "    .colab-df-convert {\n",
              "      background-color: #E8F0FE;\n",
              "      border: none;\n",
              "      border-radius: 50%;\n",
              "      cursor: pointer;\n",
              "      display: none;\n",
              "      fill: #1967D2;\n",
              "      height: 32px;\n",
              "      padding: 0 0 0 0;\n",
              "      width: 32px;\n",
              "    }\n",
              "\n",
              "    .colab-df-convert:hover {\n",
              "      background-color: #E2EBFA;\n",
              "      box-shadow: 0px 1px 2px rgba(60, 64, 67, 0.3), 0px 1px 3px 1px rgba(60, 64, 67, 0.15);\n",
              "      fill: #174EA6;\n",
              "    }\n",
              "\n",
              "    [theme=dark] .colab-df-convert {\n",
              "      background-color: #3B4455;\n",
              "      fill: #D2E3FC;\n",
              "    }\n",
              "\n",
              "    [theme=dark] .colab-df-convert:hover {\n",
              "      background-color: #434B5C;\n",
              "      box-shadow: 0px 1px 3px 1px rgba(0, 0, 0, 0.15);\n",
              "      filter: drop-shadow(0px 1px 2px rgba(0, 0, 0, 0.3));\n",
              "      fill: #FFFFFF;\n",
              "    }\n",
              "  </style>\n",
              "\n",
              "      <script>\n",
              "        const buttonEl =\n",
              "          document.querySelector('#df-2f8ea009-db2b-408d-bb88-27a5c3193857 button.colab-df-convert');\n",
              "        buttonEl.style.display =\n",
              "          google.colab.kernel.accessAllowed ? 'block' : 'none';\n",
              "\n",
              "        async function convertToInteractive(key) {\n",
              "          const element = document.querySelector('#df-2f8ea009-db2b-408d-bb88-27a5c3193857');\n",
              "          const dataTable =\n",
              "            await google.colab.kernel.invokeFunction('convertToInteractive',\n",
              "                                                     [key], {});\n",
              "          if (!dataTable) return;\n",
              "\n",
              "          const docLinkHtml = 'Like what you see? Visit the ' +\n",
              "            '<a target=\"_blank\" href=https://colab.research.google.com/notebooks/data_table.ipynb>data table notebook</a>'\n",
              "            + ' to learn more about interactive tables.';\n",
              "          element.innerHTML = '';\n",
              "          dataTable['output_type'] = 'display_data';\n",
              "          await google.colab.output.renderOutput(dataTable, element);\n",
              "          const docLink = document.createElement('div');\n",
              "          docLink.innerHTML = docLinkHtml;\n",
              "          element.appendChild(docLink);\n",
              "        }\n",
              "      </script>\n",
              "    </div>\n",
              "  </div>\n",
              "  "
            ]
          },
          "metadata": {},
          "execution_count": 135
        }
      ]
    },
    {
      "cell_type": "code",
      "source": [
        "df.count()"
      ],
      "metadata": {
        "colab": {
          "base_uri": "https://localhost:8080/",
          "height": 0
        },
        "id": "mM3Wq41WAF8Y",
        "outputId": "c3329974-61f6-4db1-9975-cce42721e993"
      },
      "execution_count": 136,
      "outputs": [
        {
          "output_type": "execute_result",
          "data": {
            "text/plain": [
              "BLDG_TYP           1120\n",
              "BLDG_US            1119\n",
              "BLDG_LOC_REGION    1002\n",
              "BLDG_NEW_REN       1117\n",
              "$BLDG_AREA_M2      1131\n",
              "$BLDG_STOR_A       1070\n",
              "EC_WB_EX_OPER      1124\n",
              "EC_LCAA_PERM2       988\n",
              "Average_Area_m2    1131\n",
              "Average_Storey     1070\n",
              "dtype: int64"
            ]
          },
          "metadata": {},
          "execution_count": 136
        }
      ]
    },
    {
      "cell_type": "markdown",
      "source": [
        "Dropping the missing or null values."
      ],
      "metadata": {
        "id": "1AElymS_AUrR"
      }
    },
    {
      "cell_type": "code",
      "source": [
        "print(df.isnull().sum())"
      ],
      "metadata": {
        "colab": {
          "base_uri": "https://localhost:8080/",
          "height": 0
        },
        "id": "BfEMAUgAAVbo",
        "outputId": "d4df8786-5332-4ef3-e6c0-c8b36d53ca65"
      },
      "execution_count": 137,
      "outputs": [
        {
          "output_type": "stream",
          "name": "stdout",
          "text": [
            "BLDG_TYP            13\n",
            "BLDG_US             14\n",
            "BLDG_LOC_REGION    131\n",
            "BLDG_NEW_REN        16\n",
            "$BLDG_AREA_M2        2\n",
            "$BLDG_STOR_A        63\n",
            "EC_WB_EX_OPER        9\n",
            "EC_LCAA_PERM2      145\n",
            "Average_Area_m2      2\n",
            "Average_Storey      63\n",
            "dtype: int64\n"
          ]
        }
      ]
    },
    {
      "cell_type": "code",
      "source": [
        "df = df.dropna()    # Dropping the missing values and zeros\n",
        "df.count()"
      ],
      "metadata": {
        "colab": {
          "base_uri": "https://localhost:8080/",
          "height": 0
        },
        "id": "onKPasP1AaYo",
        "outputId": "9fb30002-e069-43be-a013-b9f29b4293ea"
      },
      "execution_count": 138,
      "outputs": [
        {
          "output_type": "execute_result",
          "data": {
            "text/plain": [
              "BLDG_TYP           840\n",
              "BLDG_US            840\n",
              "BLDG_LOC_REGION    840\n",
              "BLDG_NEW_REN       840\n",
              "$BLDG_AREA_M2      840\n",
              "$BLDG_STOR_A       840\n",
              "EC_WB_EX_OPER      840\n",
              "EC_LCAA_PERM2      840\n",
              "Average_Area_m2    840\n",
              "Average_Storey     840\n",
              "dtype: int64"
            ]
          },
          "metadata": {},
          "execution_count": 138
        }
      ]
    },
    {
      "cell_type": "code",
      "source": [
        "print(df.isnull().sum())   # After dropping the values"
      ],
      "metadata": {
        "colab": {
          "base_uri": "https://localhost:8080/",
          "height": 0
        },
        "id": "zf8wAmt9Auy9",
        "outputId": "055c1bf2-4074-499e-c9e3-f695e1c1e953"
      },
      "execution_count": 139,
      "outputs": [
        {
          "output_type": "stream",
          "name": "stdout",
          "text": [
            "BLDG_TYP           0\n",
            "BLDG_US            0\n",
            "BLDG_LOC_REGION    0\n",
            "BLDG_NEW_REN       0\n",
            "$BLDG_AREA_M2      0\n",
            "$BLDG_STOR_A       0\n",
            "EC_WB_EX_OPER      0\n",
            "EC_LCAA_PERM2      0\n",
            "Average_Area_m2    0\n",
            "Average_Storey     0\n",
            "dtype: int64\n"
          ]
        }
      ]
    },
    {
      "cell_type": "markdown",
      "source": [
        "**Detecting Outliers**"
      ],
      "metadata": {
        "id": "RUhc_h77D9Fx"
      }
    },
    {
      "cell_type": "code",
      "source": [
        "sns.boxplot(x=df['EC_WB_EX_OPER'])"
      ],
      "metadata": {
        "colab": {
          "base_uri": "https://localhost:8080/",
          "height": 302
        },
        "id": "nfJWiF9IA0lD",
        "outputId": "721b98af-1620-41af-da35-885bb6c7dcd1"
      },
      "execution_count": 140,
      "outputs": [
        {
          "output_type": "execute_result",
          "data": {
            "text/plain": [
              "<matplotlib.axes._subplots.AxesSubplot at 0x7feaeb28a910>"
            ]
          },
          "metadata": {},
          "execution_count": 140
        },
        {
          "output_type": "display_data",
          "data": {
            "text/plain": [
              "<Figure size 432x288 with 1 Axes>"
            ],
            "image/png": "[encoded data removed]"
          },
          "metadata": {}
        }
      ]
    },
    {
      "cell_type": "code",
      "source": [
        "Q1 = df.quantile(0.25)\n",
        "Q3 = df.quantile(0.75)\n",
        "IQR = Q3 - Q1\n",
        "print(IQR)"
      ],
      "metadata": {
        "colab": {
          "base_uri": "https://localhost:8080/",
          "height": 0
        },
        "id": "MGsePHffBcwf",
        "outputId": "70c625a7-c014-4c14-ea7c-1296476f7f8f"
      },
      "execution_count": 141,
      "outputs": [
        {
          "output_type": "stream",
          "name": "stdout",
          "text": [
            "EC_WB_EX_OPER      21576.9575\n",
            "EC_LCAA_PERM2        286.3400\n",
            "Average_Area_m2    66500.0000\n",
            "Average_Storey        16.0000\n",
            "dtype: float64\n"
          ]
        }
      ]
    },
    {
      "cell_type": "markdown",
      "source": [
        "Outliers elimination"
      ],
      "metadata": {
        "id": "cCSwCvv7Bz2Y"
      }
    },
    {
      "cell_type": "code",
      "source": [
        "df = df[~((df < (Q1 - 1.5 * IQR)) |(df > (Q3 + 1.5 * IQR))).any(axis=1)]\n",
        "df.shape"
      ],
      "metadata": {
        "colab": {
          "base_uri": "https://localhost:8080/",
          "height": 0
        },
        "id": "uCJSaWxnBrQA",
        "outputId": "23695547-1a84-4a68-c188-7304be1fbe8e"
      },
      "execution_count": 142,
      "outputs": [
        {
          "output_type": "stream",
          "name": "stderr",
          "text": [
            "/usr/local/lib/python3.7/dist-packages/ipykernel_launcher.py:1: FutureWarning: Automatic reindexing on DataFrame vs Series comparisons is deprecated and will raise ValueError in a future version.  Do `left, right = left.align(right, axis=1, copy=False)` before e.g. `left == right`\n",
            "  \"\"\"Entry point for launching an IPython kernel.\n"
          ]
        },
        {
          "output_type": "execute_result",
          "data": {
            "text/plain": [
              "(673, 10)"
            ]
          },
          "metadata": {},
          "execution_count": 142
        }
      ]
    },
    {
      "cell_type": "markdown",
      "source": [
        "**Change Column Names **"
      ],
      "metadata": {
        "id": "6w4RnViiEMGV"
      }
    },
    {
      "cell_type": "code",
      "source": [
        "df = df.rename(columns={'$BLDG_AREA_M2':'BLDG_AREA_M2','$BLDG_AREA_FT2':'BLDG_AREA_FT2','$BLDG_STOR_A':'BLDG_STOR_A'})\n",
        "df.head(5)"
      ],
      "metadata": {
        "colab": {
          "base_uri": "https://localhost:8080/",
          "height": 322
        },
        "id": "XfcnmVEfEQQ8",
        "outputId": "cc70e76b-b8f1-4c67-aeaa-8b3e6287fde7"
      },
      "execution_count": 143,
      "outputs": [
        {
          "output_type": "execute_result",
          "data": {
            "text/plain": [
              "     BLDG_TYP BLDG_US BLDG_LOC_REGION BLDG_NEW_REN    BLDG_AREA_M2  \\\n",
              "3  Commercial   Other   North America          New     930 to 2323   \n",
              "4  Commercial  Office    Asia-Pacific          New      Over 92903   \n",
              "5  Commercial  Office    Asia-Pacific          New  46452 to 92903   \n",
              "6  Commercial   Other   North America          New  18581 to 46451   \n",
              "7  Commercial   Other   North America          New  18581 to 46451   \n",
              "\n",
              "  BLDG_STOR_A  EC_WB_EX_OPER  EC_LCAA_PERM2  Average_Area_m2  Average_Storey  \n",
              "3      1 to 6        1211.33         938.69           1600.0             4.0  \n",
              "4    15 to 25        1087.86         937.59         120000.0            20.0  \n",
              "5      1 to 6         992.27         923.30          70000.0             4.0  \n",
              "6      1 to 6        1185.57         917.93          35000.0             4.0  \n",
              "7      1 to 6        1140.08         882.65          35000.0             4.0  "
            ],
            "text/html": [
              "\n",
              "  <div id=\"df-fd6074b4-6cc5-4adb-9dd3-dff53858bc90\">\n",
              "    <div class=\"colab-df-container\">\n",
              "      <div>\n",
              "<style scoped>\n",
              "    .dataframe tbody tr th:only-of-type {\n",
              "        vertical-align: middle;\n",
              "    }\n",
              "\n",
              "    .dataframe tbody tr th {\n",
              "        vertical-align: top;\n",
              "    }\n",
              "\n",
              "    .dataframe thead th {\n",
              "        text-align: right;\n",
              "    }\n",
              "</style>\n",
              "<table border=\"1\" class=\"dataframe\">\n",
              "  <thead>\n",
              "    <tr style=\"text-align: right;\">\n",
              "      <th></th>\n",
              "      <th>BLDG_TYP</th>\n",
              "      <th>BLDG_US</th>\n",
              "      <th>BLDG_LOC_REGION</th>\n",
              "      <th>BLDG_NEW_REN</th>\n",
              "      <th>BLDG_AREA_M2</th>\n",
              "      <th>BLDG_STOR_A</th>\n",
              "      <th>EC_WB_EX_OPER</th>\n",
              "      <th>EC_LCAA_PERM2</th>\n",
              "      <th>Average_Area_m2</th>\n",
              "      <th>Average_Storey</th>\n",
              "    </tr>\n",
              "  </thead>\n",
              "  <tbody>\n",
              "    <tr>\n",
              "      <th>3</th>\n",
              "      <td>Commercial</td>\n",
              "      <td>Other</td>\n",
              "      <td>North America</td>\n",
              "      <td>New</td>\n",
              "      <td>930 to 2323</td>\n",
              "      <td>1 to 6</td>\n",
              "      <td>1211.33</td>\n",
              "      <td>938.69</td>\n",
              "      <td>1600.0</td>\n",
              "      <td>4.0</td>\n",
              "    </tr>\n",
              "    <tr>\n",
              "      <th>4</th>\n",
              "      <td>Commercial</td>\n",
              "      <td>Office</td>\n",
              "      <td>Asia-Pacific</td>\n",
              "      <td>New</td>\n",
              "      <td>Over 92903</td>\n",
              "      <td>15 to 25</td>\n",
              "      <td>1087.86</td>\n",
              "      <td>937.59</td>\n",
              "      <td>120000.0</td>\n",
              "      <td>20.0</td>\n",
              "    </tr>\n",
              "    <tr>\n",
              "      <th>5</th>\n",
              "      <td>Commercial</td>\n",
              "      <td>Office</td>\n",
              "      <td>Asia-Pacific</td>\n",
              "      <td>New</td>\n",
              "      <td>46452 to 92903</td>\n",
              "      <td>1 to 6</td>\n",
              "      <td>992.27</td>\n",
              "      <td>923.30</td>\n",
              "      <td>70000.0</td>\n",
              "      <td>4.0</td>\n",
              "    </tr>\n",
              "    <tr>\n",
              "      <th>6</th>\n",
              "      <td>Commercial</td>\n",
              "      <td>Other</td>\n",
              "      <td>North America</td>\n",
              "      <td>New</td>\n",
              "      <td>18581 to 46451</td>\n",
              "      <td>1 to 6</td>\n",
              "      <td>1185.57</td>\n",
              "      <td>917.93</td>\n",
              "      <td>35000.0</td>\n",
              "      <td>4.0</td>\n",
              "    </tr>\n",
              "    <tr>\n",
              "      <th>7</th>\n",
              "      <td>Commercial</td>\n",
              "      <td>Other</td>\n",
              "      <td>North America</td>\n",
              "      <td>New</td>\n",
              "      <td>18581 to 46451</td>\n",
              "      <td>1 to 6</td>\n",
              "      <td>1140.08</td>\n",
              "      <td>882.65</td>\n",
              "      <td>35000.0</td>\n",
              "      <td>4.0</td>\n",
              "    </tr>\n",
              "  </tbody>\n",
              "</table>\n",
              "</div>\n",
              "      <button class=\"colab-df-convert\" onclick=\"convertToInteractive('df-fd6074b4-6cc5-4adb-9dd3-dff53858bc90')\"\n",
              "              title=\"Convert this dataframe to an interactive table.\"\n",
              "              style=\"display:none;\">\n",
              "        \n",
              "  <svg xmlns=\"http://www.w3.org/2000/svg\" height=\"24px\"viewBox=\"0 0 24 24\"\n",
              "       width=\"24px\">\n",
              "    <path d=\"M0 0h24v24H0V0z\" fill=\"none\"/>\n",
              "    <path d=\"M18.56 5.44l.94 2.06.94-2.06 2.06-.94-2.06-.94-.94-2.06-.94 2.06-2.06.94zm-11 1L8.5 8.5l.94-2.06 2.06-.94-2.06-.94L8.5 2.5l-.94 2.06-2.06.94zm10 10l.94 2.06.94-2.06 2.06-.94-2.06-.94-.94-2.06-.94 2.06-2.06.94z\"/><path d=\"M17.41 7.96l-1.37-1.37c-.4-.4-.92-.59-1.43-.59-.52 0-1.04.2-1.43.59L10.3 9.45l-7.72 7.72c-.78.78-.78 2.05 0 2.83L4 21.41c.39.39.9.59 1.41.59.51 0 1.02-.2 1.41-.59l7.78-7.78 2.81-2.81c.8-.78.8-2.07 0-2.86zM5.41 20L4 18.59l7.72-7.72 1.47 1.35L5.41 20z\"/>\n",
              "  </svg>\n",
              "      </button>\n",
              "      \n",
              "  <style>\n",
              "    .colab-df-container {\n",
              "      display:flex;\n",
              "      flex-wrap:wrap;\n",
              "      gap: 12px;\n",
              "    }\n",
              "\n",
              "    .colab-df-convert {\n",
              "      background-color: #E8F0FE;\n",
              "      border: none;\n",
              "      border-radius: 50%;\n",
              "      cursor: pointer;\n",
              "      display: none;\n",
              "      fill: #1967D2;\n",
              "      height: 32px;\n",
              "      padding: 0 0 0 0;\n",
              "      width: 32px;\n",
              "    }\n",
              "\n",
              "    .colab-df-convert:hover {\n",
              "      background-color: #E2EBFA;\n",
              "      box-shadow: 0px 1px 2px rgba(60, 64, 67, 0.3), 0px 1px 3px 1px rgba(60, 64, 67, 0.15);\n",
              "      fill: #174EA6;\n",
              "    }\n",
              "\n",
              "    [theme=dark] .colab-df-convert {\n",
              "      background-color: #3B4455;\n",
              "      fill: #D2E3FC;\n",
              "    }\n",
              "\n",
              "    [theme=dark] .colab-df-convert:hover {\n",
              "      background-color: #434B5C;\n",
              "      box-shadow: 0px 1px 3px 1px rgba(0, 0, 0, 0.15);\n",
              "      filter: drop-shadow(0px 1px 2px rgba(0, 0, 0, 0.3));\n",
              "      fill: #FFFFFF;\n",
              "    }\n",
              "  </style>\n",
              "\n",
              "      <script>\n",
              "        const buttonEl =\n",
              "          document.querySelector('#df-fd6074b4-6cc5-4adb-9dd3-dff53858bc90 button.colab-df-convert');\n",
              "        buttonEl.style.display =\n",
              "          google.colab.kernel.accessAllowed ? 'block' : 'none';\n",
              "\n",
              "        async function convertToInteractive(key) {\n",
              "          const element = document.querySelector('#df-fd6074b4-6cc5-4adb-9dd3-dff53858bc90');\n",
              "          const dataTable =\n",
              "            await google.colab.kernel.invokeFunction('convertToInteractive',\n",
              "                                                     [key], {});\n",
              "          if (!dataTable) return;\n",
              "\n",
              "          const docLinkHtml = 'Like what you see? Visit the ' +\n",
              "            '<a target=\"_blank\" href=https://colab.research.google.com/notebooks/data_table.ipynb>data table notebook</a>'\n",
              "            + ' to learn more about interactive tables.';\n",
              "          element.innerHTML = '';\n",
              "          dataTable['output_type'] = 'display_data';\n",
              "          await google.colab.output.renderOutput(dataTable, element);\n",
              "          const docLink = document.createElement('div');\n",
              "          docLink.innerHTML = docLinkHtml;\n",
              "          element.appendChild(docLink);\n",
              "        }\n",
              "      </script>\n",
              "    </div>\n",
              "  </div>\n",
              "  "
            ]
          },
          "metadata": {},
          "execution_count": 143
        }
      ]
    },
    {
      "cell_type": "markdown",
      "source": [
        "Histogram---------"
      ],
      "metadata": {
        "id": "V5s6FBxVB6Tv"
      }
    },
    {
      "cell_type": "code",
      "source": [
        "df.BLDG_AREA_M2.value_counts().plot(kind='bar', figsize=(10,5))\n",
        "plt.title(\"Building Area Distribution\")\n",
        "plt.ylabel('Numbers')\n",
        "plt.xlabel('Area (m2)');"
      ],
      "metadata": {
        "colab": {
          "base_uri": "https://localhost:8080/",
          "height": 433
        },
        "id": "jlSyPao-B86P",
        "outputId": "2817e11e-1d60-4354-9aea-7515557e6001"
      },
      "execution_count": 144,
      "outputs": [
        {
          "output_type": "display_data",
          "data": {
            "text/plain": [
              "<Figure size 720x360 with 1 Axes>"
            ],
            "image/png": "[encoded data removed]"
          },
          "metadata": {}
        }
      ]
    },
    {
      "cell_type": "code",
      "source": [
        "df.BLDG_STOR_A.value_counts().plot(kind='bar', figsize=(10,5))\n",
        "plt.title(\"Building Storey\")\n",
        "plt.ylabel('Numbers')\n",
        "plt.xlabel('Storey Nos');"
      ],
      "metadata": {
        "colab": {
          "base_uri": "https://localhost:8080/",
          "height": 419
        },
        "id": "RuPPU2FURJRZ",
        "outputId": "ecb9f3e4-9f4a-44ee-8b0d-817ebae1fd60"
      },
      "execution_count": 145,
      "outputs": [
        {
          "output_type": "display_data",
          "data": {
            "text/plain": [
              "<Figure size 720x360 with 1 Axes>"
            ],
            "image/png": "[encoded data removed]"
          },
          "metadata": {}
        }
      ]
    },
    {
      "cell_type": "code",
      "source": [
        "df.BLDG_US.value_counts().plot(kind='bar', figsize=(10,5))\n",
        "plt.title(\"Building Types\")\n",
        "plt.ylabel('Numbers')\n",
        "plt.xlabel('Type');"
      ],
      "metadata": {
        "colab": {
          "base_uri": "https://localhost:8080/",
          "height": 476
        },
        "id": "otj-nvprP-CH",
        "outputId": "4771cc4c-ba0b-46e9-c6d2-66549f8ebfb2"
      },
      "execution_count": 146,
      "outputs": [
        {
          "output_type": "display_data",
          "data": {
            "text/plain": [
              "<Figure size 720x360 with 1 Axes>"
            ],
            "image/png": "[encoded data removed]"
          },
          "metadata": {}
        }
      ]
    },
    {
      "cell_type": "code",
      "source": [
        "df.BLDG_TYP.value_counts().plot(kind='bar', figsize=(10,5))\n",
        "plt.title(\"Building Types\")\n",
        "plt.ylabel('Numbers')\n",
        "plt.xlabel('Area (m2)');"
      ],
      "metadata": {
        "colab": {
          "base_uri": "https://localhost:8080/",
          "height": 433
        },
        "id": "ZDDdSMepQ4ke",
        "outputId": "62f9b0f0-7a30-4c93-b4f9-0a71dd54fe4b"
      },
      "execution_count": 147,
      "outputs": [
        {
          "output_type": "display_data",
          "data": {
            "text/plain": [
              "<Figure size 720x360 with 1 Axes>"
            ],
            "image/png": "[encoded data removed]"
          },
          "metadata": {}
        }
      ]
    },
    {
      "cell_type": "markdown",
      "source": [
        "Let's check corr betweeen total carbon and unit carbon."
      ],
      "metadata": {
        "id": "oEQ7DX8sK8lp"
      }
    },
    {
      "cell_type": "code",
      "source": [
        "plt.figure(figsize=(10,5))\n",
        "c= df.corr()\n",
        "sns.heatmap(c,cmap=\"BrBG\",annot=True)"
      ],
      "metadata": {
        "colab": {
          "base_uri": "https://localhost:8080/",
          "height": 344
        },
        "id": "GNWp_PHHKtIy",
        "outputId": "892c48ec-7a4c-4460-b9f1-8a9a3f6427d8"
      },
      "execution_count": 148,
      "outputs": [
        {
          "output_type": "execute_result",
          "data": {
            "text/plain": [
              "<matplotlib.axes._subplots.AxesSubplot at 0x7feaeb168c50>"
            ]
          },
          "metadata": {},
          "execution_count": 148
        },
        {
          "output_type": "display_data",
          "data": {
            "text/plain": [
              "<Figure size 720x360 with 2 Axes>"
            ],
            "image/png": "[encoded data removed]"
          },
          "metadata": {}
        }
      ]
    },
    {
      "cell_type": "code",
      "source": [
        "fig, ax = plt.subplots(figsize=(18,6))\n",
        "ax.scatter(df['Average_Area_m2'], df['EC_LCAA_PERM2'])\n",
        "ax.set_xlabel('Average_Area_m2')\n",
        "ax.set_ylabel('EC_LCAA_PERM2')\n",
        "plt.show()"
      ],
      "metadata": {
        "colab": {
          "base_uri": "https://localhost:8080/",
          "height": 351
        },
        "id": "zS_hVTtsPNLo",
        "outputId": "37ec83ea-d3cf-4327-a98d-6d2e3354ca9f"
      },
      "execution_count": 149,
      "outputs": [
        {
          "output_type": "display_data",
          "data": {
            "text/plain": [
              "<Figure size 1296x432 with 1 Axes>"
            ],
            "image/png": "[encoded data removed]"
          },
          "metadata": {}
        }
      ]
    },
    {
      "cell_type": "code",
      "source": [
        "fig, ax = plt.subplots(figsize=(18,6))\n",
        "ax.scatter(df['BLDG_TYP'], df['EC_LCAA_PERM2'])\n",
        "ax.set_xlabel('BLDG_TYP')\n",
        "ax.set_ylabel('EC_LCAA_PERM2')\n",
        "plt.show()"
      ],
      "metadata": {
        "colab": {
          "base_uri": "https://localhost:8080/",
          "height": 351
        },
        "id": "VJpiQ8vcQiZ-",
        "outputId": "dabf51bc-7f2a-4d82-f71c-b6b30e8d3898"
      },
      "execution_count": 150,
      "outputs": [
        {
          "output_type": "display_data",
          "data": {
            "text/plain": [
              "<Figure size 1296x432 with 1 Axes>"
            ],
            "image/png": "[encoded data removed]"
          },
          "metadata": {}
        }
      ]
    },
    {
      "cell_type": "code",
      "source": [
        "fig, ax = plt.subplots(figsize=(18,6))\n",
        "ax.scatter(df['BLDG_STOR_A'], df['EC_LCAA_PERM2'])\n",
        "ax.set_xlabel('BLDG_STOR_A')\n",
        "ax.set_ylabel('EC_LCAA_PERM2')\n",
        "plt.show()"
      ],
      "metadata": {
        "colab": {
          "base_uri": "https://localhost:8080/",
          "height": 351
        },
        "id": "OlWosNZSRgJR",
        "outputId": "97de858a-0fb3-4e1b-8b48-4203a859b204"
      },
      "execution_count": 151,
      "outputs": [
        {
          "output_type": "display_data",
          "data": {
            "text/plain": [
              "<Figure size 1296x432 with 1 Axes>"
            ],
            "image/png": "[encoded data removed]"
          },
          "metadata": {}
        }
      ]
    },
    {
      "cell_type": "markdown",
      "source": [
        "Statistical data of the data frame"
      ],
      "metadata": {
        "id": "vW0hw3NBRuG5"
      }
    },
    {
      "cell_type": "code",
      "source": [
        "df['EC_LCAA_PERM2'].describe()"
      ],
      "metadata": {
        "colab": {
          "base_uri": "https://localhost:8080/",
          "height": 0
        },
        "id": "EXp-Nu3vRz2S",
        "outputId": "1043788f-31ca-4db0-8b79-8b43b6e6d374"
      },
      "execution_count": 152,
      "outputs": [
        {
          "output_type": "execute_result",
          "data": {
            "text/plain": [
              "count    673.000000\n",
              "mean     374.075245\n",
              "std      192.614461\n",
              "min       10.000000\n",
              "25%      230.000000\n",
              "50%      352.000000\n",
              "75%      485.000000\n",
              "max      950.000000\n",
              "Name: EC_LCAA_PERM2, dtype: float64"
            ]
          },
          "metadata": {},
          "execution_count": 152
        }
      ]
    },
    {
      "cell_type": "code",
      "source": [
        "fig, ax = plt.subplots(figsize=(18,6))\n",
        "ax = sns.boxplot(x='BLDG_STOR_A', y='EC_LCAA_PERM2', data=df, orient=\"v\")"
      ],
      "metadata": {
        "colab": {
          "base_uri": "https://localhost:8080/",
          "height": 351
        },
        "id": "Rxi6q8iXTHEp",
        "outputId": "5b074d21-2d45-4317-cd01-d042c3ed6ff8"
      },
      "execution_count": 153,
      "outputs": [
        {
          "output_type": "display_data",
          "data": {
            "text/plain": [
              "<Figure size 1296x432 with 1 Axes>"
            ],
            "image/png": "[encoded data removed]"
          },
          "metadata": {}
        }
      ]
    },
    {
      "cell_type": "code",
      "source": [
        "fig, ax = plt.subplots(figsize=(18,6))\n",
        "ax = sns.boxplot(x='BLDG_AREA_M2', y='EC_LCAA_PERM2', data=df, orient=\"v\")"
      ],
      "metadata": {
        "colab": {
          "base_uri": "https://localhost:8080/",
          "height": 351
        },
        "id": "y5SxKUFLTc1M",
        "outputId": "9e36badc-ec26-4168-f71d-dc7dfe546480"
      },
      "execution_count": 154,
      "outputs": [
        {
          "output_type": "display_data",
          "data": {
            "text/plain": [
              "<Figure size 1296x432 with 1 Axes>"
            ],
            "image/png": "[encoded data removed]"
          },
          "metadata": {}
        }
      ]
    },
    {
      "cell_type": "code",
      "source": [
        "df['BLDG_TYP_CAT']=df['BLDG_TYP'].astype('category').cat.codes\n",
        "df['BLDG_NEW_REN_CAT']=df['BLDG_NEW_REN'].astype('category').cat.codes\n",
        "\n",
        "df.corr()\n",
        "plt.figure(figsize=(10,5))\n",
        "c= df.corr(method='pearson')\n",
        "sns.heatmap(c,cmap=\"BrBG\",annot=True)"
      ],
      "metadata": {
        "colab": {
          "base_uri": "https://localhost:8080/",
          "height": 450
        },
        "id": "L21YuH8xVm1_",
        "outputId": "e3a57470-0d7b-4f6f-c953-2b8a25d81379"
      },
      "execution_count": 155,
      "outputs": [
        {
          "output_type": "execute_result",
          "data": {
            "text/plain": [
              "<matplotlib.axes._subplots.AxesSubplot at 0x7feaeaef5dd0>"
            ]
          },
          "metadata": {},
          "execution_count": 155
        },
        {
          "output_type": "display_data",
          "data": {
            "text/plain": [
              "<Figure size 720x360 with 2 Axes>"
            ],
            "image/png": "[encoded data removed]"
          },
          "metadata": {}
        }
      ]
    },
    {
      "cell_type": "markdown",
      "source": [
        "We can say that there is no significant relation between different variables. However the most effective items on LCAA per m2 is;\n",
        "\n",
        "1.   Building Area\n",
        "2.   Building Storey\n",
        "3.   Building Type\n",
        "\n",
        "\n",
        "\n"
      ],
      "metadata": {
        "id": "5Hg7Fh0o6S_e"
      }
    },
    {
      "cell_type": "code",
      "source": [
        "df=df.drop(['EC_WB_EX_OPER'],axis=1)\n",
        "df.head(5)"
      ],
      "metadata": {
        "colab": {
          "base_uri": "https://localhost:8080/",
          "height": 322
        },
        "id": "gKgAqln47H_K",
        "outputId": "775d843c-78f7-47c9-be8d-8caea538c87a"
      },
      "execution_count": 158,
      "outputs": [
        {
          "output_type": "execute_result",
          "data": {
            "text/plain": [
              "     BLDG_TYP BLDG_US BLDG_LOC_REGION BLDG_NEW_REN    BLDG_AREA_M2  \\\n",
              "3  Commercial   Other   North America          New     930 to 2323   \n",
              "4  Commercial  Office    Asia-Pacific          New      Over 92903   \n",
              "5  Commercial  Office    Asia-Pacific          New  46452 to 92903   \n",
              "6  Commercial   Other   North America          New  18581 to 46451   \n",
              "7  Commercial   Other   North America          New  18581 to 46451   \n",
              "\n",
              "  BLDG_STOR_A  EC_LCAA_PERM2  Average_Area_m2  Average_Storey  BLDG_TYP_CAT  \\\n",
              "3      1 to 6         938.69           1600.0             4.0             0   \n",
              "4    15 to 25         937.59         120000.0            20.0             0   \n",
              "5      1 to 6         923.30          70000.0             4.0             0   \n",
              "6      1 to 6         917.93          35000.0             4.0             0   \n",
              "7      1 to 6         882.65          35000.0             4.0             0   \n",
              "\n",
              "   BLDG_NEW_REN_CAT  \n",
              "3                 0  \n",
              "4                 0  \n",
              "5                 0  \n",
              "6                 0  \n",
              "7                 0  "
            ],
            "text/html": [
              "\n",
              "  <div id=\"df-19fdf282-4217-453f-8f18-162e39676661\">\n",
              "    <div class=\"colab-df-container\">\n",
              "      <div>\n",
              "<style scoped>\n",
              "    .dataframe tbody tr th:only-of-type {\n",
              "        vertical-align: middle;\n",
              "    }\n",
              "\n",
              "    .dataframe tbody tr th {\n",
              "        vertical-align: top;\n",
              "    }\n",
              "\n",
              "    .dataframe thead th {\n",
              "        text-align: right;\n",
              "    }\n",
              "</style>\n",
              "<table border=\"1\" class=\"dataframe\">\n",
              "  <thead>\n",
              "    <tr style=\"text-align: right;\">\n",
              "      <th></th>\n",
              "      <th>BLDG_TYP</th>\n",
              "      <th>BLDG_US</th>\n",
              "      <th>BLDG_LOC_REGION</th>\n",
              "      <th>BLDG_NEW_REN</th>\n",
              "      <th>BLDG_AREA_M2</th>\n",
              "      <th>BLDG_STOR_A</th>\n",
              "      <th>EC_LCAA_PERM2</th>\n",
              "      <th>Average_Area_m2</th>\n",
              "      <th>Average_Storey</th>\n",
              "      <th>BLDG_TYP_CAT</th>\n",
              "      <th>BLDG_NEW_REN_CAT</th>\n",
              "    </tr>\n",
              "  </thead>\n",
              "  <tbody>\n",
              "    <tr>\n",
              "      <th>3</th>\n",
              "      <td>Commercial</td>\n",
              "      <td>Other</td>\n",
              "      <td>North America</td>\n",
              "      <td>New</td>\n",
              "      <td>930 to 2323</td>\n",
              "      <td>1 to 6</td>\n",
              "      <td>938.69</td>\n",
              "      <td>1600.0</td>\n",
              "      <td>4.0</td>\n",
              "      <td>0</td>\n",
              "      <td>0</td>\n",
              "    </tr>\n",
              "    <tr>\n",
              "      <th>4</th>\n",
              "      <td>Commercial</td>\n",
              "      <td>Office</td>\n",
              "      <td>Asia-Pacific</td>\n",
              "      <td>New</td>\n",
              "      <td>Over 92903</td>\n",
              "      <td>15 to 25</td>\n",
              "      <td>937.59</td>\n",
              "      <td>120000.0</td>\n",
              "      <td>20.0</td>\n",
              "      <td>0</td>\n",
              "      <td>0</td>\n",
              "    </tr>\n",
              "    <tr>\n",
              "      <th>5</th>\n",
              "      <td>Commercial</td>\n",
              "      <td>Office</td>\n",
              "      <td>Asia-Pacific</td>\n",
              "      <td>New</td>\n",
              "      <td>46452 to 92903</td>\n",
              "      <td>1 to 6</td>\n",
              "      <td>923.30</td>\n",
              "      <td>70000.0</td>\n",
              "      <td>4.0</td>\n",
              "      <td>0</td>\n",
              "      <td>0</td>\n",
              "    </tr>\n",
              "    <tr>\n",
              "      <th>6</th>\n",
              "      <td>Commercial</td>\n",
              "      <td>Other</td>\n",
              "      <td>North America</td>\n",
              "      <td>New</td>\n",
              "      <td>18581 to 46451</td>\n",
              "      <td>1 to 6</td>\n",
              "      <td>917.93</td>\n",
              "      <td>35000.0</td>\n",
              "      <td>4.0</td>\n",
              "      <td>0</td>\n",
              "      <td>0</td>\n",
              "    </tr>\n",
              "    <tr>\n",
              "      <th>7</th>\n",
              "      <td>Commercial</td>\n",
              "      <td>Other</td>\n",
              "      <td>North America</td>\n",
              "      <td>New</td>\n",
              "      <td>18581 to 46451</td>\n",
              "      <td>1 to 6</td>\n",
              "      <td>882.65</td>\n",
              "      <td>35000.0</td>\n",
              "      <td>4.0</td>\n",
              "      <td>0</td>\n",
              "      <td>0</td>\n",
              "    </tr>\n",
              "  </tbody>\n",
              "</table>\n",
              "</div>\n",
              "      <button class=\"colab-df-convert\" onclick=\"convertToInteractive('df-19fdf282-4217-453f-8f18-162e39676661')\"\n",
              "              title=\"Convert this dataframe to an interactive table.\"\n",
              "              style=\"display:none;\">\n",
              "        \n",
              "  <svg xmlns=\"http://www.w3.org/2000/svg\" height=\"24px\"viewBox=\"0 0 24 24\"\n",
              "       width=\"24px\">\n",
              "    <path d=\"M0 0h24v24H0V0z\" fill=\"none\"/>\n",
              "    <path d=\"M18.56 5.44l.94 2.06.94-2.06 2.06-.94-2.06-.94-.94-2.06-.94 2.06-2.06.94zm-11 1L8.5 8.5l.94-2.06 2.06-.94-2.06-.94L8.5 2.5l-.94 2.06-2.06.94zm10 10l.94 2.06.94-2.06 2.06-.94-2.06-.94-.94-2.06-.94 2.06-2.06.94z\"/><path d=\"M17.41 7.96l-1.37-1.37c-.4-.4-.92-.59-1.43-.59-.52 0-1.04.2-1.43.59L10.3 9.45l-7.72 7.72c-.78.78-.78 2.05 0 2.83L4 21.41c.39.39.9.59 1.41.59.51 0 1.02-.2 1.41-.59l7.78-7.78 2.81-2.81c.8-.78.8-2.07 0-2.86zM5.41 20L4 18.59l7.72-7.72 1.47 1.35L5.41 20z\"/>\n",
              "  </svg>\n",
              "      </button>\n",
              "      \n",
              "  <style>\n",
              "    .colab-df-container {\n",
              "      display:flex;\n",
              "      flex-wrap:wrap;\n",
              "      gap: 12px;\n",
              "    }\n",
              "\n",
              "    .colab-df-convert {\n",
              "      background-color: #E8F0FE;\n",
              "      border: none;\n",
              "      border-radius: 50%;\n",
              "      cursor: pointer;\n",
              "      display: none;\n",
              "      fill: #1967D2;\n",
              "      height: 32px;\n",
              "      padding: 0 0 0 0;\n",
              "      width: 32px;\n",
              "    }\n",
              "\n",
              "    .colab-df-convert:hover {\n",
              "      background-color: #E2EBFA;\n",
              "      box-shadow: 0px 1px 2px rgba(60, 64, 67, 0.3), 0px 1px 3px 1px rgba(60, 64, 67, 0.15);\n",
              "      fill: #174EA6;\n",
              "    }\n",
              "\n",
              "    [theme=dark] .colab-df-convert {\n",
              "      background-color: #3B4455;\n",
              "      fill: #D2E3FC;\n",
              "    }\n",
              "\n",
              "    [theme=dark] .colab-df-convert:hover {\n",
              "      background-color: #434B5C;\n",
              "      box-shadow: 0px 1px 3px 1px rgba(0, 0, 0, 0.15);\n",
              "      filter: drop-shadow(0px 1px 2px rgba(0, 0, 0, 0.3));\n",
              "      fill: #FFFFFF;\n",
              "    }\n",
              "  </style>\n",
              "\n",
              "      <script>\n",
              "        const buttonEl =\n",
              "          document.querySelector('#df-19fdf282-4217-453f-8f18-162e39676661 button.colab-df-convert');\n",
              "        buttonEl.style.display =\n",
              "          google.colab.kernel.accessAllowed ? 'block' : 'none';\n",
              "\n",
              "        async function convertToInteractive(key) {\n",
              "          const element = document.querySelector('#df-19fdf282-4217-453f-8f18-162e39676661');\n",
              "          const dataTable =\n",
              "            await google.colab.kernel.invokeFunction('convertToInteractive',\n",
              "                                                     [key], {});\n",
              "          if (!dataTable) return;\n",
              "\n",
              "          const docLinkHtml = 'Like what you see? Visit the ' +\n",
              "            '<a target=\"_blank\" href=https://colab.research.google.com/notebooks/data_table.ipynb>data table notebook</a>'\n",
              "            + ' to learn more about interactive tables.';\n",
              "          element.innerHTML = '';\n",
              "          dataTable['output_type'] = 'display_data';\n",
              "          await google.colab.output.renderOutput(dataTable, element);\n",
              "          const docLink = document.createElement('div');\n",
              "          docLink.innerHTML = docLinkHtml;\n",
              "          element.appendChild(docLink);\n",
              "        }\n",
              "      </script>\n",
              "    </div>\n",
              "  </div>\n",
              "  "
            ]
          },
          "metadata": {},
          "execution_count": 158
        }
      ]
    },
    {
      "cell_type": "code",
      "source": [
        "df.corr()\n",
        "plt.figure(figsize=(10,5))\n",
        "c= df.corr(method='pearson')\n",
        "sns.heatmap(c,cmap=\"BrBG\",annot=True)"
      ],
      "metadata": {
        "colab": {
          "base_uri": "https://localhost:8080/",
          "height": 450
        },
        "id": "WyQIEcja8nGp",
        "outputId": "000ad52d-be75-4d37-a622-7e776230ddef"
      },
      "execution_count": 159,
      "outputs": [
        {
          "output_type": "execute_result",
          "data": {
            "text/plain": [
              "<matplotlib.axes._subplots.AxesSubplot at 0x7feaf054f910>"
            ]
          },
          "metadata": {},
          "execution_count": 159
        },
        {
          "output_type": "display_data",
          "data": {
            "text/plain": [
              "<Figure size 720x360 with 2 Axes>"
            ],
            "image/png": "[encoded data removed]"
          },
          "metadata": {}
        }
      ]
    },
    {
      "cell_type": "markdown",
      "source": [
        "# ML Models"
      ],
      "metadata": {
        "id": "6YxQ0h0e9pUQ"
      }
    },
    {
      "cell_type": "markdown",
      "source": [
        "sklearn.ensemble.RandomForestRegressor"
      ],
      "metadata": {
        "id": "qawPJFC4G9hs"
      }
    },
    {
      "cell_type": "markdown",
      "source": [
        "Test Data Split"
      ],
      "metadata": {
        "id": "yMPMIfUs9yTE"
      }
    },
    {
      "cell_type": "code",
      "source": [
        "features = df.drop([\"EC_LCAA_PERM2\",'BLDG_TYP','BLDG_US','BLDG_LOC_REGION','BLDG_NEW_REN','BLDG_AREA_M2','BLDG_STOR_A'], axis=1).columns\n",
        "features"
      ],
      "metadata": {
        "colab": {
          "base_uri": "https://localhost:8080/",
          "height": 0
        },
        "id": "Rl4P1IdMAufd",
        "outputId": "d2758b9a-76de-4662-b240-9737757aff1f"
      },
      "execution_count": 257,
      "outputs": [
        {
          "output_type": "execute_result",
          "data": {
            "text/plain": [
              "Index(['Average_Area_m2', 'Average_Storey', 'BLDG_TYP_CAT',\n",
              "       'BLDG_NEW_REN_CAT'],\n",
              "      dtype='object')"
            ]
          },
          "metadata": {},
          "execution_count": 257
        }
      ]
    },
    {
      "cell_type": "code",
      "source": [
        "df_train, df_test = train_test_split(df, test_size=0.15)"
      ],
      "metadata": {
        "id": "YHbVZ4s5ClK4"
      },
      "execution_count": 258,
      "outputs": []
    },
    {
      "cell_type": "code",
      "source": [
        "clf = RandomForestRegressor(n_estimators=20)\n",
        "clf.fit(df_train[features], df_train[\"EC_LCAA_PERM2\"])"
      ],
      "metadata": {
        "colab": {
          "base_uri": "https://localhost:8080/",
          "height": 0
        },
        "id": "uT3dQbVLAcLU",
        "outputId": "ac86499a-e530-4236-f0ce-a0f8aa44b5eb"
      },
      "execution_count": 259,
      "outputs": [
        {
          "output_type": "execute_result",
          "data": {
            "text/plain": [
              "RandomForestRegressor(n_estimators=20)"
            ]
          },
          "metadata": {},
          "execution_count": 259
        }
      ]
    },
    {
      "cell_type": "code",
      "source": [
        "predictions = clf.predict(df_test[features])\n",
        "\n",
        "display(predictions)"
      ],
      "metadata": {
        "colab": {
          "base_uri": "https://localhost:8080/",
          "height": 468
        },
        "id": "chJo58FKFftS",
        "outputId": "3aaf446f-bd1f-4dbe-ffce-1ba4b0914bac"
      },
      "execution_count": 260,
      "outputs": [
        {
          "output_type": "display_data",
          "data": {
            "text/plain": [
              "array([548.6913312 , 344.37368121, 344.37368121, 390.70543829,\n",
              "       441.48467917, 404.92349549, 127.69134055, 308.61696154,\n",
              "       344.37368121, 441.48467917, 344.37368121, 390.70543829,\n",
              "       374.12089951, 351.08855649, 403.58938724, 288.22740633,\n",
              "       414.89917089, 182.1250066 , 390.70543829, 127.69134055,\n",
              "       344.37368121, 344.37368121, 202.26536487, 376.54315574,\n",
              "       288.22740633, 376.54315574, 403.58938724, 447.83928872,\n",
              "       387.72055979, 387.72055979, 390.70543829, 390.70543829,\n",
              "       404.92349549, 389.63998063, 426.23690226, 376.54315574,\n",
              "       376.54315574, 376.54315574, 464.87729897, 447.83928872,\n",
              "       224.95796667, 416.78837767, 376.54315574, 376.54315574,\n",
              "       308.61696154, 376.54315574, 224.18759528, 376.54315574,\n",
              "       344.37368121, 174.94872984, 351.08855649, 404.92349549,\n",
              "       427.26180029, 376.54315574, 447.83928872, 416.78837767,\n",
              "       390.70543829, 403.58938724, 288.22740633, 288.22740633,\n",
              "       224.18759528, 698.53924167, 338.6549487 , 432.90126088,\n",
              "       224.18759528, 426.23690226, 404.92349549, 449.10037897,\n",
              "       344.37368121, 390.70543829, 174.94872984, 427.26180029,\n",
              "       340.61481457, 224.18759528, 389.63998063, 182.1250066 ,\n",
              "       174.94872984, 224.18759528, 469.60761012, 344.37368121,\n",
              "       469.60761012, 376.54315574, 447.83928872, 426.23690226,\n",
              "       464.87729897, 404.92349549, 224.18759528, 376.54315574,\n",
              "       447.83928872, 404.92349549, 174.94872984, 447.83928872,\n",
              "       374.12089951, 421.38632024, 404.92349549, 469.60761012,\n",
              "       309.70704762, 426.23690226, 390.70543829, 344.37368121,\n",
              "       464.87729897])"
            ]
          },
          "metadata": {}
        }
      ]
    },
    {
      "cell_type": "code",
      "source": [
        "score = clf.score(df_test[features], df_test[\"EC_LCAA_PERM2\"])\n",
        "print(\"Accuracy: \", score)"
      ],
      "metadata": {
        "colab": {
          "base_uri": "https://localhost:8080/",
          "height": 0
        },
        "id": "jW1b5kVIFo2I",
        "outputId": "a4293f3e-38d8-4a1b-8574-1673e9680afc"
      },
      "execution_count": 261,
      "outputs": [
        {
          "output_type": "stream",
          "name": "stdout",
          "text": [
            "Accuracy:  0.21971925181663998\n"
          ]
        }
      ]
    },
    {
      "cell_type": "code",
      "source": [
        "ig = plt.figure(figsize=(10, 9))\n",
        "ax = fig.add_subplot(111)\n",
        "\n",
        "df_f = pd.DataFrame(clf.feature_importances_, columns=[\"importance\"])\n",
        "df_f[\"labels\"] = features\n",
        "df_f.sort_values(\"importance\", inplace=True, ascending=False)\n",
        "display(df_f.head(5))\n",
        "\n",
        "index = np.arange(len(clf.feature_importances_))\n",
        "bar_width = 0.5\n",
        "rects = plt.barh(index , df_f[\"importance\"], bar_width, alpha=0.4, color='b', label='Main')\n",
        "plt.yticks(index, df_f[\"labels\"])\n",
        "plt.show()"
      ],
      "metadata": {
        "colab": {
          "base_uri": "https://localhost:8080/",
          "height": 753
        },
        "id": "evcyj1NnGe3o",
        "outputId": "61403de9-42d1-49c0-f36c-79e2ece42cf2"
      },
      "execution_count": 262,
      "outputs": [
        {
          "output_type": "stream",
          "name": "stderr",
          "text": [
            "/usr/local/lib/python3.7/dist-packages/ipykernel_launcher.py:2: MatplotlibDeprecationWarning: Adding an axes using the same arguments as a previous axes currently reuses the earlier instance.  In a future version, a new instance will always be created and returned.  Meanwhile, this warning can be suppressed, and the future behavior ensured, by passing a unique label to each axes instance.\n",
            "  \n"
          ]
        },
        {
          "output_type": "display_data",
          "data": {
            "text/plain": [
              "   importance            labels\n",
              "0    0.507169   Average_Area_m2\n",
              "1    0.267575    Average_Storey\n",
              "2    0.159129      BLDG_TYP_CAT\n",
              "3    0.066128  BLDG_NEW_REN_CAT"
            ],
            "text/html": [
              "\n",
              "  <div id=\"df-d1608687-aed7-4a5e-8cac-c684a8e63c28\">\n",
              "    <div class=\"colab-df-container\">\n",
              "      <div>\n",
              "<style scoped>\n",
              "    .dataframe tbody tr th:only-of-type {\n",
              "        vertical-align: middle;\n",
              "    }\n",
              "\n",
              "    .dataframe tbody tr th {\n",
              "        vertical-align: top;\n",
              "    }\n",
              "\n",
              "    .dataframe thead th {\n",
              "        text-align: right;\n",
              "    }\n",
              "</style>\n",
              "<table border=\"1\" class=\"dataframe\">\n",
              "  <thead>\n",
              "    <tr style=\"text-align: right;\">\n",
              "      <th></th>\n",
              "      <th>importance</th>\n",
              "      <th>labels</th>\n",
              "    </tr>\n",
              "  </thead>\n",
              "  <tbody>\n",
              "    <tr>\n",
              "      <th>0</th>\n",
              "      <td>0.507169</td>\n",
              "      <td>Average_Area_m2</td>\n",
              "    </tr>\n",
              "    <tr>\n",
              "      <th>1</th>\n",
              "      <td>0.267575</td>\n",
              "      <td>Average_Storey</td>\n",
              "    </tr>\n",
              "    <tr>\n",
              "      <th>2</th>\n",
              "      <td>0.159129</td>\n",
              "      <td>BLDG_TYP_CAT</td>\n",
              "    </tr>\n",
              "    <tr>\n",
              "      <th>3</th>\n",
              "      <td>0.066128</td>\n",
              "      <td>BLDG_NEW_REN_CAT</td>\n",
              "    </tr>\n",
              "  </tbody>\n",
              "</table>\n",
              "</div>\n",
              "      <button class=\"colab-df-convert\" onclick=\"convertToInteractive('df-d1608687-aed7-4a5e-8cac-c684a8e63c28')\"\n",
              "              title=\"Convert this dataframe to an interactive table.\"\n",
              "              style=\"display:none;\">\n",
              "        \n",
              "  <svg xmlns=\"http://www.w3.org/2000/svg\" height=\"24px\"viewBox=\"0 0 24 24\"\n",
              "       width=\"24px\">\n",
              "    <path d=\"M0 0h24v24H0V0z\" fill=\"none\"/>\n",
              "    <path d=\"M18.56 5.44l.94 2.06.94-2.06 2.06-.94-2.06-.94-.94-2.06-.94 2.06-2.06.94zm-11 1L8.5 8.5l.94-2.06 2.06-.94-2.06-.94L8.5 2.5l-.94 2.06-2.06.94zm10 10l.94 2.06.94-2.06 2.06-.94-2.06-.94-.94-2.06-.94 2.06-2.06.94z\"/><path d=\"M17.41 7.96l-1.37-1.37c-.4-.4-.92-.59-1.43-.59-.52 0-1.04.2-1.43.59L10.3 9.45l-7.72 7.72c-.78.78-.78 2.05 0 2.83L4 21.41c.39.39.9.59 1.41.59.51 0 1.02-.2 1.41-.59l7.78-7.78 2.81-2.81c.8-.78.8-2.07 0-2.86zM5.41 20L4 18.59l7.72-7.72 1.47 1.35L5.41 20z\"/>\n",
              "  </svg>\n",
              "      </button>\n",
              "      \n",
              "  <style>\n",
              "    .colab-df-container {\n",
              "      display:flex;\n",
              "      flex-wrap:wrap;\n",
              "      gap: 12px;\n",
              "    }\n",
              "\n",
              "    .colab-df-convert {\n",
              "      background-color: #E8F0FE;\n",
              "      border: none;\n",
              "      border-radius: 50%;\n",
              "      cursor: pointer;\n",
              "      display: none;\n",
              "      fill: #1967D2;\n",
              "      height: 32px;\n",
              "      padding: 0 0 0 0;\n",
              "      width: 32px;\n",
              "    }\n",
              "\n",
              "    .colab-df-convert:hover {\n",
              "      background-color: #E2EBFA;\n",
              "      box-shadow: 0px 1px 2px rgba(60, 64, 67, 0.3), 0px 1px 3px 1px rgba(60, 64, 67, 0.15);\n",
              "      fill: #174EA6;\n",
              "    }\n",
              "\n",
              "    [theme=dark] .colab-df-convert {\n",
              "      background-color: #3B4455;\n",
              "      fill: #D2E3FC;\n",
              "    }\n",
              "\n",
              "    [theme=dark] .colab-df-convert:hover {\n",
              "      background-color: #434B5C;\n",
              "      box-shadow: 0px 1px 3px 1px rgba(0, 0, 0, 0.15);\n",
              "      filter: drop-shadow(0px 1px 2px rgba(0, 0, 0, 0.3));\n",
              "      fill: #FFFFFF;\n",
              "    }\n",
              "  </style>\n",
              "\n",
              "      <script>\n",
              "        const buttonEl =\n",
              "          document.querySelector('#df-d1608687-aed7-4a5e-8cac-c684a8e63c28 button.colab-df-convert');\n",
              "        buttonEl.style.display =\n",
              "          google.colab.kernel.accessAllowed ? 'block' : 'none';\n",
              "\n",
              "        async function convertToInteractive(key) {\n",
              "          const element = document.querySelector('#df-d1608687-aed7-4a5e-8cac-c684a8e63c28');\n",
              "          const dataTable =\n",
              "            await google.colab.kernel.invokeFunction('convertToInteractive',\n",
              "                                                     [key], {});\n",
              "          if (!dataTable) return;\n",
              "\n",
              "          const docLinkHtml = 'Like what you see? Visit the ' +\n",
              "            '<a target=\"_blank\" href=https://colab.research.google.com/notebooks/data_table.ipynb>data table notebook</a>'\n",
              "            + ' to learn more about interactive tables.';\n",
              "          element.innerHTML = '';\n",
              "          dataTable['output_type'] = 'display_data';\n",
              "          await google.colab.output.renderOutput(dataTable, element);\n",
              "          const docLink = document.createElement('div');\n",
              "          docLink.innerHTML = docLinkHtml;\n",
              "          element.appendChild(docLink);\n",
              "        }\n",
              "      </script>\n",
              "    </div>\n",
              "  </div>\n",
              "  "
            ]
          },
          "metadata": {}
        },
        {
          "output_type": "display_data",
          "data": {
            "text/plain": [
              "<Figure size 720x648 with 1 Axes>"
            ],
            "image/png": "[encoded data removed]"
          },
          "metadata": {}
        }
      ]
    },
    {
      "cell_type": "code",
      "source": [
        "r2_score(df_test[\"EC_LCAA_PERM2\"], predictions)"
      ],
      "metadata": {
        "colab": {
          "base_uri": "https://localhost:8080/",
          "height": 0
        },
        "id": "DO26sSs1YICt",
        "outputId": "e40da3a2-4759-4d9e-89e8-4201e9ee2064"
      },
      "execution_count": 263,
      "outputs": [
        {
          "output_type": "execute_result",
          "data": {
            "text/plain": [
              "0.21971925181663998"
            ]
          },
          "metadata": {},
          "execution_count": 263
        }
      ]
    },
    {
      "cell_type": "markdown",
      "source": [
        "Although the model is not so powerful, we can say that the most important thing in carbon calculation is building area, story number and type of building. "
      ],
      "metadata": {
        "id": "lXT6Hbo-I_FF"
      }
    },
    {
      "cell_type": "markdown",
      "source": [
        "Let's change features"
      ],
      "metadata": {
        "id": "1R3JLwMRS_kV"
      }
    },
    {
      "cell_type": "code",
      "source": [
        "features2 = df.drop([\"EC_LCAA_PERM2\",'BLDG_TYP','BLDG_US','BLDG_LOC_REGION','BLDG_NEW_REN','BLDG_AREA_M2','BLDG_STOR_A',\"BLDG_NEW_REN_CAT\"], axis=1).columns\n",
        "features2"
      ],
      "metadata": {
        "colab": {
          "base_uri": "https://localhost:8080/",
          "height": 0
        },
        "id": "5kU-bcI9S-V-",
        "outputId": "c9acf824-5d5f-4b22-f5da-980b08af0023"
      },
      "execution_count": 264,
      "outputs": [
        {
          "output_type": "execute_result",
          "data": {
            "text/plain": [
              "Index(['Average_Area_m2', 'Average_Storey', 'BLDG_TYP_CAT'], dtype='object')"
            ]
          },
          "metadata": {},
          "execution_count": 264
        }
      ]
    },
    {
      "cell_type": "code",
      "source": [
        "df_train2, df_test2 = train_test_split(df, test_size=0.15)"
      ],
      "metadata": {
        "id": "k-JGsBxUTrO9"
      },
      "execution_count": 273,
      "outputs": []
    },
    {
      "cell_type": "code",
      "source": [
        "clf2 = RandomForestRegressor(n_estimators=20)\n",
        "clf2.fit(df_train2[features2], df_train2[\"EC_LCAA_PERM2\"])"
      ],
      "metadata": {
        "colab": {
          "base_uri": "https://localhost:8080/",
          "height": 0
        },
        "id": "JLqbI0R_TtOJ",
        "outputId": "6df02c34-44fb-4454-8822-ca4fda8825cb"
      },
      "execution_count": 274,
      "outputs": [
        {
          "output_type": "execute_result",
          "data": {
            "text/plain": [
              "RandomForestRegressor(n_estimators=20)"
            ]
          },
          "metadata": {},
          "execution_count": 274
        }
      ]
    },
    {
      "cell_type": "code",
      "source": [
        "predictions2 = clf2.predict(df_test2[features2])\n",
        "\n",
        "display(predictions2)"
      ],
      "metadata": {
        "colab": {
          "base_uri": "https://localhost:8080/",
          "height": 468
        },
        "id": "9FZab4LwT1X8",
        "outputId": "c464a36a-9b41-432d-aab3-b3c3c51a292a"
      },
      "execution_count": 275,
      "outputs": [
        {
          "output_type": "display_data",
          "data": {
            "text/plain": [
              "array([387.15830077, 331.70279571, 370.37389048, 352.76914367,\n",
              "       434.63593428, 307.07850893, 468.40213409, 399.3820895 ,\n",
              "       378.79956434, 354.72187709, 429.8465676 , 363.20109084,\n",
              "       434.63593428, 421.36552511, 307.07850893, 378.79956434,\n",
              "       387.15830077, 331.70279571, 370.96368843, 370.37389048,\n",
              "       352.76914367, 220.61086077, 183.31139918, 342.55014762,\n",
              "       378.79956434, 387.15830077, 354.72187709, 354.72187709,\n",
              "       429.8465676 , 468.40213409, 399.3820895 , 326.10363515,\n",
              "       133.69561111, 547.61867877, 331.70279571, 376.94020238,\n",
              "       315.5121079 , 352.76914367, 363.20109084, 160.023102  ,\n",
              "       363.20109084, 710.54852083, 411.58846577, 326.10363515,\n",
              "       352.76914367, 397.58852238, 220.61086077, 378.79956434,\n",
              "       434.63593428, 307.07850893, 435.20813929, 250.65573198,\n",
              "       331.70279571, 354.72187709, 220.61086077, 555.2612619 ,\n",
              "       352.76914367, 363.20109084, 363.20109084, 370.96368843,\n",
              "       326.10363515, 370.37389048, 354.72187709, 354.72187709,\n",
              "       378.79956434, 378.79956434, 378.79956434, 387.15830077,\n",
              "       387.15830077, 331.70279571, 435.23842938, 435.23842938,\n",
              "       406.20928214, 354.72187709, 468.40213409, 555.2612619 ,\n",
              "       429.8465676 , 363.20109084, 354.72187709, 547.61867877,\n",
              "       315.5121079 , 373.34616664, 354.72187709, 326.10363515,\n",
              "       220.61086077, 420.43179821, 387.15830077, 378.79956434,\n",
              "       354.72187709, 547.61867877, 387.15830077, 387.15830077,\n",
              "       354.72187709, 352.76914367, 352.76914367, 250.65573198,\n",
              "       468.40213409, 378.79956434, 354.72187709, 429.8465676 ,\n",
              "       220.61086077])"
            ]
          },
          "metadata": {}
        }
      ]
    },
    {
      "cell_type": "code",
      "source": [
        "score2 = clf2.score(df_test2[features2], df_test2[\"EC_LCAA_PERM2\"])\n",
        "print(\"Accuracy: \", score2)"
      ],
      "metadata": {
        "colab": {
          "base_uri": "https://localhost:8080/",
          "height": 0
        },
        "id": "hTOyFfsRUEd3",
        "outputId": "846610fd-086a-4e1e-c3f8-881b769d47d4"
      },
      "execution_count": 276,
      "outputs": [
        {
          "output_type": "stream",
          "name": "stdout",
          "text": [
            "Accuracy:  -0.0716541414513645\n"
          ]
        }
      ]
    },
    {
      "cell_type": "code",
      "source": [
        "ig = plt.figure(figsize=(10, 9))\n",
        "ax = fig.add_subplot(111)\n",
        "\n",
        "df_f = pd.DataFrame(clf2.feature_importances_, columns=[\"importance\"])\n",
        "df_f[\"labels\"] = features2\n",
        "df_f.sort_values(\"importance\", inplace=True, ascending=False)\n",
        "display(df_f.head(5))\n",
        "\n",
        "index = np.arange(len(clf2.feature_importances_))\n",
        "bar_width = 0.5\n",
        "rects = plt.barh(index , df_f[\"importance\"], bar_width, alpha=0.4, color='b', label='Main')\n",
        "plt.yticks(index, df_f[\"labels\"])\n",
        "plt.show()"
      ],
      "metadata": {
        "colab": {
          "base_uri": "https://localhost:8080/",
          "height": 721
        },
        "id": "xQHTYfuGUR16",
        "outputId": "0afdda46-45d5-4b90-daf6-78a6a341383f"
      },
      "execution_count": 277,
      "outputs": [
        {
          "output_type": "stream",
          "name": "stderr",
          "text": [
            "/usr/local/lib/python3.7/dist-packages/ipykernel_launcher.py:2: MatplotlibDeprecationWarning: Adding an axes using the same arguments as a previous axes currently reuses the earlier instance.  In a future version, a new instance will always be created and returned.  Meanwhile, this warning can be suppressed, and the future behavior ensured, by passing a unique label to each axes instance.\n",
            "  \n"
          ]
        },
        {
          "output_type": "display_data",
          "data": {
            "text/plain": [
              "   importance           labels\n",
              "0    0.488732  Average_Area_m2\n",
              "1    0.342297   Average_Storey\n",
              "2    0.168972     BLDG_TYP_CAT"
            ],
            "text/html": [
              "\n",
              "  <div id=\"df-5f417928-2fb4-4a6b-9dee-ea27cc9d5420\">\n",
              "    <div class=\"colab-df-container\">\n",
              "      <div>\n",
              "<style scoped>\n",
              "    .dataframe tbody tr th:only-of-type {\n",
              "        vertical-align: middle;\n",
              "    }\n",
              "\n",
              "    .dataframe tbody tr th {\n",
              "        vertical-align: top;\n",
              "    }\n",
              "\n",
              "    .dataframe thead th {\n",
              "        text-align: right;\n",
              "    }\n",
              "</style>\n",
              "<table border=\"1\" class=\"dataframe\">\n",
              "  <thead>\n",
              "    <tr style=\"text-align: right;\">\n",
              "      <th></th>\n",
              "      <th>importance</th>\n",
              "      <th>labels</th>\n",
              "    </tr>\n",
              "  </thead>\n",
              "  <tbody>\n",
              "    <tr>\n",
              "      <th>0</th>\n",
              "      <td>0.488732</td>\n",
              "      <td>Average_Area_m2</td>\n",
              "    </tr>\n",
              "    <tr>\n",
              "      <th>1</th>\n",
              "      <td>0.342297</td>\n",
              "      <td>Average_Storey</td>\n",
              "    </tr>\n",
              "    <tr>\n",
              "      <th>2</th>\n",
              "      <td>0.168972</td>\n",
              "      <td>BLDG_TYP_CAT</td>\n",
              "    </tr>\n",
              "  </tbody>\n",
              "</table>\n",
              "</div>\n",
              "      <button class=\"colab-df-convert\" onclick=\"convertToInteractive('df-5f417928-2fb4-4a6b-9dee-ea27cc9d5420')\"\n",
              "              title=\"Convert this dataframe to an interactive table.\"\n",
              "              style=\"display:none;\">\n",
              "        \n",
              "  <svg xmlns=\"http://www.w3.org/2000/svg\" height=\"24px\"viewBox=\"0 0 24 24\"\n",
              "       width=\"24px\">\n",
              "    <path d=\"M0 0h24v24H0V0z\" fill=\"none\"/>\n",
              "    <path d=\"M18.56 5.44l.94 2.06.94-2.06 2.06-.94-2.06-.94-.94-2.06-.94 2.06-2.06.94zm-11 1L8.5 8.5l.94-2.06 2.06-.94-2.06-.94L8.5 2.5l-.94 2.06-2.06.94zm10 10l.94 2.06.94-2.06 2.06-.94-2.06-.94-.94-2.06-.94 2.06-2.06.94z\"/><path d=\"M17.41 7.96l-1.37-1.37c-.4-.4-.92-.59-1.43-.59-.52 0-1.04.2-1.43.59L10.3 9.45l-7.72 7.72c-.78.78-.78 2.05 0 2.83L4 21.41c.39.39.9.59 1.41.59.51 0 1.02-.2 1.41-.59l7.78-7.78 2.81-2.81c.8-.78.8-2.07 0-2.86zM5.41 20L4 18.59l7.72-7.72 1.47 1.35L5.41 20z\"/>\n",
              "  </svg>\n",
              "      </button>\n",
              "      \n",
              "  <style>\n",
              "    .colab-df-container {\n",
              "      display:flex;\n",
              "      flex-wrap:wrap;\n",
              "      gap: 12px;\n",
              "    }\n",
              "\n",
              "    .colab-df-convert {\n",
              "      background-color: #E8F0FE;\n",
              "      border: none;\n",
              "      border-radius: 50%;\n",
              "      cursor: pointer;\n",
              "      display: none;\n",
              "      fill: #1967D2;\n",
              "      height: 32px;\n",
              "      padding: 0 0 0 0;\n",
              "      width: 32px;\n",
              "    }\n",
              "\n",
              "    .colab-df-convert:hover {\n",
              "      background-color: #E2EBFA;\n",
              "      box-shadow: 0px 1px 2px rgba(60, 64, 67, 0.3), 0px 1px 3px 1px rgba(60, 64, 67, 0.15);\n",
              "      fill: #174EA6;\n",
              "    }\n",
              "\n",
              "    [theme=dark] .colab-df-convert {\n",
              "      background-color: #3B4455;\n",
              "      fill: #D2E3FC;\n",
              "    }\n",
              "\n",
              "    [theme=dark] .colab-df-convert:hover {\n",
              "      background-color: #434B5C;\n",
              "      box-shadow: 0px 1px 3px 1px rgba(0, 0, 0, 0.15);\n",
              "      filter: drop-shadow(0px 1px 2px rgba(0, 0, 0, 0.3));\n",
              "      fill: #FFFFFF;\n",
              "    }\n",
              "  </style>\n",
              "\n",
              "      <script>\n",
              "        const buttonEl =\n",
              "          document.querySelector('#df-5f417928-2fb4-4a6b-9dee-ea27cc9d5420 button.colab-df-convert');\n",
              "        buttonEl.style.display =\n",
              "          google.colab.kernel.accessAllowed ? 'block' : 'none';\n",
              "\n",
              "        async function convertToInteractive(key) {\n",
              "          const element = document.querySelector('#df-5f417928-2fb4-4a6b-9dee-ea27cc9d5420');\n",
              "          const dataTable =\n",
              "            await google.colab.kernel.invokeFunction('convertToInteractive',\n",
              "                                                     [key], {});\n",
              "          if (!dataTable) return;\n",
              "\n",
              "          const docLinkHtml = 'Like what you see? Visit the ' +\n",
              "            '<a target=\"_blank\" href=https://colab.research.google.com/notebooks/data_table.ipynb>data table notebook</a>'\n",
              "            + ' to learn more about interactive tables.';\n",
              "          element.innerHTML = '';\n",
              "          dataTable['output_type'] = 'display_data';\n",
              "          await google.colab.output.renderOutput(dataTable, element);\n",
              "          const docLink = document.createElement('div');\n",
              "          docLink.innerHTML = docLinkHtml;\n",
              "          element.appendChild(docLink);\n",
              "        }\n",
              "      </script>\n",
              "    </div>\n",
              "  </div>\n",
              "  "
            ]
          },
          "metadata": {}
        },
        {
          "output_type": "display_data",
          "data": {
            "text/plain": [
              "<Figure size 720x648 with 1 Axes>"
            ],
            "image/png": "[encoded data removed]"
          },
          "metadata": {}
        }
      ]
    },
    {
      "cell_type": "markdown",
      "source": [
        ""
      ],
      "metadata": {
        "id": "yPhVy-gdTaEy"
      }
    }
  ]
}