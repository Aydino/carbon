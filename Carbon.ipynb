{
  "nbformat": 4,
  "nbformat_minor": 0,
  "metadata": {
    "colab": {
      "name": "Carbon.ipynb",
      "provenance": [],
      "authorship_tag": "ABX9TyPmKGeLJsZ48zmG66KwoXO7",
      "include_colab_link": true
    },
    "kernelspec": {
      "name": "python3",
      "display_name": "Python 3"
    },
    "language_info": {
      "name": "python"
    }
  },
  "cells": [
    {
      "cell_type": "markdown",
      "metadata": {
        "id": "view-in-github",
        "colab_type": "text"
      },
      "source": [
        "<a href=\"https://colab.research.google.com/github/Aydino/carbon/blob/main/Carbon.ipynb\" target=\"_parent\"><img src=\"https://colab.research.google.com/assets/colab-badge.svg\" alt=\"Open In Colab\"/></a>"
      ]
    },
    {
      "cell_type": "markdown",
      "source": [
        "Carbon analysis. "
      ],
      "metadata": {
        "id": "T3OFfOOQ8kXQ"
      }
    },
    {
      "cell_type": "markdown",
      "source": [
        "First import libraries"
      ],
      "metadata": {
        "id": "i8AAT2zN9IXx"
      }
    },
    {
      "cell_type": "code",
      "source": [
        "import pandas as pd\n",
        "import numpy as np\n",
        "import seaborn as sns                       #visualisation\n",
        "import matplotlib.pyplot as plt             #visualisation\n",
        "%matplotlib inline     \n",
        "sns.set(color_codes=True)\n"
      ],
      "metadata": {
        "id": "fcB5Qh_38sFJ"
      },
      "execution_count": 1,
      "outputs": []
    },
    {
      "cell_type": "markdown",
      "source": [
        "Import data"
      ],
      "metadata": {
        "id": "3G4CFr6E9T1D"
      }
    },
    {
      "cell_type": "code",
      "source": [
        "df = pd.read_csv(\"Data.csv\")\n",
        "# To display the top 5 rows \n",
        "df.head(5)  "
      ],
      "metadata": {
        "colab": {
          "base_uri": "https://localhost:8080/",
          "height": 232
        },
        "id": "9f3gcJXS9W_c",
        "outputId": "649cdf22-f19d-4eb0-f31a-abedf94b5959"
      },
      "execution_count": 2,
      "outputs": [
        {
          "output_type": "execute_result",
          "data": {
            "text/html": [
              "\n",
              "  <div id=\"df-55c7e3de-3dc8-4e49-85e1-13f7c8506d15\">\n",
              "    <div class=\"colab-df-container\">\n",
              "      <div>\n",
              "<style scoped>\n",
              "    .dataframe tbody tr th:only-of-type {\n",
              "        vertical-align: middle;\n",
              "    }\n",
              "\n",
              "    .dataframe tbody tr th {\n",
              "        vertical-align: top;\n",
              "    }\n",
              "\n",
              "    .dataframe thead th {\n",
              "        text-align: right;\n",
              "    }\n",
              "</style>\n",
              "<table border=\"1\" class=\"dataframe\">\n",
              "  <thead>\n",
              "    <tr style=\"text-align: right;\">\n",
              "      <th></th>\n",
              "      <th>BLDG_PUBID</th>\n",
              "      <th>BLDG_TYP</th>\n",
              "      <th>BLDG_US</th>\n",
              "      <th>BLDG_LOC_REGION</th>\n",
              "      <th>BLDG_NEW_REN</th>\n",
              "      <th>$BLDG_AREA_M2</th>\n",
              "      <th>$BLDG_AREA_FT2</th>\n",
              "      <th>BLDG_STOR_A</th>\n",
              "      <th>$BLDG_STOR_A</th>\n",
              "      <th>LCA_YEAR</th>\n",
              "      <th>LCA_REFPERIOD</th>\n",
              "      <th>LCA_SOUR_CODE</th>\n",
              "      <th>LCA_STAGES</th>\n",
              "      <th>LCA_BLDG_SCOPE</th>\n",
              "      <th>LCA_MAT_Q</th>\n",
              "      <th>EC_WB_EX_OPER</th>\n",
              "      <th>EC_LCAA_PERM2</th>\n",
              "    </tr>\n",
              "  </thead>\n",
              "  <tbody>\n",
              "    <tr>\n",
              "      <th>0</th>\n",
              "      <td>A00</td>\n",
              "      <td>Commercial</td>\n",
              "      <td>Mixed use</td>\n",
              "      <td>Middle East</td>\n",
              "      <td>New</td>\n",
              "      <td>46452 to 92903</td>\n",
              "      <td>500,001 to 1 million</td>\n",
              "      <td>0</td>\n",
              "      <td>More than 25</td>\n",
              "      <td>2016.0</td>\n",
              "      <td>40.0</td>\n",
              "      <td>41.0</td>\n",
              "      <td>AB</td>\n",
              "      <td>SF</td>\n",
              "      <td>Y</td>\n",
              "      <td>2567.39</td>\n",
              "      <td>2521.63</td>\n",
              "    </tr>\n",
              "    <tr>\n",
              "      <th>1</th>\n",
              "      <td>A00</td>\n",
              "      <td>Commercial</td>\n",
              "      <td>Other</td>\n",
              "      <td>North America</td>\n",
              "      <td>New</td>\n",
              "      <td>46452 to 92903</td>\n",
              "      <td>500,001 to 1 million</td>\n",
              "      <td>0</td>\n",
              "      <td>7 to 14</td>\n",
              "      <td>2016.0</td>\n",
              "      <td>40.0</td>\n",
              "      <td>41.0</td>\n",
              "      <td>AB</td>\n",
              "      <td>SF</td>\n",
              "      <td>Y</td>\n",
              "      <td>1699.34</td>\n",
              "      <td>1332.55</td>\n",
              "    </tr>\n",
              "    <tr>\n",
              "      <th>2</th>\n",
              "      <td>A00</td>\n",
              "      <td>Commercial</td>\n",
              "      <td>Office</td>\n",
              "      <td>Europe</td>\n",
              "      <td>New</td>\n",
              "      <td>46452 to 92903</td>\n",
              "      <td>500,001 to 1 million</td>\n",
              "      <td>0</td>\n",
              "      <td>More than 25</td>\n",
              "      <td>2016.0</td>\n",
              "      <td>40.0</td>\n",
              "      <td>41.0</td>\n",
              "      <td>AB</td>\n",
              "      <td>SF</td>\n",
              "      <td>Y</td>\n",
              "      <td>1303.39</td>\n",
              "      <td>1031.76</td>\n",
              "    </tr>\n",
              "    <tr>\n",
              "      <th>3</th>\n",
              "      <td>A00</td>\n",
              "      <td>Commercial</td>\n",
              "      <td>Other</td>\n",
              "      <td>North America</td>\n",
              "      <td>New</td>\n",
              "      <td>930 to 2323</td>\n",
              "      <td>10,001 to 25,000</td>\n",
              "      <td>0</td>\n",
              "      <td>1 to 6</td>\n",
              "      <td>2016.0</td>\n",
              "      <td>40.0</td>\n",
              "      <td>41.0</td>\n",
              "      <td>AB</td>\n",
              "      <td>SF</td>\n",
              "      <td>Y</td>\n",
              "      <td>1211.33</td>\n",
              "      <td>938.69</td>\n",
              "    </tr>\n",
              "    <tr>\n",
              "      <th>4</th>\n",
              "      <td>A00</td>\n",
              "      <td>Commercial</td>\n",
              "      <td>Office</td>\n",
              "      <td>Asia-Pacific</td>\n",
              "      <td>New</td>\n",
              "      <td>Over 92903</td>\n",
              "      <td>Over 1 million</td>\n",
              "      <td>0</td>\n",
              "      <td>15 to 25</td>\n",
              "      <td>2016.0</td>\n",
              "      <td>40.0</td>\n",
              "      <td>41.0</td>\n",
              "      <td>AB</td>\n",
              "      <td>SF</td>\n",
              "      <td>Y</td>\n",
              "      <td>1087.86</td>\n",
              "      <td>937.59</td>\n",
              "    </tr>\n",
              "  </tbody>\n",
              "</table>\n",
              "</div>\n",
              "      <button class=\"colab-df-convert\" onclick=\"convertToInteractive('df-55c7e3de-3dc8-4e49-85e1-13f7c8506d15')\"\n",
              "              title=\"Convert this dataframe to an interactive table.\"\n",
              "              style=\"display:none;\">\n",
              "        \n",
              "  <svg xmlns=\"http://www.w3.org/2000/svg\" height=\"24px\"viewBox=\"0 0 24 24\"\n",
              "       width=\"24px\">\n",
              "    <path d=\"M0 0h24v24H0V0z\" fill=\"none\"/>\n",
              "    <path d=\"M18.56 5.44l.94 2.06.94-2.06 2.06-.94-2.06-.94-.94-2.06-.94 2.06-2.06.94zm-11 1L8.5 8.5l.94-2.06 2.06-.94-2.06-.94L8.5 2.5l-.94 2.06-2.06.94zm10 10l.94 2.06.94-2.06 2.06-.94-2.06-.94-.94-2.06-.94 2.06-2.06.94z\"/><path d=\"M17.41 7.96l-1.37-1.37c-.4-.4-.92-.59-1.43-.59-.52 0-1.04.2-1.43.59L10.3 9.45l-7.72 7.72c-.78.78-.78 2.05 0 2.83L4 21.41c.39.39.9.59 1.41.59.51 0 1.02-.2 1.41-.59l7.78-7.78 2.81-2.81c.8-.78.8-2.07 0-2.86zM5.41 20L4 18.59l7.72-7.72 1.47 1.35L5.41 20z\"/>\n",
              "  </svg>\n",
              "      </button>\n",
              "      \n",
              "  <style>\n",
              "    .colab-df-container {\n",
              "      display:flex;\n",
              "      flex-wrap:wrap;\n",
              "      gap: 12px;\n",
              "    }\n",
              "\n",
              "    .colab-df-convert {\n",
              "      background-color: #E8F0FE;\n",
              "      border: none;\n",
              "      border-radius: 50%;\n",
              "      cursor: pointer;\n",
              "      display: none;\n",
              "      fill: #1967D2;\n",
              "      height: 32px;\n",
              "      padding: 0 0 0 0;\n",
              "      width: 32px;\n",
              "    }\n",
              "\n",
              "    .colab-df-convert:hover {\n",
              "      background-color: #E2EBFA;\n",
              "      box-shadow: 0px 1px 2px rgba(60, 64, 67, 0.3), 0px 1px 3px 1px rgba(60, 64, 67, 0.15);\n",
              "      fill: #174EA6;\n",
              "    }\n",
              "\n",
              "    [theme=dark] .colab-df-convert {\n",
              "      background-color: #3B4455;\n",
              "      fill: #D2E3FC;\n",
              "    }\n",
              "\n",
              "    [theme=dark] .colab-df-convert:hover {\n",
              "      background-color: #434B5C;\n",
              "      box-shadow: 0px 1px 3px 1px rgba(0, 0, 0, 0.15);\n",
              "      filter: drop-shadow(0px 1px 2px rgba(0, 0, 0, 0.3));\n",
              "      fill: #FFFFFF;\n",
              "    }\n",
              "  </style>\n",
              "\n",
              "      <script>\n",
              "        const buttonEl =\n",
              "          document.querySelector('#df-55c7e3de-3dc8-4e49-85e1-13f7c8506d15 button.colab-df-convert');\n",
              "        buttonEl.style.display =\n",
              "          google.colab.kernel.accessAllowed ? 'block' : 'none';\n",
              "\n",
              "        async function convertToInteractive(key) {\n",
              "          const element = document.querySelector('#df-55c7e3de-3dc8-4e49-85e1-13f7c8506d15');\n",
              "          const dataTable =\n",
              "            await google.colab.kernel.invokeFunction('convertToInteractive',\n",
              "                                                     [key], {});\n",
              "          if (!dataTable) return;\n",
              "\n",
              "          const docLinkHtml = 'Like what you see? Visit the ' +\n",
              "            '<a target=\"_blank\" href=https://colab.research.google.com/notebooks/data_table.ipynb>data table notebook</a>'\n",
              "            + ' to learn more about interactive tables.';\n",
              "          element.innerHTML = '';\n",
              "          dataTable['output_type'] = 'display_data';\n",
              "          await google.colab.output.renderOutput(dataTable, element);\n",
              "          const docLink = document.createElement('div');\n",
              "          docLink.innerHTML = docLinkHtml;\n",
              "          element.appendChild(docLink);\n",
              "        }\n",
              "      </script>\n",
              "    </div>\n",
              "  </div>\n",
              "  "
            ],
            "text/plain": [
              "  BLDG_PUBID    BLDG_TYP    BLDG_US  ... LCA_MAT_Q EC_WB_EX_OPER EC_LCAA_PERM2\n",
              "0        A00  Commercial  Mixed use  ...         Y       2567.39       2521.63\n",
              "1        A00  Commercial      Other  ...         Y       1699.34       1332.55\n",
              "2        A00  Commercial     Office  ...         Y       1303.39       1031.76\n",
              "3        A00  Commercial      Other  ...         Y       1211.33        938.69\n",
              "4        A00  Commercial     Office  ...         Y       1087.86        937.59\n",
              "\n",
              "[5 rows x 17 columns]"
            ]
          },
          "metadata": {},
          "execution_count": 2
        }
      ]
    },
    {
      "cell_type": "markdown",
      "source": [
        "Checking the types of data"
      ],
      "metadata": {
        "id": "yEvB6loZ9y7F"
      }
    },
    {
      "cell_type": "code",
      "source": [
        "df.dtypes"
      ],
      "metadata": {
        "colab": {
          "base_uri": "https://localhost:8080/"
        },
        "id": "AyauHxmS90Oc",
        "outputId": "0e008997-3798-4dc2-99cb-c3a4af0106cc"
      },
      "execution_count": 3,
      "outputs": [
        {
          "output_type": "execute_result",
          "data": {
            "text/plain": [
              "BLDG_PUBID          object\n",
              "BLDG_TYP            object\n",
              "BLDG_US             object\n",
              "BLDG_LOC_REGION     object\n",
              "BLDG_NEW_REN        object\n",
              "$BLDG_AREA_M2       object\n",
              "$BLDG_AREA_FT2      object\n",
              "BLDG_STOR_A          int64\n",
              "$BLDG_STOR_A        object\n",
              "LCA_YEAR           float64\n",
              "LCA_REFPERIOD      float64\n",
              "LCA_SOUR_CODE      float64\n",
              "LCA_STAGES          object\n",
              "LCA_BLDG_SCOPE      object\n",
              "LCA_MAT_Q           object\n",
              "EC_WB_EX_OPER      float64\n",
              "EC_LCAA_PERM2      float64\n",
              "dtype: object"
            ]
          },
          "metadata": {},
          "execution_count": 3
        }
      ]
    },
    {
      "cell_type": "markdown",
      "source": [
        "Dropping irrelevant columns"
      ],
      "metadata": {
        "id": "gSomk1cf-FeQ"
      }
    },
    {
      "cell_type": "code",
      "source": [
        "df=df.drop(['BLDG_PUBID','BLDG_STOR_A','LCA_YEAR','LCA_REFPERIOD','LCA_SOUR_CODE','LCA_STAGES','LCA_BLDG_SCOPE','LCA_MAT_Q' ],axis=1)\n",
        "df.head(5)\n"
      ],
      "metadata": {
        "colab": {
          "base_uri": "https://localhost:8080/",
          "height": 206
        },
        "id": "qrm6GpMo-Id1",
        "outputId": "2c37cc2d-9797-457c-b61e-afa80dd37ea5"
      },
      "execution_count": 4,
      "outputs": [
        {
          "output_type": "execute_result",
          "data": {
            "text/html": [
              "\n",
              "  <div id=\"df-6e292d47-7239-4a64-a02d-b1095cbe1986\">\n",
              "    <div class=\"colab-df-container\">\n",
              "      <div>\n",
              "<style scoped>\n",
              "    .dataframe tbody tr th:only-of-type {\n",
              "        vertical-align: middle;\n",
              "    }\n",
              "\n",
              "    .dataframe tbody tr th {\n",
              "        vertical-align: top;\n",
              "    }\n",
              "\n",
              "    .dataframe thead th {\n",
              "        text-align: right;\n",
              "    }\n",
              "</style>\n",
              "<table border=\"1\" class=\"dataframe\">\n",
              "  <thead>\n",
              "    <tr style=\"text-align: right;\">\n",
              "      <th></th>\n",
              "      <th>BLDG_TYP</th>\n",
              "      <th>BLDG_US</th>\n",
              "      <th>BLDG_LOC_REGION</th>\n",
              "      <th>BLDG_NEW_REN</th>\n",
              "      <th>$BLDG_AREA_M2</th>\n",
              "      <th>$BLDG_AREA_FT2</th>\n",
              "      <th>$BLDG_STOR_A</th>\n",
              "      <th>EC_WB_EX_OPER</th>\n",
              "      <th>EC_LCAA_PERM2</th>\n",
              "    </tr>\n",
              "  </thead>\n",
              "  <tbody>\n",
              "    <tr>\n",
              "      <th>0</th>\n",
              "      <td>Commercial</td>\n",
              "      <td>Mixed use</td>\n",
              "      <td>Middle East</td>\n",
              "      <td>New</td>\n",
              "      <td>46452 to 92903</td>\n",
              "      <td>500,001 to 1 million</td>\n",
              "      <td>More than 25</td>\n",
              "      <td>2567.39</td>\n",
              "      <td>2521.63</td>\n",
              "    </tr>\n",
              "    <tr>\n",
              "      <th>1</th>\n",
              "      <td>Commercial</td>\n",
              "      <td>Other</td>\n",
              "      <td>North America</td>\n",
              "      <td>New</td>\n",
              "      <td>46452 to 92903</td>\n",
              "      <td>500,001 to 1 million</td>\n",
              "      <td>7 to 14</td>\n",
              "      <td>1699.34</td>\n",
              "      <td>1332.55</td>\n",
              "    </tr>\n",
              "    <tr>\n",
              "      <th>2</th>\n",
              "      <td>Commercial</td>\n",
              "      <td>Office</td>\n",
              "      <td>Europe</td>\n",
              "      <td>New</td>\n",
              "      <td>46452 to 92903</td>\n",
              "      <td>500,001 to 1 million</td>\n",
              "      <td>More than 25</td>\n",
              "      <td>1303.39</td>\n",
              "      <td>1031.76</td>\n",
              "    </tr>\n",
              "    <tr>\n",
              "      <th>3</th>\n",
              "      <td>Commercial</td>\n",
              "      <td>Other</td>\n",
              "      <td>North America</td>\n",
              "      <td>New</td>\n",
              "      <td>930 to 2323</td>\n",
              "      <td>10,001 to 25,000</td>\n",
              "      <td>1 to 6</td>\n",
              "      <td>1211.33</td>\n",
              "      <td>938.69</td>\n",
              "    </tr>\n",
              "    <tr>\n",
              "      <th>4</th>\n",
              "      <td>Commercial</td>\n",
              "      <td>Office</td>\n",
              "      <td>Asia-Pacific</td>\n",
              "      <td>New</td>\n",
              "      <td>Over 92903</td>\n",
              "      <td>Over 1 million</td>\n",
              "      <td>15 to 25</td>\n",
              "      <td>1087.86</td>\n",
              "      <td>937.59</td>\n",
              "    </tr>\n",
              "  </tbody>\n",
              "</table>\n",
              "</div>\n",
              "      <button class=\"colab-df-convert\" onclick=\"convertToInteractive('df-6e292d47-7239-4a64-a02d-b1095cbe1986')\"\n",
              "              title=\"Convert this dataframe to an interactive table.\"\n",
              "              style=\"display:none;\">\n",
              "        \n",
              "  <svg xmlns=\"http://www.w3.org/2000/svg\" height=\"24px\"viewBox=\"0 0 24 24\"\n",
              "       width=\"24px\">\n",
              "    <path d=\"M0 0h24v24H0V0z\" fill=\"none\"/>\n",
              "    <path d=\"M18.56 5.44l.94 2.06.94-2.06 2.06-.94-2.06-.94-.94-2.06-.94 2.06-2.06.94zm-11 1L8.5 8.5l.94-2.06 2.06-.94-2.06-.94L8.5 2.5l-.94 2.06-2.06.94zm10 10l.94 2.06.94-2.06 2.06-.94-2.06-.94-.94-2.06-.94 2.06-2.06.94z\"/><path d=\"M17.41 7.96l-1.37-1.37c-.4-.4-.92-.59-1.43-.59-.52 0-1.04.2-1.43.59L10.3 9.45l-7.72 7.72c-.78.78-.78 2.05 0 2.83L4 21.41c.39.39.9.59 1.41.59.51 0 1.02-.2 1.41-.59l7.78-7.78 2.81-2.81c.8-.78.8-2.07 0-2.86zM5.41 20L4 18.59l7.72-7.72 1.47 1.35L5.41 20z\"/>\n",
              "  </svg>\n",
              "      </button>\n",
              "      \n",
              "  <style>\n",
              "    .colab-df-container {\n",
              "      display:flex;\n",
              "      flex-wrap:wrap;\n",
              "      gap: 12px;\n",
              "    }\n",
              "\n",
              "    .colab-df-convert {\n",
              "      background-color: #E8F0FE;\n",
              "      border: none;\n",
              "      border-radius: 50%;\n",
              "      cursor: pointer;\n",
              "      display: none;\n",
              "      fill: #1967D2;\n",
              "      height: 32px;\n",
              "      padding: 0 0 0 0;\n",
              "      width: 32px;\n",
              "    }\n",
              "\n",
              "    .colab-df-convert:hover {\n",
              "      background-color: #E2EBFA;\n",
              "      box-shadow: 0px 1px 2px rgba(60, 64, 67, 0.3), 0px 1px 3px 1px rgba(60, 64, 67, 0.15);\n",
              "      fill: #174EA6;\n",
              "    }\n",
              "\n",
              "    [theme=dark] .colab-df-convert {\n",
              "      background-color: #3B4455;\n",
              "      fill: #D2E3FC;\n",
              "    }\n",
              "\n",
              "    [theme=dark] .colab-df-convert:hover {\n",
              "      background-color: #434B5C;\n",
              "      box-shadow: 0px 1px 3px 1px rgba(0, 0, 0, 0.15);\n",
              "      filter: drop-shadow(0px 1px 2px rgba(0, 0, 0, 0.3));\n",
              "      fill: #FFFFFF;\n",
              "    }\n",
              "  </style>\n",
              "\n",
              "      <script>\n",
              "        const buttonEl =\n",
              "          document.querySelector('#df-6e292d47-7239-4a64-a02d-b1095cbe1986 button.colab-df-convert');\n",
              "        buttonEl.style.display =\n",
              "          google.colab.kernel.accessAllowed ? 'block' : 'none';\n",
              "\n",
              "        async function convertToInteractive(key) {\n",
              "          const element = document.querySelector('#df-6e292d47-7239-4a64-a02d-b1095cbe1986');\n",
              "          const dataTable =\n",
              "            await google.colab.kernel.invokeFunction('convertToInteractive',\n",
              "                                                     [key], {});\n",
              "          if (!dataTable) return;\n",
              "\n",
              "          const docLinkHtml = 'Like what you see? Visit the ' +\n",
              "            '<a target=\"_blank\" href=https://colab.research.google.com/notebooks/data_table.ipynb>data table notebook</a>'\n",
              "            + ' to learn more about interactive tables.';\n",
              "          element.innerHTML = '';\n",
              "          dataTable['output_type'] = 'display_data';\n",
              "          await google.colab.output.renderOutput(dataTable, element);\n",
              "          const docLink = document.createElement('div');\n",
              "          docLink.innerHTML = docLinkHtml;\n",
              "          element.appendChild(docLink);\n",
              "        }\n",
              "      </script>\n",
              "    </div>\n",
              "  </div>\n",
              "  "
            ],
            "text/plain": [
              "     BLDG_TYP    BLDG_US  ... EC_WB_EX_OPER EC_LCAA_PERM2\n",
              "0  Commercial  Mixed use  ...       2567.39       2521.63\n",
              "1  Commercial      Other  ...       1699.34       1332.55\n",
              "2  Commercial     Office  ...       1303.39       1031.76\n",
              "3  Commercial      Other  ...       1211.33        938.69\n",
              "4  Commercial     Office  ...       1087.86        937.59\n",
              "\n",
              "[5 rows x 9 columns]"
            ]
          },
          "metadata": {},
          "execution_count": 4
        }
      ]
    },
    {
      "cell_type": "code",
      "source": [
        "df.shape"
      ],
      "metadata": {
        "colab": {
          "base_uri": "https://localhost:8080/"
        },
        "id": "37SvIT8w_qkd",
        "outputId": "2133095d-3626-45d4-f3a5-c66ac1c56416"
      },
      "execution_count": 5,
      "outputs": [
        {
          "output_type": "execute_result",
          "data": {
            "text/plain": [
              "(1191, 9)"
            ]
          },
          "metadata": {},
          "execution_count": 5
        }
      ]
    },
    {
      "cell_type": "markdown",
      "source": [
        "Dublicate Check"
      ],
      "metadata": {
        "id": "JStay9QV_0PA"
      }
    },
    {
      "cell_type": "code",
      "source": [
        "duplicate_rows_df = df[df.duplicated()]\n",
        "print(\"number of duplicate rows: \", duplicate_rows_df.shape)"
      ],
      "metadata": {
        "colab": {
          "base_uri": "https://localhost:8080/"
        },
        "id": "4lKiVfvr_18v",
        "outputId": "65736d60-e6a9-4ac6-c2f7-68cccf921ef4"
      },
      "execution_count": 6,
      "outputs": [
        {
          "output_type": "stream",
          "name": "stdout",
          "text": [
            "number of duplicate rows:  (58, 9)\n"
          ]
        }
      ]
    },
    {
      "cell_type": "markdown",
      "source": [
        "Drop Dublicates"
      ],
      "metadata": {
        "id": "XT_Rxb48_9BQ"
      }
    },
    {
      "cell_type": "code",
      "source": [
        "df = df.drop_duplicates()\n",
        "df.head(5)"
      ],
      "metadata": {
        "colab": {
          "base_uri": "https://localhost:8080/",
          "height": 206
        },
        "id": "xu8j5adjABdf",
        "outputId": "6ff4da61-339c-4a7a-9b46-d55d46d9cae7"
      },
      "execution_count": 7,
      "outputs": [
        {
          "output_type": "execute_result",
          "data": {
            "text/html": [
              "\n",
              "  <div id=\"df-a9f9a3cc-e552-4694-91c1-ea2c6aad0c2e\">\n",
              "    <div class=\"colab-df-container\">\n",
              "      <div>\n",
              "<style scoped>\n",
              "    .dataframe tbody tr th:only-of-type {\n",
              "        vertical-align: middle;\n",
              "    }\n",
              "\n",
              "    .dataframe tbody tr th {\n",
              "        vertical-align: top;\n",
              "    }\n",
              "\n",
              "    .dataframe thead th {\n",
              "        text-align: right;\n",
              "    }\n",
              "</style>\n",
              "<table border=\"1\" class=\"dataframe\">\n",
              "  <thead>\n",
              "    <tr style=\"text-align: right;\">\n",
              "      <th></th>\n",
              "      <th>BLDG_TYP</th>\n",
              "      <th>BLDG_US</th>\n",
              "      <th>BLDG_LOC_REGION</th>\n",
              "      <th>BLDG_NEW_REN</th>\n",
              "      <th>$BLDG_AREA_M2</th>\n",
              "      <th>$BLDG_AREA_FT2</th>\n",
              "      <th>$BLDG_STOR_A</th>\n",
              "      <th>EC_WB_EX_OPER</th>\n",
              "      <th>EC_LCAA_PERM2</th>\n",
              "    </tr>\n",
              "  </thead>\n",
              "  <tbody>\n",
              "    <tr>\n",
              "      <th>0</th>\n",
              "      <td>Commercial</td>\n",
              "      <td>Mixed use</td>\n",
              "      <td>Middle East</td>\n",
              "      <td>New</td>\n",
              "      <td>46452 to 92903</td>\n",
              "      <td>500,001 to 1 million</td>\n",
              "      <td>More than 25</td>\n",
              "      <td>2567.39</td>\n",
              "      <td>2521.63</td>\n",
              "    </tr>\n",
              "    <tr>\n",
              "      <th>1</th>\n",
              "      <td>Commercial</td>\n",
              "      <td>Other</td>\n",
              "      <td>North America</td>\n",
              "      <td>New</td>\n",
              "      <td>46452 to 92903</td>\n",
              "      <td>500,001 to 1 million</td>\n",
              "      <td>7 to 14</td>\n",
              "      <td>1699.34</td>\n",
              "      <td>1332.55</td>\n",
              "    </tr>\n",
              "    <tr>\n",
              "      <th>2</th>\n",
              "      <td>Commercial</td>\n",
              "      <td>Office</td>\n",
              "      <td>Europe</td>\n",
              "      <td>New</td>\n",
              "      <td>46452 to 92903</td>\n",
              "      <td>500,001 to 1 million</td>\n",
              "      <td>More than 25</td>\n",
              "      <td>1303.39</td>\n",
              "      <td>1031.76</td>\n",
              "    </tr>\n",
              "    <tr>\n",
              "      <th>3</th>\n",
              "      <td>Commercial</td>\n",
              "      <td>Other</td>\n",
              "      <td>North America</td>\n",
              "      <td>New</td>\n",
              "      <td>930 to 2323</td>\n",
              "      <td>10,001 to 25,000</td>\n",
              "      <td>1 to 6</td>\n",
              "      <td>1211.33</td>\n",
              "      <td>938.69</td>\n",
              "    </tr>\n",
              "    <tr>\n",
              "      <th>4</th>\n",
              "      <td>Commercial</td>\n",
              "      <td>Office</td>\n",
              "      <td>Asia-Pacific</td>\n",
              "      <td>New</td>\n",
              "      <td>Over 92903</td>\n",
              "      <td>Over 1 million</td>\n",
              "      <td>15 to 25</td>\n",
              "      <td>1087.86</td>\n",
              "      <td>937.59</td>\n",
              "    </tr>\n",
              "  </tbody>\n",
              "</table>\n",
              "</div>\n",
              "      <button class=\"colab-df-convert\" onclick=\"convertToInteractive('df-a9f9a3cc-e552-4694-91c1-ea2c6aad0c2e')\"\n",
              "              title=\"Convert this dataframe to an interactive table.\"\n",
              "              style=\"display:none;\">\n",
              "        \n",
              "  <svg xmlns=\"http://www.w3.org/2000/svg\" height=\"24px\"viewBox=\"0 0 24 24\"\n",
              "       width=\"24px\">\n",
              "    <path d=\"M0 0h24v24H0V0z\" fill=\"none\"/>\n",
              "    <path d=\"M18.56 5.44l.94 2.06.94-2.06 2.06-.94-2.06-.94-.94-2.06-.94 2.06-2.06.94zm-11 1L8.5 8.5l.94-2.06 2.06-.94-2.06-.94L8.5 2.5l-.94 2.06-2.06.94zm10 10l.94 2.06.94-2.06 2.06-.94-2.06-.94-.94-2.06-.94 2.06-2.06.94z\"/><path d=\"M17.41 7.96l-1.37-1.37c-.4-.4-.92-.59-1.43-.59-.52 0-1.04.2-1.43.59L10.3 9.45l-7.72 7.72c-.78.78-.78 2.05 0 2.83L4 21.41c.39.39.9.59 1.41.59.51 0 1.02-.2 1.41-.59l7.78-7.78 2.81-2.81c.8-.78.8-2.07 0-2.86zM5.41 20L4 18.59l7.72-7.72 1.47 1.35L5.41 20z\"/>\n",
              "  </svg>\n",
              "      </button>\n",
              "      \n",
              "  <style>\n",
              "    .colab-df-container {\n",
              "      display:flex;\n",
              "      flex-wrap:wrap;\n",
              "      gap: 12px;\n",
              "    }\n",
              "\n",
              "    .colab-df-convert {\n",
              "      background-color: #E8F0FE;\n",
              "      border: none;\n",
              "      border-radius: 50%;\n",
              "      cursor: pointer;\n",
              "      display: none;\n",
              "      fill: #1967D2;\n",
              "      height: 32px;\n",
              "      padding: 0 0 0 0;\n",
              "      width: 32px;\n",
              "    }\n",
              "\n",
              "    .colab-df-convert:hover {\n",
              "      background-color: #E2EBFA;\n",
              "      box-shadow: 0px 1px 2px rgba(60, 64, 67, 0.3), 0px 1px 3px 1px rgba(60, 64, 67, 0.15);\n",
              "      fill: #174EA6;\n",
              "    }\n",
              "\n",
              "    [theme=dark] .colab-df-convert {\n",
              "      background-color: #3B4455;\n",
              "      fill: #D2E3FC;\n",
              "    }\n",
              "\n",
              "    [theme=dark] .colab-df-convert:hover {\n",
              "      background-color: #434B5C;\n",
              "      box-shadow: 0px 1px 3px 1px rgba(0, 0, 0, 0.15);\n",
              "      filter: drop-shadow(0px 1px 2px rgba(0, 0, 0, 0.3));\n",
              "      fill: #FFFFFF;\n",
              "    }\n",
              "  </style>\n",
              "\n",
              "      <script>\n",
              "        const buttonEl =\n",
              "          document.querySelector('#df-a9f9a3cc-e552-4694-91c1-ea2c6aad0c2e button.colab-df-convert');\n",
              "        buttonEl.style.display =\n",
              "          google.colab.kernel.accessAllowed ? 'block' : 'none';\n",
              "\n",
              "        async function convertToInteractive(key) {\n",
              "          const element = document.querySelector('#df-a9f9a3cc-e552-4694-91c1-ea2c6aad0c2e');\n",
              "          const dataTable =\n",
              "            await google.colab.kernel.invokeFunction('convertToInteractive',\n",
              "                                                     [key], {});\n",
              "          if (!dataTable) return;\n",
              "\n",
              "          const docLinkHtml = 'Like what you see? Visit the ' +\n",
              "            '<a target=\"_blank\" href=https://colab.research.google.com/notebooks/data_table.ipynb>data table notebook</a>'\n",
              "            + ' to learn more about interactive tables.';\n",
              "          element.innerHTML = '';\n",
              "          dataTable['output_type'] = 'display_data';\n",
              "          await google.colab.output.renderOutput(dataTable, element);\n",
              "          const docLink = document.createElement('div');\n",
              "          docLink.innerHTML = docLinkHtml;\n",
              "          element.appendChild(docLink);\n",
              "        }\n",
              "      </script>\n",
              "    </div>\n",
              "  </div>\n",
              "  "
            ],
            "text/plain": [
              "     BLDG_TYP    BLDG_US  ... EC_WB_EX_OPER EC_LCAA_PERM2\n",
              "0  Commercial  Mixed use  ...       2567.39       2521.63\n",
              "1  Commercial      Other  ...       1699.34       1332.55\n",
              "2  Commercial     Office  ...       1303.39       1031.76\n",
              "3  Commercial      Other  ...       1211.33        938.69\n",
              "4  Commercial     Office  ...       1087.86        937.59\n",
              "\n",
              "[5 rows x 9 columns]"
            ]
          },
          "metadata": {},
          "execution_count": 7
        }
      ]
    },
    {
      "cell_type": "code",
      "source": [
        "df.count()"
      ],
      "metadata": {
        "colab": {
          "base_uri": "https://localhost:8080/"
        },
        "id": "mM3Wq41WAF8Y",
        "outputId": "9e7f00d5-0aa5-4b58-87ec-93600dc7388d"
      },
      "execution_count": 9,
      "outputs": [
        {
          "output_type": "execute_result",
          "data": {
            "text/plain": [
              "BLDG_TYP           1120\n",
              "BLDG_US            1119\n",
              "BLDG_LOC_REGION    1002\n",
              "BLDG_NEW_REN       1117\n",
              "$BLDG_AREA_M2      1131\n",
              "$BLDG_AREA_FT2     1131\n",
              "$BLDG_STOR_A       1070\n",
              "EC_WB_EX_OPER      1124\n",
              "EC_LCAA_PERM2       988\n",
              "dtype: int64"
            ]
          },
          "metadata": {},
          "execution_count": 9
        }
      ]
    },
    {
      "cell_type": "markdown",
      "source": [
        "Dropping the missing or null values."
      ],
      "metadata": {
        "id": "1AElymS_AUrR"
      }
    },
    {
      "cell_type": "code",
      "source": [
        "print(df.isnull().sum())"
      ],
      "metadata": {
        "colab": {
          "base_uri": "https://localhost:8080/"
        },
        "id": "BfEMAUgAAVbo",
        "outputId": "9351f649-aecc-433b-f5b6-65e2b7041156"
      },
      "execution_count": 10,
      "outputs": [
        {
          "output_type": "stream",
          "name": "stdout",
          "text": [
            "BLDG_TYP            13\n",
            "BLDG_US             14\n",
            "BLDG_LOC_REGION    131\n",
            "BLDG_NEW_REN        16\n",
            "$BLDG_AREA_M2        2\n",
            "$BLDG_AREA_FT2       2\n",
            "$BLDG_STOR_A        63\n",
            "EC_WB_EX_OPER        9\n",
            "EC_LCAA_PERM2      145\n",
            "dtype: int64\n"
          ]
        }
      ]
    },
    {
      "cell_type": "code",
      "source": [
        "df = df.dropna()    # Dropping the missing values and zeros\n",
        "df.count()"
      ],
      "metadata": {
        "colab": {
          "base_uri": "https://localhost:8080/"
        },
        "id": "onKPasP1AaYo",
        "outputId": "119a0058-fa06-425d-b459-7fec6ad6c7ad"
      },
      "execution_count": 11,
      "outputs": [
        {
          "output_type": "execute_result",
          "data": {
            "text/plain": [
              "BLDG_TYP           840\n",
              "BLDG_US            840\n",
              "BLDG_LOC_REGION    840\n",
              "BLDG_NEW_REN       840\n",
              "$BLDG_AREA_M2      840\n",
              "$BLDG_AREA_FT2     840\n",
              "$BLDG_STOR_A       840\n",
              "EC_WB_EX_OPER      840\n",
              "EC_LCAA_PERM2      840\n",
              "dtype: int64"
            ]
          },
          "metadata": {},
          "execution_count": 11
        }
      ]
    },
    {
      "cell_type": "code",
      "source": [
        "print(df.isnull().sum())   # After dropping the values"
      ],
      "metadata": {
        "colab": {
          "base_uri": "https://localhost:8080/"
        },
        "id": "zf8wAmt9Auy9",
        "outputId": "567abc22-66e3-4808-84dc-1235e4989d65"
      },
      "execution_count": 12,
      "outputs": [
        {
          "output_type": "stream",
          "name": "stdout",
          "text": [
            "BLDG_TYP           0\n",
            "BLDG_US            0\n",
            "BLDG_LOC_REGION    0\n",
            "BLDG_NEW_REN       0\n",
            "$BLDG_AREA_M2      0\n",
            "$BLDG_AREA_FT2     0\n",
            "$BLDG_STOR_A       0\n",
            "EC_WB_EX_OPER      0\n",
            "EC_LCAA_PERM2      0\n",
            "dtype: int64\n"
          ]
        }
      ]
    },
    {
      "cell_type": "markdown",
      "source": [
        "Detecting Outliers"
      ],
      "metadata": {
        "id": "RUhc_h77D9Fx"
      }
    },
    {
      "cell_type": "code",
      "source": [
        "sns.boxplot(x=df['EC_WB_EX_OPER'])"
      ],
      "metadata": {
        "colab": {
          "base_uri": "https://localhost:8080/",
          "height": 302
        },
        "id": "nfJWiF9IA0lD",
        "outputId": "2b8fa307-683c-4232-a071-2cee102c7d49"
      },
      "execution_count": 13,
      "outputs": [
        {
          "output_type": "execute_result",
          "data": {
            "text/plain": [
              "<matplotlib.axes._subplots.AxesSubplot at 0x7f68574c0510>"
            ]
          },
          "metadata": {},
          "execution_count": 13
        },
        {
          "output_type": "display_data",
          "data": {
            "image/png": "[encoded data removed]",
            "text/plain": [
              "<Figure size 432x288 with 1 Axes>"
            ]
          },
          "metadata": {
            "needs_background": "light"
          }
        }
      ]
    },
    {
      "cell_type": "code",
      "source": [
        "Q1 = df.quantile(0.25)\n",
        "Q3 = df.quantile(0.75)\n",
        "IQR = Q3 - Q1\n",
        "print(IQR)"
      ],
      "metadata": {
        "colab": {
          "base_uri": "https://localhost:8080/"
        },
        "id": "MGsePHffBcwf",
        "outputId": "79bc991e-0ae9-4bb6-8793-5c2d440a41e3"
      },
      "execution_count": 14,
      "outputs": [
        {
          "output_type": "stream",
          "name": "stdout",
          "text": [
            "EC_WB_EX_OPER    21576.9575\n",
            "EC_LCAA_PERM2      286.3400\n",
            "dtype: float64\n"
          ]
        }
      ]
    },
    {
      "cell_type": "markdown",
      "source": [
        "Outliers elimination"
      ],
      "metadata": {
        "id": "cCSwCvv7Bz2Y"
      }
    },
    {
      "cell_type": "code",
      "source": [
        "df = df[~((df < (Q1 - 1.5 * IQR)) |(df > (Q3 + 1.5 * IQR))).any(axis=1)]\n",
        "df.shape"
      ],
      "metadata": {
        "colab": {
          "base_uri": "https://localhost:8080/"
        },
        "id": "uCJSaWxnBrQA",
        "outputId": "722e45c5-7f86-4c53-8620-60c9a3afade0"
      },
      "execution_count": 15,
      "outputs": [
        {
          "output_type": "stream",
          "name": "stderr",
          "text": [
            "/usr/local/lib/python3.7/dist-packages/ipykernel_launcher.py:1: FutureWarning: Automatic reindexing on DataFrame vs Series comparisons is deprecated and will raise ValueError in a future version.  Do `left, right = left.align(right, axis=1, copy=False)` before e.g. `left == right`\n",
            "  \"\"\"Entry point for launching an IPython kernel.\n"
          ]
        },
        {
          "output_type": "execute_result",
          "data": {
            "text/plain": [
              "(673, 9)"
            ]
          },
          "metadata": {},
          "execution_count": 15
        }
      ]
    },
    {
      "cell_type": "markdown",
      "source": [
        "Change Column Names"
      ],
      "metadata": {
        "id": "6w4RnViiEMGV"
      }
    },
    {
      "cell_type": "code",
      "source": [
        "df = df.rename(columns={'$BLDG_AREA_M2':'BLDG_AREA_M2','$BLDG_AREA_FT2':'BLDG_AREA_FT2','$BLDG_STOR_A':'BLDG_STOR_A'})\n",
        "df.head(5)"
      ],
      "metadata": {
        "colab": {
          "base_uri": "https://localhost:8080/",
          "height": 206
        },
        "id": "XfcnmVEfEQQ8",
        "outputId": "12420c63-8e06-45d5-ee0b-ea6cda84a8d7"
      },
      "execution_count": 20,
      "outputs": [
        {
          "output_type": "execute_result",
          "data": {
            "text/html": [
              "\n",
              "  <div id=\"df-820bf306-f619-45dc-9fe0-a1ddf7ff3f29\">\n",
              "    <div class=\"colab-df-container\">\n",
              "      <div>\n",
              "<style scoped>\n",
              "    .dataframe tbody tr th:only-of-type {\n",
              "        vertical-align: middle;\n",
              "    }\n",
              "\n",
              "    .dataframe tbody tr th {\n",
              "        vertical-align: top;\n",
              "    }\n",
              "\n",
              "    .dataframe thead th {\n",
              "        text-align: right;\n",
              "    }\n",
              "</style>\n",
              "<table border=\"1\" class=\"dataframe\">\n",
              "  <thead>\n",
              "    <tr style=\"text-align: right;\">\n",
              "      <th></th>\n",
              "      <th>BLDG_TYP</th>\n",
              "      <th>BLDG_US</th>\n",
              "      <th>BLDG_LOC_REGION</th>\n",
              "      <th>BLDG_NEW_REN</th>\n",
              "      <th>BLDG_AREA_M2</th>\n",
              "      <th>BLDG_AREA_FT2</th>\n",
              "      <th>BLDG_STOR_A</th>\n",
              "      <th>EC_WB_EX_OPER</th>\n",
              "      <th>EC_LCAA_PERM2</th>\n",
              "    </tr>\n",
              "  </thead>\n",
              "  <tbody>\n",
              "    <tr>\n",
              "      <th>3</th>\n",
              "      <td>Commercial</td>\n",
              "      <td>Other</td>\n",
              "      <td>North America</td>\n",
              "      <td>New</td>\n",
              "      <td>930 to 2323</td>\n",
              "      <td>10,001 to 25,000</td>\n",
              "      <td>1 to 6</td>\n",
              "      <td>1211.33</td>\n",
              "      <td>938.69</td>\n",
              "    </tr>\n",
              "    <tr>\n",
              "      <th>4</th>\n",
              "      <td>Commercial</td>\n",
              "      <td>Office</td>\n",
              "      <td>Asia-Pacific</td>\n",
              "      <td>New</td>\n",
              "      <td>Over 92903</td>\n",
              "      <td>Over 1 million</td>\n",
              "      <td>15 to 25</td>\n",
              "      <td>1087.86</td>\n",
              "      <td>937.59</td>\n",
              "    </tr>\n",
              "    <tr>\n",
              "      <th>5</th>\n",
              "      <td>Commercial</td>\n",
              "      <td>Office</td>\n",
              "      <td>Asia-Pacific</td>\n",
              "      <td>New</td>\n",
              "      <td>46452 to 92903</td>\n",
              "      <td>500,001 to 1 million</td>\n",
              "      <td>1 to 6</td>\n",
              "      <td>992.27</td>\n",
              "      <td>923.30</td>\n",
              "    </tr>\n",
              "    <tr>\n",
              "      <th>6</th>\n",
              "      <td>Commercial</td>\n",
              "      <td>Other</td>\n",
              "      <td>North America</td>\n",
              "      <td>New</td>\n",
              "      <td>18581 to 46451</td>\n",
              "      <td>200,001 to 500,000</td>\n",
              "      <td>1 to 6</td>\n",
              "      <td>1185.57</td>\n",
              "      <td>917.93</td>\n",
              "    </tr>\n",
              "    <tr>\n",
              "      <th>7</th>\n",
              "      <td>Commercial</td>\n",
              "      <td>Other</td>\n",
              "      <td>North America</td>\n",
              "      <td>New</td>\n",
              "      <td>18581 to 46451</td>\n",
              "      <td>200,001 to 500,000</td>\n",
              "      <td>1 to 6</td>\n",
              "      <td>1140.08</td>\n",
              "      <td>882.65</td>\n",
              "    </tr>\n",
              "  </tbody>\n",
              "</table>\n",
              "</div>\n",
              "      <button class=\"colab-df-convert\" onclick=\"convertToInteractive('df-820bf306-f619-45dc-9fe0-a1ddf7ff3f29')\"\n",
              "              title=\"Convert this dataframe to an interactive table.\"\n",
              "              style=\"display:none;\">\n",
              "        \n",
              "  <svg xmlns=\"http://www.w3.org/2000/svg\" height=\"24px\"viewBox=\"0 0 24 24\"\n",
              "       width=\"24px\">\n",
              "    <path d=\"M0 0h24v24H0V0z\" fill=\"none\"/>\n",
              "    <path d=\"M18.56 5.44l.94 2.06.94-2.06 2.06-.94-2.06-.94-.94-2.06-.94 2.06-2.06.94zm-11 1L8.5 8.5l.94-2.06 2.06-.94-2.06-.94L8.5 2.5l-.94 2.06-2.06.94zm10 10l.94 2.06.94-2.06 2.06-.94-2.06-.94-.94-2.06-.94 2.06-2.06.94z\"/><path d=\"M17.41 7.96l-1.37-1.37c-.4-.4-.92-.59-1.43-.59-.52 0-1.04.2-1.43.59L10.3 9.45l-7.72 7.72c-.78.78-.78 2.05 0 2.83L4 21.41c.39.39.9.59 1.41.59.51 0 1.02-.2 1.41-.59l7.78-7.78 2.81-2.81c.8-.78.8-2.07 0-2.86zM5.41 20L4 18.59l7.72-7.72 1.47 1.35L5.41 20z\"/>\n",
              "  </svg>\n",
              "      </button>\n",
              "      \n",
              "  <style>\n",
              "    .colab-df-container {\n",
              "      display:flex;\n",
              "      flex-wrap:wrap;\n",
              "      gap: 12px;\n",
              "    }\n",
              "\n",
              "    .colab-df-convert {\n",
              "      background-color: #E8F0FE;\n",
              "      border: none;\n",
              "      border-radius: 50%;\n",
              "      cursor: pointer;\n",
              "      display: none;\n",
              "      fill: #1967D2;\n",
              "      height: 32px;\n",
              "      padding: 0 0 0 0;\n",
              "      width: 32px;\n",
              "    }\n",
              "\n",
              "    .colab-df-convert:hover {\n",
              "      background-color: #E2EBFA;\n",
              "      box-shadow: 0px 1px 2px rgba(60, 64, 67, 0.3), 0px 1px 3px 1px rgba(60, 64, 67, 0.15);\n",
              "      fill: #174EA6;\n",
              "    }\n",
              "\n",
              "    [theme=dark] .colab-df-convert {\n",
              "      background-color: #3B4455;\n",
              "      fill: #D2E3FC;\n",
              "    }\n",
              "\n",
              "    [theme=dark] .colab-df-convert:hover {\n",
              "      background-color: #434B5C;\n",
              "      box-shadow: 0px 1px 3px 1px rgba(0, 0, 0, 0.15);\n",
              "      filter: drop-shadow(0px 1px 2px rgba(0, 0, 0, 0.3));\n",
              "      fill: #FFFFFF;\n",
              "    }\n",
              "  </style>\n",
              "\n",
              "      <script>\n",
              "        const buttonEl =\n",
              "          document.querySelector('#df-820bf306-f619-45dc-9fe0-a1ddf7ff3f29 button.colab-df-convert');\n",
              "        buttonEl.style.display =\n",
              "          google.colab.kernel.accessAllowed ? 'block' : 'none';\n",
              "\n",
              "        async function convertToInteractive(key) {\n",
              "          const element = document.querySelector('#df-820bf306-f619-45dc-9fe0-a1ddf7ff3f29');\n",
              "          const dataTable =\n",
              "            await google.colab.kernel.invokeFunction('convertToInteractive',\n",
              "                                                     [key], {});\n",
              "          if (!dataTable) return;\n",
              "\n",
              "          const docLinkHtml = 'Like what you see? Visit the ' +\n",
              "            '<a target=\"_blank\" href=https://colab.research.google.com/notebooks/data_table.ipynb>data table notebook</a>'\n",
              "            + ' to learn more about interactive tables.';\n",
              "          element.innerHTML = '';\n",
              "          dataTable['output_type'] = 'display_data';\n",
              "          await google.colab.output.renderOutput(dataTable, element);\n",
              "          const docLink = document.createElement('div');\n",
              "          docLink.innerHTML = docLinkHtml;\n",
              "          element.appendChild(docLink);\n",
              "        }\n",
              "      </script>\n",
              "    </div>\n",
              "  </div>\n",
              "  "
            ],
            "text/plain": [
              "     BLDG_TYP BLDG_US BLDG_LOC_REGION  ... BLDG_STOR_A EC_WB_EX_OPER EC_LCAA_PERM2\n",
              "3  Commercial   Other   North America  ...      1 to 6       1211.33        938.69\n",
              "4  Commercial  Office    Asia-Pacific  ...    15 to 25       1087.86        937.59\n",
              "5  Commercial  Office    Asia-Pacific  ...      1 to 6        992.27        923.30\n",
              "6  Commercial   Other   North America  ...      1 to 6       1185.57        917.93\n",
              "7  Commercial   Other   North America  ...      1 to 6       1140.08        882.65\n",
              "\n",
              "[5 rows x 9 columns]"
            ]
          },
          "metadata": {},
          "execution_count": 20
        }
      ]
    },
    {
      "cell_type": "markdown",
      "source": [
        "Add column"
      ],
      "metadata": {
        "id": "bdFlsnf8LsK2"
      }
    },
    {
      "cell_type": "code",
      "source": [
        "df['Area']=df['EC_WB_EX_OPER']*1000/df['EC_LCAA_PERM2']\n",
        "df.head(5)"
      ],
      "metadata": {
        "colab": {
          "base_uri": "https://localhost:8080/",
          "height": 250
        },
        "id": "-68kiR06LuXe",
        "outputId": "9f6728e2-3c70-4326-d281-9b80768bed58"
      },
      "execution_count": 27,
      "outputs": [
        {
          "output_type": "execute_result",
          "data": {
            "text/html": [
              "\n",
              "  <div id=\"df-5973d35c-8780-44dd-9ec3-ba67ba94c3d1\">\n",
              "    <div class=\"colab-df-container\">\n",
              "      <div>\n",
              "<style scoped>\n",
              "    .dataframe tbody tr th:only-of-type {\n",
              "        vertical-align: middle;\n",
              "    }\n",
              "\n",
              "    .dataframe tbody tr th {\n",
              "        vertical-align: top;\n",
              "    }\n",
              "\n",
              "    .dataframe thead th {\n",
              "        text-align: right;\n",
              "    }\n",
              "</style>\n",
              "<table border=\"1\" class=\"dataframe\">\n",
              "  <thead>\n",
              "    <tr style=\"text-align: right;\">\n",
              "      <th></th>\n",
              "      <th>BLDG_TYP</th>\n",
              "      <th>BLDG_US</th>\n",
              "      <th>BLDG_LOC_REGION</th>\n",
              "      <th>BLDG_NEW_REN</th>\n",
              "      <th>BLDG_AREA_M2</th>\n",
              "      <th>BLDG_AREA_FT2</th>\n",
              "      <th>BLDG_STOR_A</th>\n",
              "      <th>EC_WB_EX_OPER</th>\n",
              "      <th>EC_LCAA_PERM2</th>\n",
              "      <th>Area</th>\n",
              "    </tr>\n",
              "  </thead>\n",
              "  <tbody>\n",
              "    <tr>\n",
              "      <th>3</th>\n",
              "      <td>Commercial</td>\n",
              "      <td>Other</td>\n",
              "      <td>North America</td>\n",
              "      <td>New</td>\n",
              "      <td>930 to 2323</td>\n",
              "      <td>10,001 to 25,000</td>\n",
              "      <td>1 to 6</td>\n",
              "      <td>1211.33</td>\n",
              "      <td>938.69</td>\n",
              "      <td>1290.447326</td>\n",
              "    </tr>\n",
              "    <tr>\n",
              "      <th>4</th>\n",
              "      <td>Commercial</td>\n",
              "      <td>Office</td>\n",
              "      <td>Asia-Pacific</td>\n",
              "      <td>New</td>\n",
              "      <td>Over 92903</td>\n",
              "      <td>Over 1 million</td>\n",
              "      <td>15 to 25</td>\n",
              "      <td>1087.86</td>\n",
              "      <td>937.59</td>\n",
              "      <td>1160.272614</td>\n",
              "    </tr>\n",
              "    <tr>\n",
              "      <th>5</th>\n",
              "      <td>Commercial</td>\n",
              "      <td>Office</td>\n",
              "      <td>Asia-Pacific</td>\n",
              "      <td>New</td>\n",
              "      <td>46452 to 92903</td>\n",
              "      <td>500,001 to 1 million</td>\n",
              "      <td>1 to 6</td>\n",
              "      <td>992.27</td>\n",
              "      <td>923.30</td>\n",
              "      <td>1074.699448</td>\n",
              "    </tr>\n",
              "    <tr>\n",
              "      <th>6</th>\n",
              "      <td>Commercial</td>\n",
              "      <td>Other</td>\n",
              "      <td>North America</td>\n",
              "      <td>New</td>\n",
              "      <td>18581 to 46451</td>\n",
              "      <td>200,001 to 500,000</td>\n",
              "      <td>1 to 6</td>\n",
              "      <td>1185.57</td>\n",
              "      <td>917.93</td>\n",
              "      <td>1291.569074</td>\n",
              "    </tr>\n",
              "    <tr>\n",
              "      <th>7</th>\n",
              "      <td>Commercial</td>\n",
              "      <td>Other</td>\n",
              "      <td>North America</td>\n",
              "      <td>New</td>\n",
              "      <td>18581 to 46451</td>\n",
              "      <td>200,001 to 500,000</td>\n",
              "      <td>1 to 6</td>\n",
              "      <td>1140.08</td>\n",
              "      <td>882.65</td>\n",
              "      <td>1291.655809</td>\n",
              "    </tr>\n",
              "  </tbody>\n",
              "</table>\n",
              "</div>\n",
              "      <button class=\"colab-df-convert\" onclick=\"convertToInteractive('df-5973d35c-8780-44dd-9ec3-ba67ba94c3d1')\"\n",
              "              title=\"Convert this dataframe to an interactive table.\"\n",
              "              style=\"display:none;\">\n",
              "        \n",
              "  <svg xmlns=\"http://www.w3.org/2000/svg\" height=\"24px\"viewBox=\"0 0 24 24\"\n",
              "       width=\"24px\">\n",
              "    <path d=\"M0 0h24v24H0V0z\" fill=\"none\"/>\n",
              "    <path d=\"M18.56 5.44l.94 2.06.94-2.06 2.06-.94-2.06-.94-.94-2.06-.94 2.06-2.06.94zm-11 1L8.5 8.5l.94-2.06 2.06-.94-2.06-.94L8.5 2.5l-.94 2.06-2.06.94zm10 10l.94 2.06.94-2.06 2.06-.94-2.06-.94-.94-2.06-.94 2.06-2.06.94z\"/><path d=\"M17.41 7.96l-1.37-1.37c-.4-.4-.92-.59-1.43-.59-.52 0-1.04.2-1.43.59L10.3 9.45l-7.72 7.72c-.78.78-.78 2.05 0 2.83L4 21.41c.39.39.9.59 1.41.59.51 0 1.02-.2 1.41-.59l7.78-7.78 2.81-2.81c.8-.78.8-2.07 0-2.86zM5.41 20L4 18.59l7.72-7.72 1.47 1.35L5.41 20z\"/>\n",
              "  </svg>\n",
              "      </button>\n",
              "      \n",
              "  <style>\n",
              "    .colab-df-container {\n",
              "      display:flex;\n",
              "      flex-wrap:wrap;\n",
              "      gap: 12px;\n",
              "    }\n",
              "\n",
              "    .colab-df-convert {\n",
              "      background-color: #E8F0FE;\n",
              "      border: none;\n",
              "      border-radius: 50%;\n",
              "      cursor: pointer;\n",
              "      display: none;\n",
              "      fill: #1967D2;\n",
              "      height: 32px;\n",
              "      padding: 0 0 0 0;\n",
              "      width: 32px;\n",
              "    }\n",
              "\n",
              "    .colab-df-convert:hover {\n",
              "      background-color: #E2EBFA;\n",
              "      box-shadow: 0px 1px 2px rgba(60, 64, 67, 0.3), 0px 1px 3px 1px rgba(60, 64, 67, 0.15);\n",
              "      fill: #174EA6;\n",
              "    }\n",
              "\n",
              "    [theme=dark] .colab-df-convert {\n",
              "      background-color: #3B4455;\n",
              "      fill: #D2E3FC;\n",
              "    }\n",
              "\n",
              "    [theme=dark] .colab-df-convert:hover {\n",
              "      background-color: #434B5C;\n",
              "      box-shadow: 0px 1px 3px 1px rgba(0, 0, 0, 0.15);\n",
              "      filter: drop-shadow(0px 1px 2px rgba(0, 0, 0, 0.3));\n",
              "      fill: #FFFFFF;\n",
              "    }\n",
              "  </style>\n",
              "\n",
              "      <script>\n",
              "        const buttonEl =\n",
              "          document.querySelector('#df-5973d35c-8780-44dd-9ec3-ba67ba94c3d1 button.colab-df-convert');\n",
              "        buttonEl.style.display =\n",
              "          google.colab.kernel.accessAllowed ? 'block' : 'none';\n",
              "\n",
              "        async function convertToInteractive(key) {\n",
              "          const element = document.querySelector('#df-5973d35c-8780-44dd-9ec3-ba67ba94c3d1');\n",
              "          const dataTable =\n",
              "            await google.colab.kernel.invokeFunction('convertToInteractive',\n",
              "                                                     [key], {});\n",
              "          if (!dataTable) return;\n",
              "\n",
              "          const docLinkHtml = 'Like what you see? Visit the ' +\n",
              "            '<a target=\"_blank\" href=https://colab.research.google.com/notebooks/data_table.ipynb>data table notebook</a>'\n",
              "            + ' to learn more about interactive tables.';\n",
              "          element.innerHTML = '';\n",
              "          dataTable['output_type'] = 'display_data';\n",
              "          await google.colab.output.renderOutput(dataTable, element);\n",
              "          const docLink = document.createElement('div');\n",
              "          docLink.innerHTML = docLinkHtml;\n",
              "          element.appendChild(docLink);\n",
              "        }\n",
              "      </script>\n",
              "    </div>\n",
              "  </div>\n",
              "  "
            ],
            "text/plain": [
              "     BLDG_TYP BLDG_US  ... EC_LCAA_PERM2         Area\n",
              "3  Commercial   Other  ...        938.69  1290.447326\n",
              "4  Commercial  Office  ...        937.59  1160.272614\n",
              "5  Commercial  Office  ...        923.30  1074.699448\n",
              "6  Commercial   Other  ...        917.93  1291.569074\n",
              "7  Commercial   Other  ...        882.65  1291.655809\n",
              "\n",
              "[5 rows x 10 columns]"
            ]
          },
          "metadata": {},
          "execution_count": 27
        }
      ]
    },
    {
      "cell_type": "markdown",
      "source": [
        "Histogram---------"
      ],
      "metadata": {
        "id": "V5s6FBxVB6Tv"
      }
    },
    {
      "cell_type": "code",
      "source": [
        "df.BLDG_AREA_M2.value_counts().plot(kind='bar', figsize=(10,5))\n",
        "plt.title(\"Building Area Distribution\")\n",
        "plt.ylabel('Numbers')\n",
        "plt.xlabel('Area (m2)');"
      ],
      "metadata": {
        "colab": {
          "base_uri": "https://localhost:8080/",
          "height": 433
        },
        "id": "jlSyPao-B86P",
        "outputId": "4533d3f6-2638-4d69-8e8e-5050bcf47e56"
      },
      "execution_count": 25,
      "outputs": [
        {
          "output_type": "display_data",
          "data": {
            "image/png": "[encoded data removed]",
            "text/plain": [
              "<Figure size 720x360 with 1 Axes>"
            ]
          },
          "metadata": {
            "needs_background": "light"
          }
        }
      ]
    },
    {
      "cell_type": "code",
      "source": [
        "df.BLDG_STOR_A.value_counts().plot(kind='bar', figsize=(10,5))\n",
        "plt.title(\"Building Storey\")\n",
        "plt.ylabel('Numbers')\n",
        "plt.xlabel('Storey Nos');"
      ],
      "metadata": {
        "colab": {
          "base_uri": "https://localhost:8080/",
          "height": 419
        },
        "id": "RuPPU2FURJRZ",
        "outputId": "d1545e5a-e1c3-47d5-b596-cf4025a6ece6"
      },
      "execution_count": 33,
      "outputs": [
        {
          "output_type": "display_data",
          "data": {
            "image/png": "[encoded data removed]",
            "text/plain": [
              "<Figure size 720x360 with 1 Axes>"
            ]
          },
          "metadata": {
            "needs_background": "light"
          }
        }
      ]
    },
    {
      "cell_type": "code",
      "source": [
        "df.BLDG_US.value_counts().plot(kind='bar', figsize=(10,5))\n",
        "plt.title(\"Building Types\")\n",
        "plt.ylabel('Numbers')\n",
        "plt.xlabel('Type');"
      ],
      "metadata": {
        "colab": {
          "base_uri": "https://localhost:8080/",
          "height": 476
        },
        "id": "otj-nvprP-CH",
        "outputId": "9d6aee92-525b-4010-8dde-7344f6301cef"
      },
      "execution_count": 32,
      "outputs": [
        {
          "output_type": "display_data",
          "data": {
            "image/png": "[encoded data removed]",
            "text/plain": [
              "<Figure size 720x360 with 1 Axes>"
            ]
          },
          "metadata": {
            "needs_background": "light"
          }
        }
      ]
    },
    {
      "cell_type": "code",
      "source": [
        "df.BLDG_TYP.value_counts().plot(kind='bar', figsize=(10,5))\n",
        "plt.title(\"Building Types\")\n",
        "plt.ylabel('Numbers')\n",
        "plt.xlabel('Area (m2)');"
      ],
      "metadata": {
        "colab": {
          "base_uri": "https://localhost:8080/",
          "height": 433
        },
        "id": "ZDDdSMepQ4ke",
        "outputId": "47e56114-bfbe-43da-90b3-fd2f86b9d39d"
      },
      "execution_count": 34,
      "outputs": [
        {
          "output_type": "display_data",
          "data": {
            "image/png": "[encoded data removed]",
            "text/plain": [
              "<Figure size 720x360 with 1 Axes>"
            ]
          },
          "metadata": {
            "needs_background": "light"
          }
        }
      ]
    },
    {
      "cell_type": "markdown",
      "source": [
        "Let's check corr betweeen total carbon and unit carbon."
      ],
      "metadata": {
        "id": "oEQ7DX8sK8lp"
      }
    },
    {
      "cell_type": "code",
      "source": [
        "plt.figure(figsize=(10,5))\n",
        "c= df.corr()\n",
        "sns.heatmap(c,cmap=\"BrBG\",annot=True)"
      ],
      "metadata": {
        "colab": {
          "base_uri": "https://localhost:8080/",
          "height": 344
        },
        "id": "GNWp_PHHKtIy",
        "outputId": "62e7cecd-0c06-4a04-8730-e8bd85d6d6a5"
      },
      "execution_count": 26,
      "outputs": [
        {
          "output_type": "execute_result",
          "data": {
            "text/plain": [
              "<matplotlib.axes._subplots.AxesSubplot at 0x7f6855b40950>"
            ]
          },
          "metadata": {},
          "execution_count": 26
        },
        {
          "output_type": "display_data",
          "data": {
            "image/png": "[encoded data removed]",
            "text/plain": [
              "<Figure size 720x360 with 2 Axes>"
            ]
          },
          "metadata": {
            "needs_background": "light"
          }
        }
      ]
    },
    {
      "cell_type": "code",
      "source": [
        "fig, ax = plt.subplots(figsize=(18,6))\n",
        "ax.scatter(df['BLDG_AREA_M2'], df['EC_LCAA_PERM2'])\n",
        "ax.set_xlabel('BLDG_AREA_M2')\n",
        "ax.set_ylabel('EC_LCAA_PERM2')\n",
        "plt.show()"
      ],
      "metadata": {
        "colab": {
          "base_uri": "https://localhost:8080/",
          "height": 394
        },
        "id": "zS_hVTtsPNLo",
        "outputId": "c5a0e89f-2dc9-4563-a760-c346903bc4e5"
      },
      "execution_count": 29,
      "outputs": [
        {
          "output_type": "display_data",
          "data": {
            "image/png": "[encoded data removed]",
            "text/plain": [
              "<Figure size 1296x432 with 1 Axes>"
            ]
          },
          "metadata": {
            "needs_background": "light"
          }
        }
      ]
    },
    {
      "cell_type": "code",
      "source": [
        "fig, ax = plt.subplots(figsize=(18,6))\n",
        "ax.scatter(df['BLDG_TYP'], df['EC_LCAA_PERM2'])\n",
        "ax.set_xlabel('BLDG_TYP')\n",
        "ax.set_ylabel('EC_LCAA_PERM2')\n",
        "plt.show()"
      ],
      "metadata": {
        "colab": {
          "base_uri": "https://localhost:8080/",
          "height": 394
        },
        "id": "VJpiQ8vcQiZ-",
        "outputId": "27af028e-4b2b-4ba3-acf0-a20f9ff7b295"
      },
      "execution_count": 31,
      "outputs": [
        {
          "output_type": "display_data",
          "data": {
            "image/png": "[encoded data removed]",
            "text/plain": [
              "<Figure size 1296x432 with 1 Axes>"
            ]
          },
          "metadata": {
            "needs_background": "light"
          }
        }
      ]
    },
    {
      "cell_type": "code",
      "source": [
        "fig, ax = plt.subplots(figsize=(18,6))\n",
        "ax.scatter(df['BLDG_STOR_A'], df['EC_LCAA_PERM2'])\n",
        "ax.set_xlabel('BLDG_STOR_A')\n",
        "ax.set_ylabel('EC_LCAA_PERM2')\n",
        "plt.show()"
      ],
      "metadata": {
        "colab": {
          "base_uri": "https://localhost:8080/",
          "height": 394
        },
        "id": "OlWosNZSRgJR",
        "outputId": "7364d028-e4b3-4de4-d149-ded41664ad54"
      },
      "execution_count": 35,
      "outputs": [
        {
          "output_type": "display_data",
          "data": {
            "image/png": "[encoded data removed]",
            "text/plain": [
              "<Figure size 1296x432 with 1 Axes>"
            ]
          },
          "metadata": {
            "needs_background": "light"
          }
        }
      ]
    },
    {
      "cell_type": "markdown",
      "source": [
        "Statistical data of the data frame"
      ],
      "metadata": {
        "id": "vW0hw3NBRuG5"
      }
    },
    {
      "cell_type": "code",
      "source": [
        "df['EC_LCAA_PERM2'].describe()"
      ],
      "metadata": {
        "colab": {
          "base_uri": "https://localhost:8080/"
        },
        "id": "EXp-Nu3vRz2S",
        "outputId": "c367c7c2-10ae-4449-8da5-0d3d46d8550b"
      },
      "execution_count": 39,
      "outputs": [
        {
          "output_type": "execute_result",
          "data": {
            "text/plain": [
              "count    673.000000\n",
              "mean     374.075245\n",
              "std      192.614461\n",
              "min       10.000000\n",
              "25%      230.000000\n",
              "50%      352.000000\n",
              "75%      485.000000\n",
              "max      950.000000\n",
              "Name: EC_LCAA_PERM2, dtype: float64"
            ]
          },
          "metadata": {},
          "execution_count": 39
        }
      ]
    },
    {
      "cell_type": "code",
      "source": [
        "fig, ax = plt.subplots(figsize=(18,6))\n",
        "ax = sns.boxplot(x='BLDG_STOR_A', y='EC_LCAA_PERM2', data=df, orient=\"v\")"
      ],
      "metadata": {
        "colab": {
          "base_uri": "https://localhost:8080/",
          "height": 394
        },
        "id": "Rxi6q8iXTHEp",
        "outputId": "06ecfa14-741f-4e54-8987-9e7e231d32f3"
      },
      "execution_count": 43,
      "outputs": [
        {
          "output_type": "display_data",
          "data": {
            "image/png": "[encoded data removed]",
            "text/plain": [
              "<Figure size 1296x432 with 1 Axes>"
            ]
          },
          "metadata": {
            "needs_background": "light"
          }
        }
      ]
    },
    {
      "cell_type": "code",
      "source": [
        "fig, ax = plt.subplots(figsize=(18,6))\n",
        "ax = sns.boxplot(x='BLDG_AREA_M2', y='EC_LCAA_PERM2', data=df, orient=\"v\")"
      ],
      "metadata": {
        "colab": {
          "base_uri": "https://localhost:8080/",
          "height": 394
        },
        "id": "y5SxKUFLTc1M",
        "outputId": "5b0ed11c-6434-4426-8d28-1bb4700d34c5"
      },
      "execution_count": 44,
      "outputs": [
        {
          "output_type": "display_data",
          "data": {
            "image/png": "[encoded data removed]",
            "text/plain": [
              "<Figure size 1296x432 with 1 Axes>"
            ]
          },
          "metadata": {
            "needs_background": "light"
          }
        }
      ]
    }
  ]
}